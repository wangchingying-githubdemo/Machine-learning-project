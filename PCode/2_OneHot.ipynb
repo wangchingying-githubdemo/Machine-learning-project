{
 "cells": [
  {
   "cell_type": "markdown",
   "metadata": {},
   "source": [
    "# 2. One Hot\n",
    "\n"
   ]
  },
  {
   "cell_type": "markdown",
   "metadata": {},
   "source": [
    "Seeing as the data there are many categorical variables, we proceed to one-hot the data"
   ]
  },
  {
   "cell_type": "markdown",
   "metadata": {},
   "source": [
    "**import packages**"
   ]
  },
  {
   "cell_type": "code",
   "execution_count": 1,
   "metadata": {},
   "outputs": [],
   "source": [
    "import numpy as np\n",
    "import pandas as pd\n",
    "import pickle\n",
    "import os\n",
    "from sklearn.preprocessing import OneHotEncoder\n",
    "\n",
    "from matplotlib import pyplot as plt\n",
    "%matplotlib inline"
   ]
  },
  {
   "cell_type": "markdown",
   "metadata": {},
   "source": [
    "**set directories**"
   ]
  },
  {
   "cell_type": "code",
   "execution_count": 2,
   "metadata": {},
   "outputs": [
    {
     "name": "stdout",
     "output_type": "stream",
     "text": [
      "C:\\Users\\munch\\Documents\\Cass MSc\\Term 3\\Machine Learning\\Coursework\\PCode\n"
     ]
    }
   ],
   "source": [
    "print(os.getcwd())\n",
    "dirRawData = \"../RawData/\"\n",
    "dirPData = \"../PData/\"\n",
    "dirPOutput = \"../POutput/\""
   ]
  },
  {
   "cell_type": "markdown",
   "metadata": {},
   "source": [
    "**open data from pickle**"
   ]
  },
  {
   "cell_type": "code",
   "execution_count": 3,
   "metadata": {},
   "outputs": [],
   "source": [
    "f_name = dirPData + '01_df_all.pickle'\n",
    "\n",
    "with (open(f_name, \"rb\")) as f:\n",
    "    dict_ = pickle.load(f)\n",
    "\n",
    "    \n",
    "vars_ind_num = dict_['vars_ind_num']\n",
    "vars_ind_categorical = dict_['vars_ind_categorical']\n",
    "df_all = dict_['df_all']\n",
    "\n",
    "del f_name, dict_"
   ]
  },
  {
   "cell_type": "code",
   "execution_count": 4,
   "metadata": {},
   "outputs": [],
   "source": [
    "vars_all = df_all.columns.values\n",
    "var_dep = ['target']\n",
    "\n",
    "vars_ind = [var for var in vars_all if var not in (var_dep)]"
   ]
  },
  {
   "cell_type": "code",
   "execution_count": 5,
   "metadata": {},
   "outputs": [
    {
     "data": {
      "text/plain": [
       "(17083, 231)"
      ]
     },
     "execution_count": 5,
     "metadata": {},
     "output_type": "execute_result"
    }
   ],
   "source": [
    "vars_ind_value = df_all[vars_ind] #values of all the independent variables\n",
    "vars_ind_value.shape"
   ]
  },
  {
   "cell_type": "markdown",
   "metadata": {},
   "source": [
    "**loop to one-hot variables**"
   ]
  },
  {
   "cell_type": "code",
   "execution_count": 6,
   "metadata": {},
   "outputs": [
    {
     "name": "stdout",
     "output_type": "stream",
     "text": [
      "v_char_1\n",
      "v_char_2\n",
      "v_char_3\n",
      "v_char_4\n",
      "v_char_5\n",
      "v_char_6\n",
      "v_char_7\n",
      "v_char_8\n",
      "v_char_9\n",
      "v_char_10\n",
      "v_char_11\n",
      "v_char_12\n",
      "v_char_13\n",
      "v_char_14\n",
      "v_char_15\n",
      "v_char_16\n",
      "v_char_17\n",
      "v_char_18\n",
      "v_char_19\n",
      "v_char_20\n",
      "v_char_21\n",
      "v_char_22\n",
      "v_char_23\n",
      "v_char_24\n",
      "v_char_25\n",
      "v_char_26\n",
      "v_char_27\n",
      "v_char_28\n",
      "v_char_29\n",
      "v_char_30\n",
      "v_char_31\n",
      "v_char_32\n",
      "v_char_33\n",
      "v_char_34\n",
      "v_char_35\n",
      "v_char_36\n",
      "v_char_37\n",
      "v_char_38\n",
      "v_char_39\n",
      "v_char_40\n",
      "v_char_41\n",
      "v_char_42\n",
      "v_char_43\n",
      "v_char_44\n",
      "v_char_45\n",
      "v_char_46\n",
      "v_char_47\n",
      "v_char_48\n",
      "v_char_49\n",
      "v_char_50\n",
      "v_char_51\n",
      "v_char_52\n",
      "v_char_53\n",
      "v_char_54\n",
      "v_char_55\n",
      "v_char_56\n",
      "v_char_57\n",
      "v_char_58\n",
      "v_char_59\n",
      "v_char_60\n",
      "v_char_61\n",
      "v_char_62\n",
      "v_char_63\n",
      "v_char_64\n",
      "v_char_65\n",
      "v_char_66\n",
      "v_char_67\n",
      "v_char_68\n",
      "v_char_69\n",
      "v_char_70\n",
      "v_char_71\n",
      "v_char_72\n",
      "v_char_73\n",
      "v_char_74\n",
      "v_char_75\n",
      "v_char_76\n",
      "v_char_77\n",
      "v_char_78\n",
      "v_char_79\n",
      "v_char_80\n",
      "v_char_81\n",
      "v_char_82\n",
      "v_char_83\n",
      "v_char_84\n",
      "v_char_85\n",
      "v_char_86\n",
      "v_char_87\n",
      "v_char_88\n",
      "v_char_89\n",
      "v_char_90\n",
      "v_char_91\n",
      "v_char_92\n",
      "v_char_93\n",
      "v_char_94\n",
      "v_char_95\n",
      "v_char_96\n",
      "v_char_97\n",
      "v_char_98\n",
      "v_char_99\n",
      "v_char_100\n",
      "v_char_101\n",
      "v_char_102\n",
      "v_char_103\n",
      "v_char_104\n",
      "v_char_105\n",
      "v_char_106\n",
      "v_char_107\n",
      "v_char_108\n",
      "v_char_109\n",
      "v_char_110\n",
      "v_char_111\n",
      "v_char_112\n",
      "v_char_113\n",
      "v_char_114\n",
      "v_char_115\n",
      "v_char_116\n",
      "v_char_117\n",
      "v_char_118\n",
      "v_char_119\n",
      "v_char_120\n",
      "v_char_121\n",
      "v_char_122\n",
      "v_char_123\n"
     ]
    }
   ],
   "source": [
    "vars_ind_onehot = []\n",
    "df_all_onehot = df_all.copy()\n",
    "for col in vars_ind_categorical:\n",
    "    print(col)\n",
    "    enc_ = OneHotEncoder()\n",
    "    enc_.fit(df_all[[col]])\n",
    "    oh = enc_.transform(df_all[[col]]).toarray()\n",
    "    idx_mostFreq = np.argmax(oh.sum(axis=0))\n",
    "    oh = np.delete(oh, idx_mostFreq, axis=1)#delete most frequent unique value for particular categorical variable\n",
    "    oh_names = enc_.categories_[0]\n",
    "    oh_names = np.delete(oh_names, idx_mostFreq)\n",
    "    oh_names = col + '_X_' + oh_names\n",
    "    df_oh = pd.DataFrame(data = oh, columns = oh_names)\n",
    "    df_all_onehot = pd.concat([df_all_onehot, df_oh], axis = 1, sort = False)\n",
    "    del df_all_onehot[col]\n",
    "    vars_ind_onehot.extend(oh_names)"
   ]
  },
  {
   "cell_type": "code",
   "execution_count": 7,
   "metadata": {},
   "outputs": [
    {
     "data": {
      "text/plain": [
       "id                  int64\n",
       "v_num_1             int64\n",
       "v_num_2             int64\n",
       "v_num_3             int64\n",
       "v_num_4             int64\n",
       "v_num_5             int64\n",
       "v_num_6             int64\n",
       "v_num_7             int64\n",
       "v_num_8             int64\n",
       "v_num_9             int64\n",
       "v_num_10            int64\n",
       "v_num_11            int64\n",
       "v_num_12            int64\n",
       "v_num_13            int64\n",
       "v_num_14            int64\n",
       "v_num_15            int64\n",
       "v_num_16            int64\n",
       "v_num_17            int64\n",
       "v_num_18            int64\n",
       "v_num_19            int64\n",
       "v_num_20            int64\n",
       "v_num_21            int64\n",
       "v_num_22            int64\n",
       "v_num_23            int64\n",
       "v_num_24            int64\n",
       "v_num_25            int64\n",
       "v_num_26            int64\n",
       "v_num_27            int64\n",
       "v_num_28            int64\n",
       "v_num_29            int64\n",
       "                   ...   \n",
       "v_char_112_X_N    float64\n",
       "v_char_112_X_P    float64\n",
       "v_char_112_X_f    float64\n",
       "v_char_112_X_g    float64\n",
       "v_char_112_X_h    float64\n",
       "v_char_112_X_r    float64\n",
       "v_char_112_X_t    float64\n",
       "v_char_112_X_y    float64\n",
       "v_char_113_X_B    float64\n",
       "v_char_113_X_G    float64\n",
       "v_char_113_X_R    float64\n",
       "v_char_113_X_d    float64\n",
       "v_char_114_X_Y    float64\n",
       "v_char_115_X_Z    float64\n",
       "v_char_115_X_p    float64\n",
       "v_char_116_X_X    float64\n",
       "v_char_117_X_u    float64\n",
       "v_char_118_X_J    float64\n",
       "v_char_118_X_P    float64\n",
       "v_char_118_X_W    float64\n",
       "v_char_118_X_X    float64\n",
       "v_char_118_X_Y    float64\n",
       "v_char_118_X_a    float64\n",
       "v_char_118_X_l    float64\n",
       "v_char_118_X_p    float64\n",
       "v_char_119_X_g    float64\n",
       "v_char_120_X_b    float64\n",
       "v_char_121_X_F    float64\n",
       "v_char_122_X_X    float64\n",
       "v_char_123_X_w    float64\n",
       "Length: 489, dtype: object"
      ]
     },
     "execution_count": 7,
     "metadata": {},
     "output_type": "execute_result"
    }
   ],
   "source": [
    "df_all_onehot.dtypes"
   ]
  },
  {
   "cell_type": "code",
   "execution_count": 8,
   "metadata": {},
   "outputs": [],
   "source": [
    "#split out test and train data\n",
    "df_train_onehot = df_all_onehot[df_all_onehot['target'].isna()==False]\n",
    "df_test_onehot = df_all_onehot[df_all_onehot['target'].isna()==True]"
   ]
  },
  {
   "cell_type": "code",
   "execution_count": 9,
   "metadata": {},
   "outputs": [
    {
     "name": "stderr",
     "output_type": "stream",
     "text": [
      "C:\\Users\\munch\\Anaconda3\\lib\\site-packages\\pandas\\core\\indexing.py:362: SettingWithCopyWarning: \n",
      "A value is trying to be set on a copy of a slice from a DataFrame.\n",
      "Try using .loc[row_indexer,col_indexer] = value instead\n",
      "\n",
      "See the caveats in the documentation: http://pandas.pydata.org/pandas-docs/stable/indexing.html#indexing-view-versus-copy\n",
      "  self.obj[key] = _infer_fill_value(value)\n",
      "C:\\Users\\munch\\Anaconda3\\lib\\site-packages\\pandas\\core\\indexing.py:543: SettingWithCopyWarning: \n",
      "A value is trying to be set on a copy of a slice from a DataFrame.\n",
      "Try using .loc[row_indexer,col_indexer] = value instead\n",
      "\n",
      "See the caveats in the documentation: http://pandas.pydata.org/pandas-docs/stable/indexing.html#indexing-view-versus-copy\n",
      "  self.obj[item] = s\n"
     ]
    }
   ],
   "source": [
    "#split train data into 10 folds (0 to 9)\n",
    "rng = np.random.RandomState(2018)\n",
    "fold = rng.randint(0,10,df_train_onehot.shape[0])\n",
    "df_train_onehot.loc[:,'fold']= fold\n",
    "\n",
    "#let df_test_onehot have fold column with value 10\n",
    "df_test_onehot.loc[:,'fold']= 10\n",
    "\n",
    "#add back train and test dataframe to form a new df_all_onehot\n",
    "df_all_onehot = pd.concat([df_train_onehot, df_test_onehot],ignore_index = True, sort =False)"
   ]
  },
  {
   "cell_type": "code",
   "execution_count": 10,
   "metadata": {},
   "outputs": [],
   "source": [
    "#store dataset\n",
    "dict_ = {'df_all': df_all,\n",
    "         'df_all_onehot': df_all_onehot}\n",
    "\n",
    "f_name = dirPData + '02_df.pickle'\n",
    "\n",
    "with open(f_name, \"wb\") as f:\n",
    "    pickle.dump(dict_, f)\n",
    "    \n",
    "del f_name, dict_"
   ]
  },
  {
   "cell_type": "code",
   "execution_count": 11,
   "metadata": {},
   "outputs": [],
   "source": [
    "dict_ = {'vars_ind_num': vars_ind_num, \n",
    "         'var_dep': var_dep,\n",
    "         'vars_ind_categorical': vars_ind_categorical,\n",
    "         'vars_ind_onehot': vars_ind_onehot\n",
    "         }\n",
    "\n",
    "\n",
    "f_name = dirPData + '02_vars.pickle'\n",
    "\n",
    "with open(f_name, \"wb\") as f:\n",
    "    pickle.dump(dict_, f)\n",
    "    \n",
    "del f_name, dict_"
   ]
  },
  {
   "cell_type": "code",
   "execution_count": null,
   "metadata": {},
   "outputs": [],
   "source": []
  },
  {
   "cell_type": "code",
   "execution_count": null,
   "metadata": {},
   "outputs": [],
   "source": []
  },
  {
   "cell_type": "code",
   "execution_count": null,
   "metadata": {},
   "outputs": [],
   "source": []
  }
 ],
 "metadata": {
  "kernelspec": {
   "display_name": "Python 3",
   "language": "python",
   "name": "python3"
  },
  "language_info": {
   "codemirror_mode": {
    "name": "ipython",
    "version": 3
   },
   "file_extension": ".py",
   "mimetype": "text/x-python",
   "name": "python",
   "nbconvert_exporter": "python",
   "pygments_lexer": "ipython3",
   "version": "3.6.8"
  }
 },
 "nbformat": 4,
 "nbformat_minor": 2
}
