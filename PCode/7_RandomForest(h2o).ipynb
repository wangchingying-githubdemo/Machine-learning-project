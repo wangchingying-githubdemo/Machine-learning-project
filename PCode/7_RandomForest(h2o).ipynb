{
 "cells": [
  {
   "cell_type": "markdown",
   "metadata": {},
   "source": [
    "# 7.Random forest"
   ]
  },
  {
   "cell_type": "markdown",
   "metadata": {},
   "source": [
    "#### Import packages"
   ]
  },
  {
   "cell_type": "code",
   "execution_count": 1,
   "metadata": {},
   "outputs": [],
   "source": [
    "import os\n",
    "import numpy as np\n",
    "import pandas as pd\n",
    "import pickle\n",
    "import matplotlib.pyplot as plt\n",
    "%matplotlib inline\n",
    "\n",
    "\n",
    "import h2o\n",
    "from h2o.estimators import H2ORandomForestEstimator"
   ]
  },
  {
   "cell_type": "markdown",
   "metadata": {},
   "source": [
    "#### set directories"
   ]
  },
  {
   "cell_type": "code",
   "execution_count": 2,
   "metadata": {},
   "outputs": [
    {
     "name": "stdout",
     "output_type": "stream",
     "text": [
      "C:\\Users\\munch\\Documents\\Cass MSc\\Term 3\\Machine Learning\\Coursework\\PCode\n"
     ]
    }
   ],
   "source": [
    "print(os.getcwd())\n",
    "dirRawData = \"../RawData/\"\n",
    "dirPData = \"../PData/\"\n",
    "dirPOutput = \"../POutput/\""
   ]
  },
  {
   "cell_type": "markdown",
   "metadata": {},
   "source": [
    "#### Read csv files"
   ]
  },
  {
   "cell_type": "code",
   "execution_count": 3,
   "metadata": {},
   "outputs": [
    {
     "data": {
      "text/plain": [
       "pandas.core.frame.DataFrame"
      ]
     },
     "execution_count": 3,
     "metadata": {},
     "output_type": "execute_result"
    }
   ],
   "source": [
    "df_train = pd.read_csv(dirRawData + 'train.csv')\n",
    "df_test = pd.read_csv(dirRawData + 'test.csv')\n",
    "type(df_train)"
   ]
  },
  {
   "cell_type": "markdown",
   "metadata": {},
   "source": [
    "#### Load the data"
   ]
  },
  {
   "cell_type": "code",
   "execution_count": 4,
   "metadata": {},
   "outputs": [],
   "source": [
    "# load df_all\n",
    "#df_all = pd.read_hdf(dirPData + '02_df_all.h5', 'df_all_onehot')\n",
    "f_name = dirPData + '02_df.pickle'\n",
    "with open(f_name, \"rb\") as f:\n",
    "    dict_ = pickle.load(f)\n",
    "    \n",
    "df_all_onehot = dict_['df_all_onehot']\n",
    "\n",
    "del f_name, dict_\n",
    "\n",
    "# load the dict_ that was saved to pickle\n",
    "#dict_ = {'vars_ind': vars_ind, 'idx_design': idx_design, 'idx_test': idx_test}\n",
    "f_name = dirPData + '02_vars.pickle'\n",
    "with open(f_name, \"rb\") as f:\n",
    "    dict_ = pickle.load(f)\n",
    "    \n",
    "vars_ind_num = dict_['vars_ind_num']\n",
    "var_dep = dict_['var_dep']\n",
    "vars_ind_categorical = dict_['vars_ind_categorical']\n",
    "vars_ind_onehot = dict_['vars_ind_onehot']\n",
    "\n",
    "del f_name, dict_"
   ]
  },
  {
   "cell_type": "markdown",
   "metadata": {},
   "source": [
    "After load the data, we have \n",
    "\n",
    "df_all_onehot #complete dataframe after onehot\n",
    "\n",
    "vars_ind_num  #numerical variable's name\n",
    "\n",
    "var_dep       #'target' \n",
    "\n",
    "vars_ind_categorical # categorical variable's name\n",
    "\n",
    "vars_ind_onehot      # onehot categorical's name"
   ]
  },
  {
   "cell_type": "markdown",
   "metadata": {},
   "source": [
    "#### Functions"
   ]
  },
  {
   "cell_type": "code",
   "execution_count": 5,
   "metadata": {},
   "outputs": [],
   "source": [
    "def fn_MAE(actuals, predictions):\n",
    "    return (np.mean(np.abs(predictions - actuals)))\n",
    "\n",
    "def fn_RMSE(actuals, predictions):\n",
    "    return np.round(np.sqrt(np.mean((predictions - actuals)**2)))"
   ]
  },
  {
   "cell_type": "markdown",
   "metadata": {},
   "source": [
    "#### split data into training, validation and test folds"
   ]
  },
  {
   "cell_type": "code",
   "execution_count": 6,
   "metadata": {},
   "outputs": [],
   "source": [
    "#split train data into 10 folds (0 to 9)\n",
    "rng = np.random.RandomState(2018)\n",
    "fold = rng.randint(0,10,df_train.shape[0])\n",
    "df_train.loc[:,'fold']= fold\n",
    "\n",
    "#let df_test_onehot have fold column with value 10\n",
    "df_test.loc[:,'fold']= 10\n",
    "\n",
    "#add back train and test dataframe to form a new df_all_onehot\n",
    "df_all = pd.concat([df_train, df_test],ignore_index = True, sort =False)   #now df_all has folds"
   ]
  },
  {
   "cell_type": "code",
   "execution_count": 7,
   "metadata": {},
   "outputs": [
    {
     "data": {
      "text/plain": [
       "17083"
      ]
     },
     "execution_count": 7,
     "metadata": {},
     "output_type": "execute_result"
    }
   ],
   "source": [
    "len(df_all )"
   ]
  },
  {
   "cell_type": "code",
   "execution_count": 8,
   "metadata": {},
   "outputs": [
    {
     "data": {
      "text/plain": [
       "11962"
      ]
     },
     "execution_count": 8,
     "metadata": {},
     "output_type": "execute_result"
    }
   ],
   "source": [
    "len(df_train)"
   ]
  },
  {
   "cell_type": "code",
   "execution_count": 9,
   "metadata": {},
   "outputs": [
    {
     "data": {
      "text/plain": [
       "5121"
      ]
     },
     "execution_count": 9,
     "metadata": {},
     "output_type": "execute_result"
    }
   ],
   "source": [
    "len(df_test)"
   ]
  },
  {
   "cell_type": "code",
   "execution_count": 10,
   "metadata": {},
   "outputs": [],
   "source": [
    "idx_train  = df_all['fold'].isin(range(9))\n",
    "idx_val    = df_all['fold'].isin([9])\n",
    "idx_design = df_all['fold'].isin(range(10))\n",
    "idx_test   = df_all['fold'].isin([10])\n",
    "\n",
    "y = df_all[var_dep].values.ravel()\n",
    "y_train = y[idx_train]\n",
    "y_val = y[idx_val]\n",
    "y_design = y[idx_design]\n",
    "y_test = y[idx_test]"
   ]
  },
  {
   "cell_type": "code",
   "execution_count": null,
   "metadata": {},
   "outputs": [],
   "source": []
  },
  {
   "cell_type": "code",
   "execution_count": 11,
   "metadata": {},
   "outputs": [],
   "source": [
    "vars_ind = vars_ind_categorical + vars_ind_num"
   ]
  },
  {
   "cell_type": "code",
   "execution_count": 12,
   "metadata": {},
   "outputs": [
    {
     "name": "stdout",
     "output_type": "stream",
     "text": [
      "Checking whether there is an H2O instance running at http://localhost:54321..... not found.\n",
      "Attempting to start a local H2O server...\n",
      "; OpenJDK 64-Bit Server VM (build 25.152-b12, mixed mode)56-b12)\n",
      "  Starting server from C:\\Users\\munch\\Anaconda3\\lib\\site-packages\\h2o\\backend\\bin\\h2o.jar\n",
      "  Ice root: C:\\Users\\munch\\AppData\\Local\\Temp\\tmpegggm3ty\n",
      "  JVM stdout: C:\\Users\\munch\\AppData\\Local\\Temp\\tmpegggm3ty\\h2o_munch_started_from_python.out\n",
      "  JVM stderr: C:\\Users\\munch\\AppData\\Local\\Temp\\tmpegggm3ty\\h2o_munch_started_from_python.err\n",
      "  Server is running at http://127.0.0.1:54321\n",
      "Connecting to H2O server at http://127.0.0.1:54321... successful.\n",
      "Warning: Your H2O cluster version is too old (5 months and 22 days)! Please download and install the latest version from http://h2o.ai/download/\n"
     ]
    },
    {
     "data": {
      "text/html": [
       "<div style=\"overflow:auto\"><table style=\"width:50%\"><tr><td>H2O cluster uptime:</td>\n",
       "<td>04 secs</td></tr>\n",
       "<tr><td>H2O cluster timezone:</td>\n",
       "<td>Europe/London</td></tr>\n",
       "<tr><td>H2O data parsing timezone:</td>\n",
       "<td>UTC</td></tr>\n",
       "<tr><td>H2O cluster version:</td>\n",
       "<td>3.22.1.2</td></tr>\n",
       "<tr><td>H2O cluster version age:</td>\n",
       "<td>5 months and 22 days !!!</td></tr>\n",
       "<tr><td>H2O cluster name:</td>\n",
       "<td>H2O_from_python_munch_ngysce</td></tr>\n",
       "<tr><td>H2O cluster total nodes:</td>\n",
       "<td>1</td></tr>\n",
       "<tr><td>H2O cluster free memory:</td>\n",
       "<td>3.531 Gb</td></tr>\n",
       "<tr><td>H2O cluster total cores:</td>\n",
       "<td>8</td></tr>\n",
       "<tr><td>H2O cluster allowed cores:</td>\n",
       "<td>8</td></tr>\n",
       "<tr><td>H2O cluster status:</td>\n",
       "<td>accepting new members, healthy</td></tr>\n",
       "<tr><td>H2O connection url:</td>\n",
       "<td>http://127.0.0.1:54321</td></tr>\n",
       "<tr><td>H2O connection proxy:</td>\n",
       "<td>None</td></tr>\n",
       "<tr><td>H2O internal security:</td>\n",
       "<td>False</td></tr>\n",
       "<tr><td>H2O API Extensions:</td>\n",
       "<td>Algos, AutoML, Core V3, Core V4</td></tr>\n",
       "<tr><td>Python version:</td>\n",
       "<td>3.6.8 final</td></tr></table></div>"
      ],
      "text/plain": [
       "--------------------------  -------------------------------\n",
       "H2O cluster uptime:         04 secs\n",
       "H2O cluster timezone:       Europe/London\n",
       "H2O data parsing timezone:  UTC\n",
       "H2O cluster version:        3.22.1.2\n",
       "H2O cluster version age:    5 months and 22 days !!!\n",
       "H2O cluster name:           H2O_from_python_munch_ngysce\n",
       "H2O cluster total nodes:    1\n",
       "H2O cluster free memory:    3.531 Gb\n",
       "H2O cluster total cores:    8\n",
       "H2O cluster allowed cores:  8\n",
       "H2O cluster status:         accepting new members, healthy\n",
       "H2O connection url:         http://127.0.0.1:54321\n",
       "H2O connection proxy:\n",
       "H2O internal security:      False\n",
       "H2O API Extensions:         Algos, AutoML, Core V3, Core V4\n",
       "Python version:             3.6.8 final\n",
       "--------------------------  -------------------------------"
      ]
     },
     "metadata": {},
     "output_type": "display_data"
    }
   ],
   "source": [
    "h2o.init()"
   ]
  },
  {
   "cell_type": "code",
   "execution_count": 13,
   "metadata": {},
   "outputs": [
    {
     "name": "stdout",
     "output_type": "stream",
     "text": [
      "Parse progress: |█████████████████████████████████████████████████████████| 100%\n"
     ]
    }
   ],
   "source": [
    "h2o_df_all = h2o.H2OFrame(df_all[vars_ind + var_dep + ['fold']],\n",
    "                         destination_frame = 'df_all')"
   ]
  },
  {
   "cell_type": "code",
   "execution_count": 14,
   "metadata": {},
   "outputs": [
    {
     "data": {
      "text/html": [
       "<table>\n",
       "<thead>\n",
       "<tr><th>v_char_1  </th><th>v_char_2  </th><th>v_char_3  </th><th>v_char_4  </th><th>v_char_5  </th><th>v_char_6  </th><th>v_char_7  </th><th>v_char_8  </th><th>v_char_9  </th><th>v_char_10  </th><th>v_char_11  </th><th>v_char_12  </th><th>v_char_13  </th><th>v_char_14  </th><th>v_char_15  </th><th>v_char_16  </th><th>v_char_17  </th><th>v_char_18  </th><th>v_char_19  </th><th>v_char_20  </th><th>v_char_21  </th><th>v_char_22  </th><th>v_char_23  </th><th>v_char_24  </th><th>v_char_25  </th><th>v_char_26  </th><th>v_char_27  </th><th>v_char_28  </th><th>v_char_29  </th><th>v_char_30  </th><th>v_char_31  </th><th>v_char_32  </th><th>v_char_33  </th><th>v_char_34  </th><th>v_char_35  </th><th>v_char_36  </th><th>v_char_37  </th><th>v_char_38  </th><th>v_char_39  </th><th>v_char_40  </th><th>v_char_41  </th><th>v_char_42  </th><th>v_char_43  </th><th>v_char_44  </th><th>v_char_45  </th><th>v_char_46  </th><th>v_char_47  </th><th>v_char_48  </th><th>v_char_49  </th><th>v_char_50  </th><th>v_char_51  </th><th>v_char_52  </th><th>v_char_53  </th><th>v_char_54  </th><th>v_char_55  </th><th>v_char_56  </th><th>v_char_57  </th><th>v_char_58  </th><th>v_char_59  </th><th>v_char_60  </th><th>v_char_61  </th><th>v_char_62  </th><th>v_char_63  </th><th>v_char_64  </th><th>v_char_65  </th><th>v_char_66  </th><th>v_char_67  </th><th>v_char_68  </th><th>v_char_69  </th><th>v_char_70  </th><th>v_char_71  </th><th>v_char_72  </th><th>v_char_73  </th><th>v_char_74  </th><th>v_char_75  </th><th>v_char_76  </th><th>v_char_77  </th><th>v_char_78  </th><th>v_char_79  </th><th>v_char_80  </th><th>v_char_81  </th><th>v_char_82  </th><th>v_char_83  </th><th>v_char_84  </th><th>v_char_85  </th><th>v_char_86  </th><th>v_char_87  </th><th>v_char_88  </th><th>v_char_89  </th><th>v_char_90  </th><th>v_char_91  </th><th>v_char_92  </th><th>v_char_93  </th><th>v_char_94  </th><th>v_char_95  </th><th>v_char_96  </th><th>v_char_97  </th><th>v_char_98  </th><th>v_char_99  </th><th>v_char_100  </th><th>v_char_101  </th><th>v_char_102  </th><th>v_char_103  </th><th>v_char_104  </th><th>v_char_105  </th><th>v_char_106  </th><th>v_char_107  </th><th>v_char_108  </th><th>v_char_109  </th><th>v_char_110  </th><th>v_char_111  </th><th>v_char_112  </th><th>v_char_113  </th><th>v_char_114  </th><th>v_char_115  </th><th>v_char_116  </th><th>v_char_117  </th><th>v_char_118  </th><th>v_char_119  </th><th>v_char_120  </th><th>v_char_121  </th><th>v_char_122  </th><th>v_char_123  </th><th style=\"text-align: right;\">  id</th><th style=\"text-align: right;\">  v_num_1</th><th style=\"text-align: right;\">  v_num_2</th><th style=\"text-align: right;\">  v_num_3</th><th style=\"text-align: right;\">  v_num_4</th><th style=\"text-align: right;\">  v_num_5</th><th style=\"text-align: right;\">  v_num_6</th><th style=\"text-align: right;\">  v_num_7</th><th style=\"text-align: right;\">  v_num_8</th><th style=\"text-align: right;\">  v_num_9</th><th style=\"text-align: right;\">  v_num_10</th><th style=\"text-align: right;\">  v_num_11</th><th style=\"text-align: right;\">  v_num_12</th><th style=\"text-align: right;\">  v_num_13</th><th style=\"text-align: right;\">  v_num_14</th><th style=\"text-align: right;\">  v_num_15</th><th style=\"text-align: right;\">  v_num_16</th><th style=\"text-align: right;\">  v_num_17</th><th style=\"text-align: right;\">  v_num_18</th><th style=\"text-align: right;\">  v_num_19</th><th style=\"text-align: right;\">  v_num_20</th><th style=\"text-align: right;\">  v_num_21</th><th style=\"text-align: right;\">  v_num_22</th><th style=\"text-align: right;\">  v_num_23</th><th style=\"text-align: right;\">  v_num_24</th><th style=\"text-align: right;\">  v_num_25</th><th style=\"text-align: right;\">  v_num_26</th><th style=\"text-align: right;\">  v_num_27</th><th style=\"text-align: right;\">  v_num_28</th><th style=\"text-align: right;\">  v_num_29</th><th style=\"text-align: right;\">  v_num_30</th><th style=\"text-align: right;\">  v_num_31</th><th style=\"text-align: right;\">  v_num_33</th><th style=\"text-align: right;\">  v_num_34</th><th style=\"text-align: right;\">  v_num_35</th><th style=\"text-align: right;\">  v_num_36</th><th style=\"text-align: right;\">  v_num_37</th><th style=\"text-align: right;\">  v_num_38</th><th style=\"text-align: right;\">  v_num_39</th><th style=\"text-align: right;\">  v_num_40</th><th style=\"text-align: right;\">  v_num_41</th><th style=\"text-align: right;\">  v_num_42</th><th style=\"text-align: right;\">  v_num_43</th><th style=\"text-align: right;\">  v_num_44</th><th style=\"text-align: right;\">  v_num_45</th><th style=\"text-align: right;\">  v_num_46</th><th style=\"text-align: right;\">  v_num_47</th><th style=\"text-align: right;\">  v_num_48</th><th style=\"text-align: right;\">  v_num_49</th><th style=\"text-align: right;\">  v_num_50</th><th style=\"text-align: right;\">  v_num_51</th><th style=\"text-align: right;\">  v_num_52</th><th style=\"text-align: right;\">  v_num_53</th><th style=\"text-align: right;\">  v_num_54</th><th style=\"text-align: right;\">  v_num_55</th><th style=\"text-align: right;\">  v_num_56</th><th style=\"text-align: right;\">  v_num_57</th><th style=\"text-align: right;\">  v_num_58</th><th style=\"text-align: right;\">  v_num_59</th><th style=\"text-align: right;\">  v_num_60</th><th style=\"text-align: right;\">  v_num_61</th><th style=\"text-align: right;\">  v_num_62</th><th style=\"text-align: right;\">  v_num_63</th><th style=\"text-align: right;\">  v_num_64</th><th style=\"text-align: right;\">  v_num_65</th><th style=\"text-align: right;\">  v_num_66</th><th style=\"text-align: right;\">  v_num_67</th><th style=\"text-align: right;\">  v_num_68</th><th style=\"text-align: right;\">  v_num_69</th><th style=\"text-align: right;\">  v_num_70</th><th style=\"text-align: right;\">  v_num_71</th><th style=\"text-align: right;\">  v_num_72</th><th style=\"text-align: right;\">  v_num_73</th><th style=\"text-align: right;\">  v_num_74</th><th style=\"text-align: right;\">  v_num_75</th><th style=\"text-align: right;\">  v_num_76</th><th style=\"text-align: right;\">  v_num_77</th></tr>\n",
       "</thead>\n",
       "<tbody>\n",
       "<tr><td>G         </td><td>V         </td><td>q         </td><td>S         </td><td>Q         </td><td>K         </td><td>Q         </td><td>d         </td><td>Y         </td><td>V          </td><td>T          </td><td>n          </td><td>u          </td><td>h          </td><td>C          </td><td>K          </td><td>N          </td><td>o          </td><td>I          </td><td>Q          </td><td>S          </td><td>F          </td><td>U          </td><td>x          </td><td>r          </td><td>V          </td><td>j          </td><td>U          </td><td>G          </td><td>e          </td><td>t          </td><td>D          </td><td>p          </td><td>n          </td><td>X          </td><td>Q          </td><td>U          </td><td>d          </td><td>Q          </td><td>W          </td><td>p          </td><td>q          </td><td>p          </td><td>k          </td><td>R          </td><td>e          </td><td>A          </td><td>O          </td><td>s          </td><td>F          </td><td>b          </td><td>E          </td><td>h          </td><td>b          </td><td>a          </td><td>I          </td><td>N          </td><td>P          </td><td>E          </td><td>E          </td><td>u          </td><td>D          </td><td>y          </td><td>P          </td><td>R          </td><td>B          </td><td>d          </td><td>m          </td><td>e          </td><td>h          </td><td>p          </td><td>o          </td><td>w          </td><td>S          </td><td>q          </td><td>l          </td><td>K          </td><td>b          </td><td>G          </td><td>w          </td><td>D          </td><td>c          </td><td>h          </td><td>Y          </td><td>E          </td><td>f          </td><td>E          </td><td>L          </td><td>l          </td><td>d          </td><td>M          </td><td>f          </td><td>a          </td><td>R          </td><td>M          </td><td>u          </td><td>a          </td><td>E          </td><td>f          </td><td>q           </td><td>T           </td><td>F           </td><td>a           </td><td>t           </td><td>h           </td><td>Q           </td><td>Z           </td><td>P           </td><td>C           </td><td>q           </td><td>e           </td><td>M           </td><td>h           </td><td>D           </td><td>p           </td><td>n           </td><td>s           </td><td>a           </td><td>z           </td><td>q           </td><td>j           </td><td>W           </td><td>n           </td><td style=\"text-align: right;\">   1</td><td style=\"text-align: right;\">        0</td><td style=\"text-align: right;\">        0</td><td style=\"text-align: right;\">        8</td><td style=\"text-align: right;\">        1</td><td style=\"text-align: right;\">       14</td><td style=\"text-align: right;\">        0</td><td style=\"text-align: right;\">        7</td><td style=\"text-align: right;\">        0</td><td style=\"text-align: right;\">        1</td><td style=\"text-align: right;\">         6</td><td style=\"text-align: right;\">         1</td><td style=\"text-align: right;\">         0</td><td style=\"text-align: right;\">         0</td><td style=\"text-align: right;\">         1</td><td style=\"text-align: right;\">         3</td><td style=\"text-align: right;\">         9</td><td style=\"text-align: right;\">         1</td><td style=\"text-align: right;\">         3</td><td style=\"text-align: right;\">         0</td><td style=\"text-align: right;\">        11</td><td style=\"text-align: right;\">         2</td><td style=\"text-align: right;\">         0</td><td style=\"text-align: right;\">         3</td><td style=\"text-align: right;\">        -1</td><td style=\"text-align: right;\">         1</td><td style=\"text-align: right;\">         0</td><td style=\"text-align: right;\">         3</td><td style=\"text-align: right;\">        18</td><td style=\"text-align: right;\">         1</td><td style=\"text-align: right;\">         1</td><td style=\"text-align: right;\">         7</td><td style=\"text-align: right;\">         2</td><td style=\"text-align: right;\">         0</td><td style=\"text-align: right;\">         1</td><td style=\"text-align: right;\">        20</td><td style=\"text-align: right;\">         0</td><td style=\"text-align: right;\">        10</td><td style=\"text-align: right;\">        10</td><td style=\"text-align: right;\">         0</td><td style=\"text-align: right;\">         0</td><td style=\"text-align: right;\">         7</td><td style=\"text-align: right;\">         0</td><td style=\"text-align: right;\">        11</td><td style=\"text-align: right;\">         0</td><td style=\"text-align: right;\">         0</td><td style=\"text-align: right;\">         0</td><td style=\"text-align: right;\">         0</td><td style=\"text-align: right;\">         0</td><td style=\"text-align: right;\">         4</td><td style=\"text-align: right;\">        13</td><td style=\"text-align: right;\">         3</td><td style=\"text-align: right;\">         7</td><td style=\"text-align: right;\">        12</td><td style=\"text-align: right;\">         7</td><td style=\"text-align: right;\">         1</td><td style=\"text-align: right;\">         1</td><td style=\"text-align: right;\">         0</td><td style=\"text-align: right;\">         3</td><td style=\"text-align: right;\">         3</td><td style=\"text-align: right;\">         7</td><td style=\"text-align: right;\">        12</td><td style=\"text-align: right;\">         0</td><td style=\"text-align: right;\">         1</td><td style=\"text-align: right;\">         0</td><td style=\"text-align: right;\">        -1</td><td style=\"text-align: right;\">         1</td><td style=\"text-align: right;\">        11</td><td style=\"text-align: right;\">        12</td><td style=\"text-align: right;\">         7</td><td style=\"text-align: right;\">         1</td><td style=\"text-align: right;\">         2</td><td style=\"text-align: right;\">         0</td><td style=\"text-align: right;\">         1</td><td style=\"text-align: right;\">         5</td><td style=\"text-align: right;\">         1</td><td style=\"text-align: right;\">         1</td></tr>\n",
       "<tr><td>G         </td><td>I         </td><td>q         </td><td>S         </td><td>Q         </td><td>i         </td><td>Q         </td><td>d         </td><td>I         </td><td>p          </td><td>B          </td><td>v          </td><td>u          </td><td>h          </td><td>C          </td><td>K          </td><td>N          </td><td>f          </td><td>I          </td><td>g          </td><td>S          </td><td>F          </td><td>U          </td><td>x          </td><td>r          </td><td>S          </td><td>j          </td><td>N          </td><td>G          </td><td>e          </td><td>t          </td><td>v          </td><td>p          </td><td>f          </td><td>X          </td><td>o          </td><td>U          </td><td>H          </td><td>Q          </td><td>W          </td><td>j          </td><td>j          </td><td>T          </td><td>N          </td><td>J          </td><td>H          </td><td>j          </td><td>p          </td><td>s          </td><td>F          </td><td>b          </td><td>E          </td><td>B          </td><td>i          </td><td>a          </td><td>I          </td><td>N          </td><td>S          </td><td>o          </td><td>E          </td><td>O          </td><td>B          </td><td>m          </td><td>U          </td><td>R          </td><td>O          </td><td>d          </td><td>X          </td><td>Q          </td><td>F          </td><td>p          </td><td>T          </td><td>c          </td><td>n          </td><td>p          </td><td>l          </td><td>K          </td><td>s          </td><td>C          </td><td>l          </td><td>D          </td><td>c          </td><td>h          </td><td>q          </td><td>E          </td><td>f          </td><td>E          </td><td>L          </td><td>i          </td><td>H          </td><td>M          </td><td>Q          </td><td>a          </td><td>E          </td><td>M          </td><td>u          </td><td>a          </td><td>E          </td><td>f          </td><td>q           </td><td>v           </td><td>F           </td><td>a           </td><td>t           </td><td>i           </td><td>H           </td><td>Z           </td><td>P           </td><td>s           </td><td>q           </td><td>q           </td><td>f           </td><td>h           </td><td>D           </td><td>F           </td><td>n           </td><td>s           </td><td>d           </td><td>z           </td><td>q           </td><td>j           </td><td>W           </td><td>n           </td><td style=\"text-align: right;\">   2</td><td style=\"text-align: right;\">        0</td><td style=\"text-align: right;\">       19</td><td style=\"text-align: right;\">        5</td><td style=\"text-align: right;\">        0</td><td style=\"text-align: right;\">        1</td><td style=\"text-align: right;\">        0</td><td style=\"text-align: right;\">        1</td><td style=\"text-align: right;\">        0</td><td style=\"text-align: right;\">        1</td><td style=\"text-align: right;\">        11</td><td style=\"text-align: right;\">        -2</td><td style=\"text-align: right;\">         0</td><td style=\"text-align: right;\">         0</td><td style=\"text-align: right;\">        -2</td><td style=\"text-align: right;\">        -2</td><td style=\"text-align: right;\">         1</td><td style=\"text-align: right;\">         1</td><td style=\"text-align: right;\">         0</td><td style=\"text-align: right;\">         0</td><td style=\"text-align: right;\">         2</td><td style=\"text-align: right;\">        10</td><td style=\"text-align: right;\">         0</td><td style=\"text-align: right;\">        15</td><td style=\"text-align: right;\">        -2</td><td style=\"text-align: right;\">         1</td><td style=\"text-align: right;\">         0</td><td style=\"text-align: right;\">        -1</td><td style=\"text-align: right;\">        15</td><td style=\"text-align: right;\">        -2</td><td style=\"text-align: right;\">         1</td><td style=\"text-align: right;\">         5</td><td style=\"text-align: right;\">         1</td><td style=\"text-align: right;\">         0</td><td style=\"text-align: right;\">         4</td><td style=\"text-align: right;\">         3</td><td style=\"text-align: right;\">         6</td><td style=\"text-align: right;\">         5</td><td style=\"text-align: right;\">        19</td><td style=\"text-align: right;\">         0</td><td style=\"text-align: right;\">         0</td><td style=\"text-align: right;\">         3</td><td style=\"text-align: right;\">        10</td><td style=\"text-align: right;\">         5</td><td style=\"text-align: right;\">         0</td><td style=\"text-align: right;\">         0</td><td style=\"text-align: right;\">         0</td><td style=\"text-align: right;\">         0</td><td style=\"text-align: right;\">         8</td><td style=\"text-align: right;\">         0</td><td style=\"text-align: right;\">        -2</td><td style=\"text-align: right;\">         8</td><td style=\"text-align: right;\">         3</td><td style=\"text-align: right;\">         1</td><td style=\"text-align: right;\">         3</td><td style=\"text-align: right;\">         1</td><td style=\"text-align: right;\">        12</td><td style=\"text-align: right;\">         0</td><td style=\"text-align: right;\">         1</td><td style=\"text-align: right;\">        -2</td><td style=\"text-align: right;\">         2</td><td style=\"text-align: right;\">         2</td><td style=\"text-align: right;\">         3</td><td style=\"text-align: right;\">        -2</td><td style=\"text-align: right;\">        13</td><td style=\"text-align: right;\">        20</td><td style=\"text-align: right;\">         1</td><td style=\"text-align: right;\">        -2</td><td style=\"text-align: right;\">         1</td><td style=\"text-align: right;\">         1</td><td style=\"text-align: right;\">         1</td><td style=\"text-align: right;\">         2</td><td style=\"text-align: right;\">         0</td><td style=\"text-align: right;\">         1</td><td style=\"text-align: right;\">        18</td><td style=\"text-align: right;\">         1</td><td style=\"text-align: right;\">         0</td></tr>\n",
       "<tr><td>G         </td><td>I         </td><td>L         </td><td>S         </td><td>Q         </td><td>L         </td><td>Q         </td><td>h         </td><td>I         </td><td>p          </td><td>T          </td><td>M          </td><td>u          </td><td>h          </td><td>C          </td><td>q          </td><td>N          </td><td>f          </td><td>I          </td><td>g          </td><td>w          </td><td>g          </td><td>U          </td><td>q          </td><td>r          </td><td>V          </td><td>H          </td><td>N          </td><td>G          </td><td>e          </td><td>t          </td><td>v          </td><td>p          </td><td>f          </td><td>X          </td><td>Q          </td><td>U          </td><td>H          </td><td>e          </td><td>W          </td><td>p          </td><td>j          </td><td>E          </td><td>C          </td><td>R          </td><td>H          </td><td>j          </td><td>p          </td><td>s          </td><td>F          </td><td>b          </td><td>E          </td><td>B          </td><td>i          </td><td>a          </td><td>Y          </td><td>S          </td><td>P          </td><td>o          </td><td>E          </td><td>a          </td><td>i          </td><td>m          </td><td>U          </td><td>b          </td><td>C          </td><td>J          </td><td>X          </td><td>Q          </td><td>F          </td><td>p          </td><td>T          </td><td>F          </td><td>n          </td><td>p          </td><td>l          </td><td>P          </td><td>s          </td><td>C          </td><td>l          </td><td>D          </td><td>c          </td><td>h          </td><td>q          </td><td>X          </td><td>i          </td><td>E          </td><td>L          </td><td>i          </td><td>H          </td><td>M          </td><td>Q          </td><td>M          </td><td>E          </td><td>M          </td><td>q          </td><td>a          </td><td>E          </td><td>Y          </td><td>q           </td><td>T           </td><td>F           </td><td>I           </td><td>t           </td><td>h           </td><td>H           </td><td>F           </td><td>P           </td><td>s           </td><td>q           </td><td>q           </td><td>f           </td><td>B           </td><td>D           </td><td>F           </td><td>n           </td><td>s           </td><td>d           </td><td>z           </td><td>q           </td><td>j           </td><td>W           </td><td>n           </td><td style=\"text-align: right;\">   3</td><td style=\"text-align: right;\">        0</td><td style=\"text-align: right;\">        0</td><td style=\"text-align: right;\">        8</td><td style=\"text-align: right;\">        0</td><td style=\"text-align: right;\">        3</td><td style=\"text-align: right;\">        0</td><td style=\"text-align: right;\">        7</td><td style=\"text-align: right;\">        1</td><td style=\"text-align: right;\">        1</td><td style=\"text-align: right;\">         3</td><td style=\"text-align: right;\">        -2</td><td style=\"text-align: right;\">         0</td><td style=\"text-align: right;\">         0</td><td style=\"text-align: right;\">        -2</td><td style=\"text-align: right;\">        -2</td><td style=\"text-align: right;\">        10</td><td style=\"text-align: right;\">         1</td><td style=\"text-align: right;\">        10</td><td style=\"text-align: right;\">         0</td><td style=\"text-align: right;\">         5</td><td style=\"text-align: right;\">         3</td><td style=\"text-align: right;\">         0</td><td style=\"text-align: right;\">         3</td><td style=\"text-align: right;\">        -2</td><td style=\"text-align: right;\">         1</td><td style=\"text-align: right;\">         0</td><td style=\"text-align: right;\">        -1</td><td style=\"text-align: right;\">        12</td><td style=\"text-align: right;\">        -2</td><td style=\"text-align: right;\">         1</td><td style=\"text-align: right;\">        10</td><td style=\"text-align: right;\">         1</td><td style=\"text-align: right;\">         0</td><td style=\"text-align: right;\">         2</td><td style=\"text-align: right;\">        10</td><td style=\"text-align: right;\">         0</td><td style=\"text-align: right;\">         2</td><td style=\"text-align: right;\">         4</td><td style=\"text-align: right;\">         0</td><td style=\"text-align: right;\">         0</td><td style=\"text-align: right;\">        10</td><td style=\"text-align: right;\">         0</td><td style=\"text-align: right;\">         7</td><td style=\"text-align: right;\">         0</td><td style=\"text-align: right;\">         0</td><td style=\"text-align: right;\">         0</td><td style=\"text-align: right;\">         0</td><td style=\"text-align: right;\">         0</td><td style=\"text-align: right;\">         4</td><td style=\"text-align: right;\">        -2</td><td style=\"text-align: right;\">         1</td><td style=\"text-align: right;\">        10</td><td style=\"text-align: right;\">         6</td><td style=\"text-align: right;\">         3</td><td style=\"text-align: right;\">         1</td><td style=\"text-align: right;\">         7</td><td style=\"text-align: right;\">         0</td><td style=\"text-align: right;\">         3</td><td style=\"text-align: right;\">        -2</td><td style=\"text-align: right;\">         5</td><td style=\"text-align: right;\">        11</td><td style=\"text-align: right;\">         1</td><td style=\"text-align: right;\">        -2</td><td style=\"text-align: right;\">         9</td><td style=\"text-align: right;\">        -1</td><td style=\"text-align: right;\">         1</td><td style=\"text-align: right;\">        -2</td><td style=\"text-align: right;\">         7</td><td style=\"text-align: right;\">         3</td><td style=\"text-align: right;\">         1</td><td style=\"text-align: right;\">         2</td><td style=\"text-align: right;\">         0</td><td style=\"text-align: right;\">         1</td><td style=\"text-align: right;\">         4</td><td style=\"text-align: right;\">         1</td><td style=\"text-align: right;\">         4</td></tr>\n",
       "<tr><td>G         </td><td>I         </td><td>q         </td><td>S         </td><td>Q         </td><td>i         </td><td>Q         </td><td>h         </td><td>I         </td><td>p          </td><td>T          </td><td>M          </td><td>u          </td><td>h          </td><td>C          </td><td>K          </td><td>N          </td><td>f          </td><td>I          </td><td>g          </td><td>S          </td><td>g          </td><td>U          </td><td>q          </td><td>r          </td><td>V          </td><td>j          </td><td>N          </td><td>G          </td><td>e          </td><td>t          </td><td>v          </td><td>p          </td><td>f          </td><td>X          </td><td>Q          </td><td>U          </td><td>H          </td><td>Q          </td><td>W          </td><td>p          </td><td>j          </td><td>p          </td><td>C          </td><td>R          </td><td>H          </td><td>A          </td><td>p          </td><td>s          </td><td>F          </td><td>b          </td><td>E          </td><td>B          </td><td>i          </td><td>a          </td><td>Y          </td><td>N          </td><td>P          </td><td>o          </td><td>E          </td><td>u          </td><td>e          </td><td>s          </td><td>U          </td><td>R          </td><td>O          </td><td>d          </td><td>X          </td><td>e          </td><td>h          </td><td>p          </td><td>T          </td><td>w          </td><td>n          </td><td>p          </td><td>l          </td><td>K          </td><td>s          </td><td>C          </td><td>l          </td><td>D          </td><td>c          </td><td>h          </td><td>o          </td><td>E          </td><td>f          </td><td>E          </td><td>L          </td><td>i          </td><td>H          </td><td>M          </td><td>Q          </td><td>a          </td><td>E          </td><td>M          </td><td>u          </td><td>a          </td><td>E          </td><td>f          </td><td>q           </td><td>T           </td><td>F           </td><td>z           </td><td>t           </td><td>h           </td><td>H           </td><td>Z           </td><td>P           </td><td>s           </td><td>q           </td><td>q           </td><td>f           </td><td>h           </td><td>D           </td><td>F           </td><td>n           </td><td>s           </td><td>d           </td><td>z           </td><td>q           </td><td>j           </td><td>W           </td><td>n           </td><td style=\"text-align: right;\">   4</td><td style=\"text-align: right;\">        0</td><td style=\"text-align: right;\">        0</td><td style=\"text-align: right;\">        6</td><td style=\"text-align: right;\">        0</td><td style=\"text-align: right;\">        5</td><td style=\"text-align: right;\">        0</td><td style=\"text-align: right;\">        7</td><td style=\"text-align: right;\">        0</td><td style=\"text-align: right;\">        1</td><td style=\"text-align: right;\">         8</td><td style=\"text-align: right;\">        -2</td><td style=\"text-align: right;\">         0</td><td style=\"text-align: right;\">         0</td><td style=\"text-align: right;\">        -2</td><td style=\"text-align: right;\">        -2</td><td style=\"text-align: right;\">         3</td><td style=\"text-align: right;\">         1</td><td style=\"text-align: right;\">         7</td><td style=\"text-align: right;\">         0</td><td style=\"text-align: right;\">         8</td><td style=\"text-align: right;\">         4</td><td style=\"text-align: right;\">         0</td><td style=\"text-align: right;\">         7</td><td style=\"text-align: right;\">        -2</td><td style=\"text-align: right;\">         1</td><td style=\"text-align: right;\">         0</td><td style=\"text-align: right;\">        -1</td><td style=\"text-align: right;\">        19</td><td style=\"text-align: right;\">        -2</td><td style=\"text-align: right;\">         1</td><td style=\"text-align: right;\">        17</td><td style=\"text-align: right;\">         1</td><td style=\"text-align: right;\">         1</td><td style=\"text-align: right;\">         1</td><td style=\"text-align: right;\">        16</td><td style=\"text-align: right;\">         0</td><td style=\"text-align: right;\">        15</td><td style=\"text-align: right;\">         7</td><td style=\"text-align: right;\">         0</td><td style=\"text-align: right;\">         0</td><td style=\"text-align: right;\">         6</td><td style=\"text-align: right;\">         0</td><td style=\"text-align: right;\">         2</td><td style=\"text-align: right;\">         0</td><td style=\"text-align: right;\">         0</td><td style=\"text-align: right;\">         0</td><td style=\"text-align: right;\">         0</td><td style=\"text-align: right;\">         0</td><td style=\"text-align: right;\">         4</td><td style=\"text-align: right;\">        -2</td><td style=\"text-align: right;\">         5</td><td style=\"text-align: right;\">         6</td><td style=\"text-align: right;\">        10</td><td style=\"text-align: right;\">         3</td><td style=\"text-align: right;\">         1</td><td style=\"text-align: right;\">        10</td><td style=\"text-align: right;\">         1</td><td style=\"text-align: right;\">         3</td><td style=\"text-align: right;\">        -2</td><td style=\"text-align: right;\">         4</td><td style=\"text-align: right;\">         5</td><td style=\"text-align: right;\">         1</td><td style=\"text-align: right;\">        -2</td><td style=\"text-align: right;\">        11</td><td style=\"text-align: right;\">        -1</td><td style=\"text-align: right;\">         1</td><td style=\"text-align: right;\">        -2</td><td style=\"text-align: right;\">        11</td><td style=\"text-align: right;\">         6</td><td style=\"text-align: right;\">         1</td><td style=\"text-align: right;\">         2</td><td style=\"text-align: right;\">         0</td><td style=\"text-align: right;\">         1</td><td style=\"text-align: right;\">         1</td><td style=\"text-align: right;\">         1</td><td style=\"text-align: right;\">         4</td></tr>\n",
       "<tr><td>G         </td><td>V         </td><td>q         </td><td>S         </td><td>Q         </td><td>i         </td><td>Q         </td><td>d         </td><td>Y         </td><td>V          </td><td>B          </td><td>v          </td><td>u          </td><td>h          </td><td>C          </td><td>K          </td><td>N          </td><td>a          </td><td>I          </td><td>g          </td><td>S          </td><td>g          </td><td>U          </td><td>x          </td><td>r          </td><td>X          </td><td>j          </td><td>U          </td><td>G          </td><td>e          </td><td>t          </td><td>v          </td><td>p          </td><td>I          </td><td>X          </td><td>o          </td><td>U          </td><td>d          </td><td>Q          </td><td>W          </td><td>p          </td><td>q          </td><td>f          </td><td>N          </td><td>R          </td><td>e          </td><td>j          </td><td>O          </td><td>s          </td><td>F          </td><td>b          </td><td>E          </td><td>L          </td><td>b          </td><td>a          </td><td>Y          </td><td>N          </td><td>P          </td><td>E          </td><td>E          </td><td>K          </td><td>s          </td><td>m          </td><td>o          </td><td>R          </td><td>C          </td><td>d          </td><td>m          </td><td>Q          </td><td>M          </td><td>p          </td><td>o          </td><td>w          </td><td>S          </td><td>q          </td><td>l          </td><td>K          </td><td>h          </td><td>G          </td><td>B          </td><td>D          </td><td>c          </td><td>h          </td><td>q          </td><td>E          </td><td>f          </td><td>E          </td><td>L          </td><td>l          </td><td>d          </td><td>M          </td><td>f          </td><td>a          </td><td>R          </td><td>M          </td><td>u          </td><td>a          </td><td>E          </td><td>f          </td><td>Q           </td><td>T           </td><td>F           </td><td>a           </td><td>S           </td><td>h           </td><td>Q           </td><td>Z           </td><td>P           </td><td>C           </td><td>q           </td><td>e           </td><td>M           </td><td>h           </td><td>D           </td><td>p           </td><td>n           </td><td>s           </td><td>P           </td><td>z           </td><td>q           </td><td>j           </td><td>W           </td><td>n           </td><td style=\"text-align: right;\">   6</td><td style=\"text-align: right;\">        0</td><td style=\"text-align: right;\">        0</td><td style=\"text-align: right;\">        6</td><td style=\"text-align: right;\">        0</td><td style=\"text-align: right;\">        4</td><td style=\"text-align: right;\">        0</td><td style=\"text-align: right;\">        7</td><td style=\"text-align: right;\">        0</td><td style=\"text-align: right;\">        1</td><td style=\"text-align: right;\">         8</td><td style=\"text-align: right;\">         1</td><td style=\"text-align: right;\">         0</td><td style=\"text-align: right;\">         0</td><td style=\"text-align: right;\">         4</td><td style=\"text-align: right;\">         3</td><td style=\"text-align: right;\">         6</td><td style=\"text-align: right;\">         1</td><td style=\"text-align: right;\">        11</td><td style=\"text-align: right;\">         0</td><td style=\"text-align: right;\">         5</td><td style=\"text-align: right;\">         6</td><td style=\"text-align: right;\">         0</td><td style=\"text-align: right;\">         2</td><td style=\"text-align: right;\">        14</td><td style=\"text-align: right;\">         1</td><td style=\"text-align: right;\">         2</td><td style=\"text-align: right;\">         1</td><td style=\"text-align: right;\">        16</td><td style=\"text-align: right;\">         1</td><td style=\"text-align: right;\">         1</td><td style=\"text-align: right;\">        16</td><td style=\"text-align: right;\">         1</td><td style=\"text-align: right;\">         0</td><td style=\"text-align: right;\">         1</td><td style=\"text-align: right;\">        19</td><td style=\"text-align: right;\">         0</td><td style=\"text-align: right;\">         1</td><td style=\"text-align: right;\">         4</td><td style=\"text-align: right;\">         0</td><td style=\"text-align: right;\">         0</td><td style=\"text-align: right;\">        13</td><td style=\"text-align: right;\">         0</td><td style=\"text-align: right;\">         2</td><td style=\"text-align: right;\">         0</td><td style=\"text-align: right;\">         0</td><td style=\"text-align: right;\">         0</td><td style=\"text-align: right;\">         0</td><td style=\"text-align: right;\">         0</td><td style=\"text-align: right;\">         3</td><td style=\"text-align: right;\">         9</td><td style=\"text-align: right;\">         5</td><td style=\"text-align: right;\">        12</td><td style=\"text-align: right;\">        11</td><td style=\"text-align: right;\">         3</td><td style=\"text-align: right;\">         1</td><td style=\"text-align: right;\">        10</td><td style=\"text-align: right;\">         0</td><td style=\"text-align: right;\">         5</td><td style=\"text-align: right;\">         0</td><td style=\"text-align: right;\">         5</td><td style=\"text-align: right;\">         8</td><td style=\"text-align: right;\">         1</td><td style=\"text-align: right;\">         1</td><td style=\"text-align: right;\">        11</td><td style=\"text-align: right;\">        -1</td><td style=\"text-align: right;\">         1</td><td style=\"text-align: right;\">         5</td><td style=\"text-align: right;\">        12</td><td style=\"text-align: right;\">         1</td><td style=\"text-align: right;\">         1</td><td style=\"text-align: right;\">         2</td><td style=\"text-align: right;\">         0</td><td style=\"text-align: right;\">         1</td><td style=\"text-align: right;\">         1</td><td style=\"text-align: right;\">         1</td><td style=\"text-align: right;\">         0</td></tr>\n",
       "<tr><td>G         </td><td>I         </td><td>L         </td><td>S         </td><td>Q         </td><td>L         </td><td>Q         </td><td>h         </td><td>I         </td><td>p          </td><td>T          </td><td>v          </td><td>u          </td><td>h          </td><td>C          </td><td>q          </td><td>N          </td><td>f          </td><td>I          </td><td>g          </td><td>w          </td><td>g          </td><td>U          </td><td>q          </td><td>r          </td><td>V          </td><td>H          </td><td>N          </td><td>G          </td><td>e          </td><td>t          </td><td>v          </td><td>p          </td><td>f          </td><td>X          </td><td>o          </td><td>U          </td><td>H          </td><td>e          </td><td>W          </td><td>p          </td><td>j          </td><td>Q          </td><td>N          </td><td>R          </td><td>H          </td><td>A          </td><td>p          </td><td>s          </td><td>F          </td><td>b          </td><td>E          </td><td>B          </td><td>i          </td><td>a          </td><td>I          </td><td>N          </td><td>P          </td><td>o          </td><td>E          </td><td>a          </td><td>D          </td><td>s          </td><td>U          </td><td>b          </td><td>O          </td><td>d          </td><td>X          </td><td>Q          </td><td>h          </td><td>p          </td><td>T          </td><td>c          </td><td>n          </td><td>p          </td><td>l          </td><td>P          </td><td>s          </td><td>C          </td><td>l          </td><td>D          </td><td>c          </td><td>h          </td><td>o          </td><td>N          </td><td>i          </td><td>E          </td><td>L          </td><td>i          </td><td>H          </td><td>M          </td><td>Q          </td><td>a          </td><td>E          </td><td>M          </td><td>q          </td><td>a          </td><td>E          </td><td>f          </td><td>q           </td><td>T           </td><td>F           </td><td>I           </td><td>t           </td><td>h           </td><td>H           </td><td>F           </td><td>P           </td><td>s           </td><td>q           </td><td>q           </td><td>f           </td><td>h           </td><td>D           </td><td>F           </td><td>n           </td><td>s           </td><td>d           </td><td>z           </td><td>q           </td><td>j           </td><td>W           </td><td>n           </td><td style=\"text-align: right;\">   7</td><td style=\"text-align: right;\">        0</td><td style=\"text-align: right;\">        0</td><td style=\"text-align: right;\">        7</td><td style=\"text-align: right;\">        0</td><td style=\"text-align: right;\">       11</td><td style=\"text-align: right;\">        0</td><td style=\"text-align: right;\">        7</td><td style=\"text-align: right;\">        0</td><td style=\"text-align: right;\">        1</td><td style=\"text-align: right;\">         9</td><td style=\"text-align: right;\">        -2</td><td style=\"text-align: right;\">         0</td><td style=\"text-align: right;\">         0</td><td style=\"text-align: right;\">        -2</td><td style=\"text-align: right;\">        -2</td><td style=\"text-align: right;\">         2</td><td style=\"text-align: right;\">         1</td><td style=\"text-align: right;\">        15</td><td style=\"text-align: right;\">         0</td><td style=\"text-align: right;\">        10</td><td style=\"text-align: right;\">         1</td><td style=\"text-align: right;\">         0</td><td style=\"text-align: right;\">        12</td><td style=\"text-align: right;\">        -2</td><td style=\"text-align: right;\">         1</td><td style=\"text-align: right;\">         0</td><td style=\"text-align: right;\">        -1</td><td style=\"text-align: right;\">         9</td><td style=\"text-align: right;\">        -2</td><td style=\"text-align: right;\">         1</td><td style=\"text-align: right;\">         2</td><td style=\"text-align: right;\">         1</td><td style=\"text-align: right;\">         1</td><td style=\"text-align: right;\">         2</td><td style=\"text-align: right;\">         8</td><td style=\"text-align: right;\">         0</td><td style=\"text-align: right;\">        18</td><td style=\"text-align: right;\">         9</td><td style=\"text-align: right;\">         0</td><td style=\"text-align: right;\">         0</td><td style=\"text-align: right;\">         4</td><td style=\"text-align: right;\">         0</td><td style=\"text-align: right;\">         7</td><td style=\"text-align: right;\">         0</td><td style=\"text-align: right;\">         0</td><td style=\"text-align: right;\">         0</td><td style=\"text-align: right;\">         0</td><td style=\"text-align: right;\">         0</td><td style=\"text-align: right;\">         4</td><td style=\"text-align: right;\">        -2</td><td style=\"text-align: right;\">         6</td><td style=\"text-align: right;\">         4</td><td style=\"text-align: right;\">         6</td><td style=\"text-align: right;\">         2</td><td style=\"text-align: right;\">         1</td><td style=\"text-align: right;\">         7</td><td style=\"text-align: right;\">         1</td><td style=\"text-align: right;\">         3</td><td style=\"text-align: right;\">        -2</td><td style=\"text-align: right;\">         5</td><td style=\"text-align: right;\">        16</td><td style=\"text-align: right;\">         1</td><td style=\"text-align: right;\">        -2</td><td style=\"text-align: right;\">        16</td><td style=\"text-align: right;\">        -1</td><td style=\"text-align: right;\">         1</td><td style=\"text-align: right;\">        -2</td><td style=\"text-align: right;\">         7</td><td style=\"text-align: right;\">         7</td><td style=\"text-align: right;\">         1</td><td style=\"text-align: right;\">         2</td><td style=\"text-align: right;\">         0</td><td style=\"text-align: right;\">         1</td><td style=\"text-align: right;\">        17</td><td style=\"text-align: right;\">         1</td><td style=\"text-align: right;\">         2</td></tr>\n",
       "<tr><td>G         </td><td>q         </td><td>L         </td><td>S         </td><td>O         </td><td>L         </td><td>Q         </td><td>d         </td><td>Y         </td><td>V          </td><td>T          </td><td>n          </td><td>u          </td><td>t          </td><td>C          </td><td>q          </td><td>N          </td><td>a          </td><td>I          </td><td>g          </td><td>w          </td><td>g          </td><td>U          </td><td>x          </td><td>r          </td><td>V          </td><td>H          </td><td>U          </td><td>G          </td><td>e          </td><td>t          </td><td>v          </td><td>p          </td><td>I          </td><td>X          </td><td>Q          </td><td>U          </td><td>d          </td><td>e          </td><td>W          </td><td>p          </td><td>N          </td><td>p          </td><td>k          </td><td>R          </td><td>q          </td><td>j          </td><td>O          </td><td>s          </td><td>F          </td><td>b          </td><td>E          </td><td>h          </td><td>b          </td><td>a          </td><td>Y          </td><td>N          </td><td>P          </td><td>u          </td><td>E          </td><td>a          </td><td>B          </td><td>m          </td><td>P          </td><td>b          </td><td>C          </td><td>d          </td><td>m          </td><td>Q          </td><td>F          </td><td>p          </td><td>o          </td><td>F          </td><td>S          </td><td>W          </td><td>l          </td><td>P          </td><td>h          </td><td>G          </td><td>B          </td><td>B          </td><td>c          </td><td>h          </td><td>q          </td><td>E          </td><td>i          </td><td>E          </td><td>t          </td><td>j          </td><td>d          </td><td>M          </td><td>f          </td><td>a          </td><td>R          </td><td>M          </td><td>q          </td><td>a          </td><td>E          </td><td>Y          </td><td>q           </td><td>T           </td><td>F           </td><td>a           </td><td>t           </td><td>h           </td><td>Q           </td><td>F           </td><td>P           </td><td>C           </td><td>q           </td><td>e           </td><td>M           </td><td>B           </td><td>D           </td><td>Z           </td><td>n           </td><td>s           </td><td>X           </td><td>z           </td><td>q           </td><td>j           </td><td>W           </td><td>n           </td><td style=\"text-align: right;\">   8</td><td style=\"text-align: right;\">        0</td><td style=\"text-align: right;\">        0</td><td style=\"text-align: right;\">        6</td><td style=\"text-align: right;\">        0</td><td style=\"text-align: right;\">        1</td><td style=\"text-align: right;\">        0</td><td style=\"text-align: right;\">        7</td><td style=\"text-align: right;\">        0</td><td style=\"text-align: right;\">        1</td><td style=\"text-align: right;\">         1</td><td style=\"text-align: right;\">         2</td><td style=\"text-align: right;\">         0</td><td style=\"text-align: right;\">         0</td><td style=\"text-align: right;\">         4</td><td style=\"text-align: right;\">        10</td><td style=\"text-align: right;\">         4</td><td style=\"text-align: right;\">         1</td><td style=\"text-align: right;\">         3</td><td style=\"text-align: right;\">         0</td><td style=\"text-align: right;\">         3</td><td style=\"text-align: right;\">         6</td><td style=\"text-align: right;\">         0</td><td style=\"text-align: right;\">         1</td><td style=\"text-align: right;\">        14</td><td style=\"text-align: right;\">         1</td><td style=\"text-align: right;\">         0</td><td style=\"text-align: right;\">         6</td><td style=\"text-align: right;\">         4</td><td style=\"text-align: right;\">         1</td><td style=\"text-align: right;\">         1</td><td style=\"text-align: right;\">         7</td><td style=\"text-align: right;\">         1</td><td style=\"text-align: right;\">         0</td><td style=\"text-align: right;\">         2</td><td style=\"text-align: right;\">        11</td><td style=\"text-align: right;\">         0</td><td style=\"text-align: right;\">         5</td><td style=\"text-align: right;\">         3</td><td style=\"text-align: right;\">         0</td><td style=\"text-align: right;\">         0</td><td style=\"text-align: right;\">         2</td><td style=\"text-align: right;\">         0</td><td style=\"text-align: right;\">         1</td><td style=\"text-align: right;\">         0</td><td style=\"text-align: right;\">         0</td><td style=\"text-align: right;\">         0</td><td style=\"text-align: right;\">         0</td><td style=\"text-align: right;\">         0</td><td style=\"text-align: right;\">         4</td><td style=\"text-align: right;\">         7</td><td style=\"text-align: right;\">         1</td><td style=\"text-align: right;\">         2</td><td style=\"text-align: right;\">         6</td><td style=\"text-align: right;\">         3</td><td style=\"text-align: right;\">         1</td><td style=\"text-align: right;\">         7</td><td style=\"text-align: right;\">         0</td><td style=\"text-align: right;\">         3</td><td style=\"text-align: right;\">         9</td><td style=\"text-align: right;\">         5</td><td style=\"text-align: right;\">        13</td><td style=\"text-align: right;\">         1</td><td style=\"text-align: right;\">         2</td><td style=\"text-align: right;\">        14</td><td style=\"text-align: right;\">        -1</td><td style=\"text-align: right;\">         1</td><td style=\"text-align: right;\">         4</td><td style=\"text-align: right;\">         7</td><td style=\"text-align: right;\">         0</td><td style=\"text-align: right;\">         1</td><td style=\"text-align: right;\">         2</td><td style=\"text-align: right;\">         0</td><td style=\"text-align: right;\">         1</td><td style=\"text-align: right;\">         2</td><td style=\"text-align: right;\">         1</td><td style=\"text-align: right;\">         6</td></tr>\n",
       "<tr><td>G         </td><td>I         </td><td>L         </td><td>S         </td><td>Q         </td><td>L         </td><td>Q         </td><td>h         </td><td>I         </td><td>p          </td><td>T          </td><td>n          </td><td>u          </td><td>h          </td><td>C          </td><td>q          </td><td>N          </td><td>f          </td><td>Q          </td><td>Q          </td><td>w          </td><td>g          </td><td>U          </td><td>q          </td><td>r          </td><td>V          </td><td>H          </td><td>N          </td><td>G          </td><td>e          </td><td>t          </td><td>v          </td><td>p          </td><td>f          </td><td>X          </td><td>Q          </td><td>U          </td><td>H          </td><td>e          </td><td>W          </td><td>p          </td><td>j          </td><td>E          </td><td>N          </td><td>R          </td><td>H          </td><td>j          </td><td>p          </td><td>s          </td><td>F          </td><td>b          </td><td>E          </td><td>B          </td><td>i          </td><td>a          </td><td>Y          </td><td>S          </td><td>P          </td><td>o          </td><td>k          </td><td>a          </td><td>i          </td><td>s          </td><td>U          </td><td>b          </td><td>O          </td><td>J          </td><td>X          </td><td>Q          </td><td>h          </td><td>p          </td><td>T          </td><td>F          </td><td>n          </td><td>p          </td><td>l          </td><td>P          </td><td>s          </td><td>C          </td><td>l          </td><td>D          </td><td>c          </td><td>h          </td><td>o          </td><td>E          </td><td>i          </td><td>E          </td><td>L          </td><td>i          </td><td>H          </td><td>M          </td><td>Q          </td><td>a          </td><td>E          </td><td>M          </td><td>q          </td><td>a          </td><td>E          </td><td>Y          </td><td>q           </td><td>T           </td><td>F           </td><td>K           </td><td>t           </td><td>e           </td><td>H           </td><td>F           </td><td>P           </td><td>s           </td><td>q           </td><td>q           </td><td>f           </td><td>B           </td><td>D           </td><td>F           </td><td>n           </td><td>s           </td><td>d           </td><td>z           </td><td>q           </td><td>j           </td><td>W           </td><td>n           </td><td style=\"text-align: right;\">   9</td><td style=\"text-align: right;\">        0</td><td style=\"text-align: right;\">        0</td><td style=\"text-align: right;\">        8</td><td style=\"text-align: right;\">        0</td><td style=\"text-align: right;\">       16</td><td style=\"text-align: right;\">        0</td><td style=\"text-align: right;\">        7</td><td style=\"text-align: right;\">        0</td><td style=\"text-align: right;\">        1</td><td style=\"text-align: right;\">         7</td><td style=\"text-align: right;\">        -2</td><td style=\"text-align: right;\">         0</td><td style=\"text-align: right;\">         0</td><td style=\"text-align: right;\">        -2</td><td style=\"text-align: right;\">        -2</td><td style=\"text-align: right;\">        11</td><td style=\"text-align: right;\">         1</td><td style=\"text-align: right;\">        14</td><td style=\"text-align: right;\">         0</td><td style=\"text-align: right;\">        13</td><td style=\"text-align: right;\">         5</td><td style=\"text-align: right;\">         0</td><td style=\"text-align: right;\">         5</td><td style=\"text-align: right;\">        -2</td><td style=\"text-align: right;\">         1</td><td style=\"text-align: right;\">         0</td><td style=\"text-align: right;\">        -1</td><td style=\"text-align: right;\">        13</td><td style=\"text-align: right;\">        -2</td><td style=\"text-align: right;\">         2</td><td style=\"text-align: right;\">         8</td><td style=\"text-align: right;\">         1</td><td style=\"text-align: right;\">         3</td><td style=\"text-align: right;\">         2</td><td style=\"text-align: right;\">         8</td><td style=\"text-align: right;\">         0</td><td style=\"text-align: right;\">        17</td><td style=\"text-align: right;\">        13</td><td style=\"text-align: right;\">         0</td><td style=\"text-align: right;\">         0</td><td style=\"text-align: right;\">         4</td><td style=\"text-align: right;\">         0</td><td style=\"text-align: right;\">        12</td><td style=\"text-align: right;\">         0</td><td style=\"text-align: right;\">         0</td><td style=\"text-align: right;\">         0</td><td style=\"text-align: right;\">         0</td><td style=\"text-align: right;\">         0</td><td style=\"text-align: right;\">         4</td><td style=\"text-align: right;\">        -2</td><td style=\"text-align: right;\">         4</td><td style=\"text-align: right;\">         4</td><td style=\"text-align: right;\">         6</td><td style=\"text-align: right;\">         3</td><td style=\"text-align: right;\">         1</td><td style=\"text-align: right;\">         7</td><td style=\"text-align: right;\">         1</td><td style=\"text-align: right;\">         3</td><td style=\"text-align: right;\">        -2</td><td style=\"text-align: right;\">         5</td><td style=\"text-align: right;\">        12</td><td style=\"text-align: right;\">         1</td><td style=\"text-align: right;\">        -2</td><td style=\"text-align: right;\">         9</td><td style=\"text-align: right;\">        -1</td><td style=\"text-align: right;\">         1</td><td style=\"text-align: right;\">        -2</td><td style=\"text-align: right;\">         7</td><td style=\"text-align: right;\">         2</td><td style=\"text-align: right;\">         1</td><td style=\"text-align: right;\">         1</td><td style=\"text-align: right;\">         0</td><td style=\"text-align: right;\">         1</td><td style=\"text-align: right;\">         6</td><td style=\"text-align: right;\">         1</td><td style=\"text-align: right;\">         2</td></tr>\n",
       "<tr><td>G         </td><td>I         </td><td>q         </td><td>S         </td><td>Q         </td><td>i         </td><td>V         </td><td>d         </td><td>I         </td><td>p          </td><td>T          </td><td>v          </td><td>u          </td><td>h          </td><td>C          </td><td>K          </td><td>N          </td><td>f          </td><td>I          </td><td>g          </td><td>S          </td><td>F          </td><td>U          </td><td>x          </td><td>r          </td><td>V          </td><td>j          </td><td>N          </td><td>G          </td><td>e          </td><td>t          </td><td>D          </td><td>p          </td><td>f          </td><td>X          </td><td>Q          </td><td>U          </td><td>H          </td><td>Q          </td><td>W          </td><td>j          </td><td>j          </td><td>f          </td><td>N          </td><td>p          </td><td>H          </td><td>A          </td><td>p          </td><td>s          </td><td>F          </td><td>b          </td><td>E          </td><td>B          </td><td>i          </td><td>a          </td><td>Y          </td><td>N          </td><td>P          </td><td>o          </td><td>E          </td><td>j          </td><td>s          </td><td>s          </td><td>U          </td><td>z          </td><td>O          </td><td>d          </td><td>X          </td><td>Q          </td><td>F          </td><td>p          </td><td>T          </td><td>w          </td><td>n          </td><td>p          </td><td>l          </td><td>K          </td><td>s          </td><td>C          </td><td>l          </td><td>D          </td><td>c          </td><td>h          </td><td>o          </td><td>E          </td><td>f          </td><td>E          </td><td>L          </td><td>i          </td><td>H          </td><td>M          </td><td>Q          </td><td>a          </td><td>E          </td><td>M          </td><td>u          </td><td>a          </td><td>E          </td><td>f          </td><td>q           </td><td>F           </td><td>F           </td><td>I           </td><td>t           </td><td>h           </td><td>H           </td><td>Z           </td><td>P           </td><td>s           </td><td>q           </td><td>q           </td><td>f           </td><td>h           </td><td>D           </td><td>F           </td><td>n           </td><td>s           </td><td>d           </td><td>z           </td><td>q           </td><td>j           </td><td>W           </td><td>n           </td><td style=\"text-align: right;\">  12</td><td style=\"text-align: right;\">        0</td><td style=\"text-align: right;\">        4</td><td style=\"text-align: right;\">        1</td><td style=\"text-align: right;\">        0</td><td style=\"text-align: right;\">        2</td><td style=\"text-align: right;\">        0</td><td style=\"text-align: right;\">        2</td><td style=\"text-align: right;\">        0</td><td style=\"text-align: right;\">        1</td><td style=\"text-align: right;\">         2</td><td style=\"text-align: right;\">        -2</td><td style=\"text-align: right;\">         0</td><td style=\"text-align: right;\">         0</td><td style=\"text-align: right;\">        -2</td><td style=\"text-align: right;\">        -2</td><td style=\"text-align: right;\">         5</td><td style=\"text-align: right;\">         1</td><td style=\"text-align: right;\">         0</td><td style=\"text-align: right;\">         0</td><td style=\"text-align: right;\">         6</td><td style=\"text-align: right;\">         4</td><td style=\"text-align: right;\">         0</td><td style=\"text-align: right;\">         1</td><td style=\"text-align: right;\">        -2</td><td style=\"text-align: right;\">         1</td><td style=\"text-align: right;\">         1</td><td style=\"text-align: right;\">        -1</td><td style=\"text-align: right;\">        10</td><td style=\"text-align: right;\">        -2</td><td style=\"text-align: right;\">         1</td><td style=\"text-align: right;\">         9</td><td style=\"text-align: right;\">         1</td><td style=\"text-align: right;\">         0</td><td style=\"text-align: right;\">         2</td><td style=\"text-align: right;\">        17</td><td style=\"text-align: right;\">         0</td><td style=\"text-align: right;\">         7</td><td style=\"text-align: right;\">         6</td><td style=\"text-align: right;\">         0</td><td style=\"text-align: right;\">         0</td><td style=\"text-align: right;\">         6</td><td style=\"text-align: right;\">         5</td><td style=\"text-align: right;\">         1</td><td style=\"text-align: right;\">         0</td><td style=\"text-align: right;\">         0</td><td style=\"text-align: right;\">         0</td><td style=\"text-align: right;\">         0</td><td style=\"text-align: right;\">         0</td><td style=\"text-align: right;\">         1</td><td style=\"text-align: right;\">        -2</td><td style=\"text-align: right;\">         1</td><td style=\"text-align: right;\">         6</td><td style=\"text-align: right;\">         6</td><td style=\"text-align: right;\">         3</td><td style=\"text-align: right;\">         1</td><td style=\"text-align: right;\">         2</td><td style=\"text-align: right;\">         0</td><td style=\"text-align: right;\">         5</td><td style=\"text-align: right;\">        -2</td><td style=\"text-align: right;\">         3</td><td style=\"text-align: right;\">        11</td><td style=\"text-align: right;\">         3</td><td style=\"text-align: right;\">        -2</td><td style=\"text-align: right;\">        13</td><td style=\"text-align: right;\">         6</td><td style=\"text-align: right;\">         1</td><td style=\"text-align: right;\">        -2</td><td style=\"text-align: right;\">        11</td><td style=\"text-align: right;\">         0</td><td style=\"text-align: right;\">         1</td><td style=\"text-align: right;\">         2</td><td style=\"text-align: right;\">         0</td><td style=\"text-align: right;\">         1</td><td style=\"text-align: right;\">         2</td><td style=\"text-align: right;\">         1</td><td style=\"text-align: right;\">         0</td></tr>\n",
       "<tr><td>G         </td><td>O         </td><td>L         </td><td>S         </td><td>Q         </td><td>L         </td><td>Q         </td><td>h         </td><td>Y         </td><td>V          </td><td>T          </td><td>n          </td><td>u          </td><td>h          </td><td>C          </td><td>K          </td><td>N          </td><td>a          </td><td>I          </td><td>g          </td><td>w          </td><td>g          </td><td>U          </td><td>q          </td><td>r          </td><td>V          </td><td>H          </td><td>U          </td><td>G          </td><td>e          </td><td>t          </td><td>v          </td><td>p          </td><td>C          </td><td>X          </td><td>Q          </td><td>U          </td><td>d          </td><td>e          </td><td>W          </td><td>p          </td><td>F          </td><td>p          </td><td>C          </td><td>R          </td><td>O          </td><td>A          </td><td>O          </td><td>s          </td><td>F          </td><td>b          </td><td>E          </td><td>C          </td><td>b          </td><td>a          </td><td>Y          </td><td>N          </td><td>P          </td><td>E          </td><td>E          </td><td>p          </td><td>s          </td><td>m          </td><td>P          </td><td>b          </td><td>C          </td><td>d          </td><td>m          </td><td>Q          </td><td>h          </td><td>p          </td><td>o          </td><td>F          </td><td>S          </td><td>q          </td><td>l          </td><td>P          </td><td>h          </td><td>P          </td><td>B          </td><td>D          </td><td>c          </td><td>h          </td><td>q          </td><td>E          </td><td>i          </td><td>E          </td><td>L          </td><td>l          </td><td>d          </td><td>M          </td><td>f          </td><td>a          </td><td>R          </td><td>M          </td><td>q          </td><td>a          </td><td>V          </td><td>Y          </td><td>g           </td><td>T           </td><td>F           </td><td>I           </td><td>t           </td><td>h           </td><td>Q           </td><td>F           </td><td>P           </td><td>C           </td><td>q           </td><td>e           </td><td>M           </td><td>d           </td><td>D           </td><td>Z           </td><td>n           </td><td>s           </td><td>W           </td><td>z           </td><td>q           </td><td>j           </td><td>X           </td><td>n           </td><td style=\"text-align: right;\">  14</td><td style=\"text-align: right;\">        0</td><td style=\"text-align: right;\">        0</td><td style=\"text-align: right;\">        3</td><td style=\"text-align: right;\">        0</td><td style=\"text-align: right;\">       13</td><td style=\"text-align: right;\">        0</td><td style=\"text-align: right;\">        7</td><td style=\"text-align: right;\">        0</td><td style=\"text-align: right;\">        1</td><td style=\"text-align: right;\">         9</td><td style=\"text-align: right;\">         1</td><td style=\"text-align: right;\">         0</td><td style=\"text-align: right;\">         0</td><td style=\"text-align: right;\">         1</td><td style=\"text-align: right;\">        -1</td><td style=\"text-align: right;\">         6</td><td style=\"text-align: right;\">         1</td><td style=\"text-align: right;\">        16</td><td style=\"text-align: right;\">         0</td><td style=\"text-align: right;\">        13</td><td style=\"text-align: right;\">         3</td><td style=\"text-align: right;\">         0</td><td style=\"text-align: right;\">         6</td><td style=\"text-align: right;\">         7</td><td style=\"text-align: right;\">         1</td><td style=\"text-align: right;\">         0</td><td style=\"text-align: right;\">         4</td><td style=\"text-align: right;\">         2</td><td style=\"text-align: right;\">         1</td><td style=\"text-align: right;\">         1</td><td style=\"text-align: right;\">        18</td><td style=\"text-align: right;\">         1</td><td style=\"text-align: right;\">         1</td><td style=\"text-align: right;\">         2</td><td style=\"text-align: right;\">         9</td><td style=\"text-align: right;\">         0</td><td style=\"text-align: right;\">        18</td><td style=\"text-align: right;\">        13</td><td style=\"text-align: right;\">         0</td><td style=\"text-align: right;\">         0</td><td style=\"text-align: right;\">        12</td><td style=\"text-align: right;\">         0</td><td style=\"text-align: right;\">         1</td><td style=\"text-align: right;\">         0</td><td style=\"text-align: right;\">         0</td><td style=\"text-align: right;\">         0</td><td style=\"text-align: right;\">         0</td><td style=\"text-align: right;\">         0</td><td style=\"text-align: right;\">        10</td><td style=\"text-align: right;\">        17</td><td style=\"text-align: right;\">         6</td><td style=\"text-align: right;\">        11</td><td style=\"text-align: right;\">         6</td><td style=\"text-align: right;\">         3</td><td style=\"text-align: right;\">         1</td><td style=\"text-align: right;\">         7</td><td style=\"text-align: right;\">         0</td><td style=\"text-align: right;\">         3</td><td style=\"text-align: right;\">         1</td><td style=\"text-align: right;\">         5</td><td style=\"text-align: right;\">         8</td><td style=\"text-align: right;\">         1</td><td style=\"text-align: right;\">         0</td><td style=\"text-align: right;\">        13</td><td style=\"text-align: right;\">        -1</td><td style=\"text-align: right;\">         1</td><td style=\"text-align: right;\">        13</td><td style=\"text-align: right;\">         7</td><td style=\"text-align: right;\">         7</td><td style=\"text-align: right;\">         1</td><td style=\"text-align: right;\">         2</td><td style=\"text-align: right;\">         0</td><td style=\"text-align: right;\">         1</td><td style=\"text-align: right;\">         1</td><td style=\"text-align: right;\">         1</td><td style=\"text-align: right;\">         0</td></tr>\n",
       "</tbody>\n",
       "</table>"
      ]
     },
     "metadata": {},
     "output_type": "display_data"
    },
    {
     "data": {
      "text/plain": []
     },
     "execution_count": 14,
     "metadata": {},
     "output_type": "execute_result"
    }
   ],
   "source": [
    "h2o_df_all.head()"
   ]
  },
  {
   "cell_type": "code",
   "execution_count": 15,
   "metadata": {},
   "outputs": [
    {
     "name": "stdout",
     "output_type": "stream",
     "text": [
      "Parse progress: |█████████████████████████████████████████████████████████| 100%\n",
      "Parse progress: |█████████████████████████████████████████████████████████| 100%\n",
      "Parse progress: |█████████████████████████████████████████████████████████| 100%\n",
      "Parse progress: |█████████████████████████████████████████████████████████| 100%\n"
     ]
    }
   ],
   "source": [
    "idx_h2o_train  = h2o.H2OFrame(idx_train.astype('int').values)\n",
    "idx_h2o_val    = h2o.H2OFrame(idx_val.astype('int').values)\n",
    "idx_h2o_design = h2o.H2OFrame(idx_design.astype('int').values)\n",
    "idx_h2o_test   = h2o.H2OFrame(idx_test.astype('int').values)"
   ]
  },
  {
   "cell_type": "code",
   "execution_count": null,
   "metadata": {},
   "outputs": [],
   "source": []
  },
  {
   "cell_type": "code",
   "execution_count": 16,
   "metadata": {},
   "outputs": [],
   "source": [
    "param = {\n",
    "      \"ntrees\" : 200\n",
    "    , \"max_depth\" : 20\n",
    "    #Row sample rate per tree (from 0.0 to 1.0). (default: ``0.6320000291``)\n",
    "    , \"sample_rate\" : 0.7\n",
    "    #col_sample_rate_per_tree: column sampling rate for each tree (without replacement)\n",
    "    , \"col_sample_rate_per_tree\" : 0.9\n",
    "    #mtries is applied AFTER col_sample_rate_per_tree\n",
    "    , \"mtries\" : -1\n",
    "    , \"min_rows\" : 10\n",
    "    # beware of default min split improvement if using imbalanced classes\n",
    "    #, min_split_improvement\n",
    "    , \"seed\": 2019\n",
    "    , \"score_each_iteration\": True\n",
    "    , \"score_tree_interval\": 1\n",
    "    , \"stopping_metric\": 'mae'\n",
    "    , \"stopping_rounds\": 20\n",
    "}"
   ]
  },
  {
   "cell_type": "code",
   "execution_count": 17,
   "metadata": {},
   "outputs": [],
   "source": [
    "# note: In Python, ** unpacks keyword arguments (I think)\n",
    "model = H2ORandomForestEstimator(**param)"
   ]
  },
  {
   "cell_type": "code",
   "execution_count": 18,
   "metadata": {},
   "outputs": [
    {
     "name": "stdout",
     "output_type": "stream",
     "text": [
      "drf Model Build progress: |███████████████████████████████████████████████| 100%\n"
     ]
    }
   ],
   "source": [
    "model.train(x=vars_ind, \n",
    "            y='target',\n",
    "            training_frame=h2o_df_all[idx_h2o_train, :],\n",
    "            validation_frame=h2o_df_all[idx_h2o_val, :]\n",
    "            )"
   ]
  },
  {
   "cell_type": "markdown",
   "metadata": {},
   "source": [
    "Actually, we should run a classification in h2o. But in h2o, the default for classification is one-third of the columns and he default for regression is the square root of the number of columns. So this model defaul itself it is a regression. Therefore, we use mae.\n"
   ]
  },
  {
   "cell_type": "code",
   "execution_count": 19,
   "metadata": {},
   "outputs": [
    {
     "name": "stdout",
     "output_type": "stream",
     "text": [
      "train error 0.09949971148921713\n",
      "val error 0.12531427586568014\n"
     ]
    }
   ],
   "source": [
    "h2o.no_progress()\n",
    "\n",
    "pred_train = model.predict(h2o_df_all[idx_h2o_train, :])\n",
    "pred_val   = model.predict(h2o_df_all[idx_h2o_val, :])\n",
    "pred_test  = model.predict(h2o_df_all[idx_h2o_test, :])\n",
    "\n",
    "pred_train = pred_train.as_data_frame().values.ravel()\n",
    "pred_val   = pred_val.as_data_frame().values.ravel()\n",
    "pred_test  = pred_test.as_data_frame().values.ravel()\n",
    "\n",
    "print('train error', fn_MAE(y[idx_train], pred_train))\n",
    "print('val error',   fn_MAE(y[idx_val],   pred_val))\n",
    "\n",
    "\n",
    "h2o.show_progress()\n"
   ]
  },
  {
   "cell_type": "code",
   "execution_count": 20,
   "metadata": {
    "scrolled": true
   },
   "outputs": [
    {
     "name": "stdout",
     "output_type": "stream",
     "text": [
      "drf prediction progress: |████████████████████████████████████████████████| 100%\n"
     ]
    }
   ],
   "source": [
    "pred_design = model.predict(h2o_df_all[idx_h2o_design, :])\n",
    "pred_design  = pred_design.as_data_frame().values.ravel()"
   ]
  },
  {
   "cell_type": "markdown",
   "metadata": {},
   "source": [
    "With random forests - always check the train-val curves to ensure we have enough trees to benefit from the most possible reduction in variance."
   ]
  },
  {
   "cell_type": "code",
   "execution_count": 22,
   "metadata": {},
   "outputs": [
    {
     "data": {
      "text/plain": [
       "<matplotlib.legend.Legend at 0x27ce5dc65c0>"
      ]
     },
     "execution_count": 22,
     "metadata": {},
     "output_type": "execute_result"
    },
    {
     "data": {
      "image/png": "[encoded data removed]",
      "text/plain": [
       "<Figure size 864x432 with 1 Axes>"
      ]
     },
     "metadata": {
      "needs_background": "light"
     },
     "output_type": "display_data"
    }
   ],
   "source": [
    "df_scoring_history = model.scoring_history()\n",
    "\n",
    "fig = plt.figure(figsize=(12, 6))\n",
    "ax1 = fig.add_subplot(1, 1, 1)\n",
    "ax1.plot(df_scoring_history['number_of_trees'],\n",
    "         df_scoring_history['training_mae'], 'k-',\n",
    "         label='training')\n",
    "ax1.plot(df_scoring_history['number_of_trees'],\n",
    "         df_scoring_history['validation_mae'], 'r-',\n",
    "        label='validation')\n",
    "ax1.set_xlabel('number of trees', fontsize=20)\n",
    "ax1.set_ylabel('mae', fontsize=20)\n",
    "ax1.legend(fontsize=20)"
   ]
  },
  {
   "cell_type": "markdown",
   "metadata": {},
   "source": [
    "#### save model"
   ]
  },
  {
   "cell_type": "code",
   "execution_count": 23,
   "metadata": {},
   "outputs": [],
   "source": [
    "rf_pred_test_prob=pred_test"
   ]
  },
  {
   "cell_type": "code",
   "execution_count": 44,
   "metadata": {},
   "outputs": [],
   "source": [
    "#save data\n",
    "dict_ = {'rf_prob_design': pred_design,\n",
    "        'rf_prob_test' :pred_test}\n",
    "\n",
    "f_name = dirPData + 'rf.pickle'\n",
    "with open(f_name, \"wb\") as f:\n",
    "    pickle.dump(dict_, f)\n",
    "del f_name"
   ]
  },
  {
   "cell_type": "markdown",
   "metadata": {},
   "source": [
    "## Interpretability "
   ]
  },
  {
   "cell_type": "code",
   "execution_count": 25,
   "metadata": {},
   "outputs": [
    {
     "data": {
      "image/png": "[encoded data removed]",
      "text/plain": [
       "<Figure size 1008x720 with 1 Axes>"
      ]
     },
     "metadata": {
      "needs_background": "light"
     },
     "output_type": "display_data"
    }
   ],
   "source": [
    "model.varimp_plot()\n",
    "# show the top 10 most important variables"
   ]
  },
  {
   "cell_type": "markdown",
   "metadata": {},
   "source": [
    "#### PDP"
   ]
  },
  {
   "cell_type": "code",
   "execution_count": 26,
   "metadata": {},
   "outputs": [
    {
     "name": "stdout",
     "output_type": "stream",
     "text": [
      "PartialDependencePlot progress: |█████████████████████████████████████████| 100%\n",
      "PartialDependence: Partial Dependence Plot of model DRF_model_python_1562864900133_1 on column 'v_num_86'\n",
      "\n"
     ]
    },
    {
     "data": {
      "text/html": [
       "<div style=\"overflow:auto\"><table style=\"width:50%\"><tr><td><b>v_num_86</b></td>\n",
       "<td><b>mean_response</b></td>\n",
       "<td><b>stddev_response</b></td>\n",
       "<td><b>std_error_mean_response</b></td></tr>\n",
       "<tr><td>0.0</td>\n",
       "<td>0.0671781</td>\n",
       "<td>0.1090729</td>\n",
       "<td>0.0010482</td></tr>\n",
       "<tr><td>1.0</td>\n",
       "<td>0.0671781</td>\n",
       "<td>0.1090729</td>\n",
       "<td>0.0010482</td></tr>\n",
       "<tr><td>2.0</td>\n",
       "<td>0.0690021</td>\n",
       "<td>0.1105612</td>\n",
       "<td>0.0010625</td></tr>\n",
       "<tr><td>3.0</td>\n",
       "<td>0.0697248</td>\n",
       "<td>0.1118348</td>\n",
       "<td>0.0010747</td></tr>\n",
       "<tr><td>4.0</td>\n",
       "<td>0.0706884</td>\n",
       "<td>0.1119129</td>\n",
       "<td>0.0010755</td></tr>\n",
       "<tr><td>5.0</td>\n",
       "<td>0.0711343</td>\n",
       "<td>0.1122792</td>\n",
       "<td>0.0010790</td></tr>\n",
       "<tr><td>6.0</td>\n",
       "<td>0.0708648</td>\n",
       "<td>0.1123963</td>\n",
       "<td>0.0010801</td></tr>\n",
       "<tr><td>7.0</td>\n",
       "<td>0.0713317</td>\n",
       "<td>0.1130409</td>\n",
       "<td>0.0010863</td></tr>\n",
       "<tr><td>8.0</td>\n",
       "<td>0.0716979</td>\n",
       "<td>0.1129942</td>\n",
       "<td>0.0010859</td></tr>\n",
       "<tr><td>9.0</td>\n",
       "<td>0.0727964</td>\n",
       "<td>0.1140542</td>\n",
       "<td>0.0010961</td></tr>\n",
       "<tr><td>10.0</td>\n",
       "<td>0.0732643</td>\n",
       "<td>0.1138863</td>\n",
       "<td>0.0010945</td></tr>\n",
       "<tr><td>11.0</td>\n",
       "<td>0.0746855</td>\n",
       "<td>0.1138759</td>\n",
       "<td>0.0010944</td></tr>\n",
       "<tr><td>12.0</td>\n",
       "<td>0.0766352</td>\n",
       "<td>0.1136711</td>\n",
       "<td>0.0010924</td></tr>\n",
       "<tr><td>13.0</td>\n",
       "<td>0.0798723</td>\n",
       "<td>0.1130942</td>\n",
       "<td>0.0010868</td></tr>\n",
       "<tr><td>14.0</td>\n",
       "<td>0.1933478</td>\n",
       "<td>0.1275061</td>\n",
       "<td>0.0012253</td></tr>\n",
       "<tr><td>15.0</td>\n",
       "<td>0.2063489</td>\n",
       "<td>0.1342187</td>\n",
       "<td>0.0012898</td></tr>\n",
       "<tr><td>16.0</td>\n",
       "<td>0.2342321</td>\n",
       "<td>0.1373516</td>\n",
       "<td>0.0013200</td></tr></table></div>"
      ],
      "text/plain": [
       "v_num_86    mean_response    stddev_response    std_error_mean_response\n",
       "----------  ---------------  -----------------  -------------------------\n",
       "0           0.0671781        0.109073           0.0010482\n",
       "1           0.0671781        0.109073           0.0010482\n",
       "2           0.0690021        0.110561           0.0010625\n",
       "3           0.0697248        0.111835           0.00107474\n",
       "4           0.0706884        0.111913           0.00107549\n",
       "5           0.0711343        0.112279           0.00107901\n",
       "6           0.0708648        0.112396           0.00108013\n",
       "7           0.0713317        0.113041           0.00108633\n",
       "8           0.0716979        0.112994           0.00108588\n",
       "9           0.0727964        0.114054           0.00109607\n",
       "10          0.0732643        0.113886           0.00109445\n",
       "11          0.0746855        0.113876           0.00109435\n",
       "12          0.0766352        0.113671           0.00109239\n",
       "13          0.0798723        0.113094           0.00108684\n",
       "14          0.193348         0.127506           0.00122534\n",
       "15          0.206349         0.134219           0.00128985\n",
       "16          0.234232         0.137352           0.00131996"
      ]
     },
     "metadata": {},
     "output_type": "display_data"
    },
    {
     "data": {
      "text/plain": [
       "[]"
      ]
     },
     "execution_count": 26,
     "metadata": {},
     "output_type": "execute_result"
    },
    {
     "data": {
      "image/png": "[encoded data removed]",
      "text/plain": [
       "<Figure size 648x432 with 1 Axes>"
      ]
     },
     "metadata": {
      "needs_background": "light"
     },
     "output_type": "display_data"
    }
   ],
   "source": [
    "model.partial_plot(data = h2o_df_all[idx_h2o_train, :],\n",
    "                     cols = ['v_num_86'],\n",
    "                     nbins=20,\n",
    "                     plot=True, \n",
    "                     plot_stddev = True,\n",
    "                     figsize=(9, 6), \n",
    "                     )"
   ]
  },
  {
   "cell_type": "code",
   "execution_count": null,
   "metadata": {},
   "outputs": [],
   "source": []
  },
  {
   "cell_type": "markdown",
   "metadata": {},
   "source": [
    "### Random grid search"
   ]
  },
  {
   "cell_type": "code",
   "execution_count": 27,
   "metadata": {},
   "outputs": [],
   "source": [
    "# create dataframe with combinations needed\n",
    "# below for id link\n",
    "sample_rate = [0.6, 0.7]\n",
    "col_sample_rate_per_tree = [ 0.4, 0.6, 0.8, 0.9 ]\n",
    "min_rows = [10, 20, 40]\n",
    "\n",
    "n_iter = len(sample_rate) * len(col_sample_rate_per_tree) * len(min_rows)\n",
    "\n",
    "params = np.array(np.meshgrid(sample_rate, col_sample_rate_per_tree, min_rows)).reshape(3, n_iter).T\n",
    "\n",
    "df_results = pd.DataFrame(params, columns = ['sample_rate', 'col_sample_rate_per_tree', 'min_rows'])\n",
    "df_results['train_mae'] = np.nan\n",
    "df_results['val_mae'] = np.nan\n",
    "df_results['train_rmse'] = np.nan\n",
    "df_results['val_rmse'] = np.nan\n"
   ]
  },
  {
   "cell_type": "code",
   "execution_count": 28,
   "metadata": {},
   "outputs": [
    {
     "data": {
      "text/html": [
       "<div>\n",
       "<style scoped>\n",
       "    .dataframe tbody tr th:only-of-type {\n",
       "        vertical-align: middle;\n",
       "    }\n",
       "\n",
       "    .dataframe tbody tr th {\n",
       "        vertical-align: top;\n",
       "    }\n",
       "\n",
       "    .dataframe thead th {\n",
       "        text-align: right;\n",
       "    }\n",
       "</style>\n",
       "<table border=\"1\" class=\"dataframe\">\n",
       "  <thead>\n",
       "    <tr style=\"text-align: right;\">\n",
       "      <th></th>\n",
       "      <th>sample_rate</th>\n",
       "      <th>col_sample_rate_per_tree</th>\n",
       "      <th>min_rows</th>\n",
       "      <th>train_mae</th>\n",
       "      <th>val_mae</th>\n",
       "      <th>train_rmse</th>\n",
       "      <th>val_rmse</th>\n",
       "    </tr>\n",
       "  </thead>\n",
       "  <tbody>\n",
       "    <tr>\n",
       "      <th>0</th>\n",
       "      <td>0.6</td>\n",
       "      <td>0.4</td>\n",
       "      <td>10.0</td>\n",
       "      <td>NaN</td>\n",
       "      <td>NaN</td>\n",
       "      <td>NaN</td>\n",
       "      <td>NaN</td>\n",
       "    </tr>\n",
       "    <tr>\n",
       "      <th>1</th>\n",
       "      <td>0.6</td>\n",
       "      <td>0.4</td>\n",
       "      <td>20.0</td>\n",
       "      <td>NaN</td>\n",
       "      <td>NaN</td>\n",
       "      <td>NaN</td>\n",
       "      <td>NaN</td>\n",
       "    </tr>\n",
       "    <tr>\n",
       "      <th>2</th>\n",
       "      <td>0.6</td>\n",
       "      <td>0.4</td>\n",
       "      <td>40.0</td>\n",
       "      <td>NaN</td>\n",
       "      <td>NaN</td>\n",
       "      <td>NaN</td>\n",
       "      <td>NaN</td>\n",
       "    </tr>\n",
       "    <tr>\n",
       "      <th>3</th>\n",
       "      <td>0.7</td>\n",
       "      <td>0.4</td>\n",
       "      <td>10.0</td>\n",
       "      <td>NaN</td>\n",
       "      <td>NaN</td>\n",
       "      <td>NaN</td>\n",
       "      <td>NaN</td>\n",
       "    </tr>\n",
       "    <tr>\n",
       "      <th>4</th>\n",
       "      <td>0.7</td>\n",
       "      <td>0.4</td>\n",
       "      <td>20.0</td>\n",
       "      <td>NaN</td>\n",
       "      <td>NaN</td>\n",
       "      <td>NaN</td>\n",
       "      <td>NaN</td>\n",
       "    </tr>\n",
       "  </tbody>\n",
       "</table>\n",
       "</div>"
      ],
      "text/plain": [
       "   sample_rate  col_sample_rate_per_tree  min_rows  train_mae  val_mae  \\\n",
       "0          0.6                       0.4      10.0        NaN      NaN   \n",
       "1          0.6                       0.4      20.0        NaN      NaN   \n",
       "2          0.6                       0.4      40.0        NaN      NaN   \n",
       "3          0.7                       0.4      10.0        NaN      NaN   \n",
       "4          0.7                       0.4      20.0        NaN      NaN   \n",
       "\n",
       "   train_rmse  val_rmse  \n",
       "0         NaN       NaN  \n",
       "1         NaN       NaN  \n",
       "2         NaN       NaN  \n",
       "3         NaN       NaN  \n",
       "4         NaN       NaN  "
      ]
     },
     "execution_count": 28,
     "metadata": {},
     "output_type": "execute_result"
    }
   ],
   "source": [
    "df_results.head()"
   ]
  },
  {
   "cell_type": "code",
   "execution_count": 29,
   "metadata": {},
   "outputs": [],
   "source": [
    "df_results = df_results.sample(frac=1).reset_index(drop=True)"
   ]
  },
  {
   "cell_type": "code",
   "execution_count": 30,
   "metadata": {},
   "outputs": [
    {
     "name": "stdout",
     "output_type": "stream",
     "text": [
      "0 of 24\n",
      "drf Model Build progress: |███████████████████████████████████████████████| 100%\n",
      "drf prediction progress: |████████████████████████████████████████████████| 100%\n",
      "drf prediction progress: |████████████████████████████████████████████████| 100%\n",
      "1 of 24\n",
      "drf Model Build progress: |███████████████████████████████████████████████| 100%\n",
      "drf prediction progress: |████████████████████████████████████████████████| 100%\n",
      "drf prediction progress: |████████████████████████████████████████████████| 100%\n",
      "2 of 24\n",
      "drf Model Build progress: |███████████████████████████████████████████████| 100%\n",
      "drf prediction progress: |████████████████████████████████████████████████| 100%\n",
      "drf prediction progress: |████████████████████████████████████████████████| 100%\n",
      "3 of 24\n",
      "drf Model Build progress: |███████████████████████████████████████████████| 100%\n",
      "drf prediction progress: |████████████████████████████████████████████████| 100%\n",
      "drf prediction progress: |████████████████████████████████████████████████| 100%\n",
      "4 of 24\n",
      "drf Model Build progress: |███████████████████████████████████████████████| 100%\n",
      "drf prediction progress: |████████████████████████████████████████████████| 100%\n",
      "drf prediction progress: |████████████████████████████████████████████████| 100%\n",
      "5 of 24\n",
      "drf Model Build progress: |███████████████████████████████████████████████| 100%\n",
      "drf prediction progress: |████████████████████████████████████████████████| 100%\n",
      "drf prediction progress: |████████████████████████████████████████████████| 100%\n",
      "6 of 24\n",
      "drf Model Build progress: |███████████████████████████████████████████████| 100%\n",
      "drf prediction progress: |████████████████████████████████████████████████| 100%\n",
      "drf prediction progress: |████████████████████████████████████████████████| 100%\n",
      "7 of 24\n",
      "drf Model Build progress: |███████████████████████████████████████████████| 100%\n",
      "drf prediction progress: |████████████████████████████████████████████████| 100%\n",
      "drf prediction progress: |████████████████████████████████████████████████| 100%\n",
      "8 of 24\n",
      "drf Model Build progress: |███████████████████████████████████████████████| 100%\n",
      "drf prediction progress: |████████████████████████████████████████████████| 100%\n",
      "drf prediction progress: |████████████████████████████████████████████████| 100%\n",
      "9 of 24\n",
      "drf Model Build progress: |███████████████████████████████████████████████| 100%\n",
      "drf prediction progress: |████████████████████████████████████████████████| 100%\n",
      "drf prediction progress: |████████████████████████████████████████████████| 100%\n",
      "10 of 24\n",
      "drf Model Build progress: |███████████████████████████████████████████████| 100%\n",
      "drf prediction progress: |████████████████████████████████████████████████| 100%\n",
      "drf prediction progress: |████████████████████████████████████████████████| 100%\n",
      "11 of 24\n",
      "drf Model Build progress: |███████████████████████████████████████████████| 100%\n",
      "drf prediction progress: |████████████████████████████████████████████████| 100%\n",
      "drf prediction progress: |████████████████████████████████████████████████| 100%\n",
      "12 of 24\n",
      "drf Model Build progress: |███████████████████████████████████████████████| 100%\n",
      "drf prediction progress: |████████████████████████████████████████████████| 100%\n",
      "drf prediction progress: |████████████████████████████████████████████████| 100%\n",
      "13 of 24\n",
      "drf Model Build progress: |███████████████████████████████████████████████| 100%\n",
      "drf prediction progress: |████████████████████████████████████████████████| 100%\n",
      "drf prediction progress: |████████████████████████████████████████████████| 100%\n",
      "14 of 24\n",
      "drf Model Build progress: |███████████████████████████████████████████████| 100%\n",
      "drf prediction progress: |████████████████████████████████████████████████| 100%\n",
      "drf prediction progress: |████████████████████████████████████████████████| 100%\n",
      "15 of 24\n",
      "drf Model Build progress: |███████████████████████████████████████████████| 100%\n",
      "drf prediction progress: |████████████████████████████████████████████████| 100%\n",
      "drf prediction progress: |████████████████████████████████████████████████| 100%\n",
      "16 of 24\n",
      "drf Model Build progress: |███████████████████████████████████████████████| 100%\n",
      "drf prediction progress: |████████████████████████████████████████████████| 100%\n",
      "drf prediction progress: |████████████████████████████████████████████████| 100%\n",
      "17 of 24\n",
      "drf Model Build progress: |███████████████████████████████████████████████| 100%\n",
      "drf prediction progress: |████████████████████████████████████████████████| 100%\n",
      "drf prediction progress: |████████████████████████████████████████████████| 100%\n",
      "18 of 24\n",
      "drf Model Build progress: |███████████████████████████████████████████████| 100%\n",
      "drf prediction progress: |████████████████████████████████████████████████| 100%\n",
      "drf prediction progress: |████████████████████████████████████████████████| 100%\n",
      "19 of 24\n",
      "drf Model Build progress: |███████████████████████████████████████████████| 100%\n",
      "drf prediction progress: |████████████████████████████████████████████████| 100%\n",
      "drf prediction progress: |████████████████████████████████████████████████| 100%\n",
      "20 of 24\n",
      "drf Model Build progress: |███████████████████████████████████████████████| 100%\n",
      "drf prediction progress: |████████████████████████████████████████████████| 100%\n",
      "drf prediction progress: |████████████████████████████████████████████████| 100%\n",
      "21 of 24\n",
      "drf Model Build progress: |███████████████████████████████████████████████| 100%\n",
      "drf prediction progress: |████████████████████████████████████████████████| 100%\n",
      "drf prediction progress: |████████████████████████████████████████████████| 100%\n",
      "22 of 24\n",
      "drf Model Build progress: |███████████████████████████████████████████████| 100%\n",
      "drf prediction progress: |████████████████████████████████████████████████| 100%\n",
      "drf prediction progress: |████████████████████████████████████████████████| 100%\n",
      "23 of 24\n",
      "drf Model Build progress: |███████████████████████████████████████████████| 100%\n",
      "drf prediction progress: |████████████████████████████████████████████████| 100%\n",
      "drf prediction progress: |████████████████████████████████████████████████| 100%\n"
     ]
    }
   ],
   "source": [
    "\n",
    "# h2o's random grid search would be better since it will parallelise over available cores\n",
    "# we code it here explicitly just for \"clarity\"\n",
    "\n",
    "n_models = 24 # 10\n",
    "\n",
    "for idx in range(n_models):\n",
    "    \n",
    "    print(idx, 'of', n_models)\n",
    "        \n",
    "    sample_rate = df_results.iloc[idx]['sample_rate']\n",
    "    col_sample_rate_per_tree = df_results.iloc[idx]['col_sample_rate_per_tree']\n",
    "    min_rows = df_results.iloc[idx]['min_rows']\n",
    "    \n",
    "    param = {\n",
    "      \"ntrees\" : 200\n",
    "    , \"max_depth\" : 20\n",
    "    # Row sample rate per tree: (default: ``0.6320000291``)\n",
    "    , \"mtries\" : -1 # so as not to limit column sample rates\n",
    "    , \"sample_rate\" : sample_rate\n",
    "    , \"col_sample_rate_per_tree\" : col_sample_rate_per_tree\n",
    "    , \"min_rows\" : min_rows\n",
    "    # beware of default min split improvement if using imbalanced classes\n",
    "    #, min_split_improvement\n",
    "    , \"seed\": 2019\n",
    "    , \"score_each_iteration\": True\n",
    "    , \"score_tree_interval\": 1\n",
    "    , \"stopping_metric\": 'mae'\n",
    "    , \"stopping_rounds\": 20}\n",
    "    \n",
    "    model = H2ORandomForestEstimator(**param) \n",
    "    \n",
    "    model.train(x=vars_ind, \n",
    "            y='target',\n",
    "            training_frame=h2o_df_all[idx_h2o_train, :],\n",
    "            validation_frame=h2o_df_all[idx_h2o_val, :]\n",
    "            )\n",
    "\n",
    "    model_pred_train = model.predict(h2o_df_all[idx_h2o_train, :])\n",
    "    model_pred_val   = model.predict(h2o_df_all[idx_h2o_val, :])\n",
    "    \n",
    "    model_pred_train = model_pred_train.as_data_frame().values.ravel()\n",
    "    model_pred_val   = model_pred_val.as_data_frame().values.ravel()\n",
    "\n",
    "    df_results['train_mae'].iloc[idx] = fn_MAE(y[idx_train], model_pred_train)\n",
    "    df_results['val_mae'].iloc[idx]   = fn_MAE(y[idx_val], model_pred_val)\n",
    "    df_results['train_rmse'].iloc[idx] = fn_RMSE(y[idx_train], model_pred_train)\n",
    "    df_results['val_rmse'].iloc[idx]   = fn_RMSE(y[idx_val], model_pred_val)\n"
   ]
  },
  {
   "cell_type": "code",
   "execution_count": 31,
   "metadata": {},
   "outputs": [
    {
     "data": {
      "text/plain": [
       "0.12528279137582257"
      ]
     },
     "execution_count": 31,
     "metadata": {},
     "output_type": "execute_result"
    }
   ],
   "source": [
    "best_perf = df_results['val_mae'].min()\n",
    "best_perf"
   ]
  },
  {
   "cell_type": "code",
   "execution_count": 32,
   "metadata": {},
   "outputs": [],
   "source": [
    "df_results['worse_than_best'] =  df_results['val_mae'].cummin() / best_perf\n",
    "df_results['percent_of_grid'] = df_results.index / df_results.shape[0]"
   ]
  },
  {
   "cell_type": "code",
   "execution_count": 33,
   "metadata": {},
   "outputs": [
    {
     "data": {
      "image/png": "[encoded data removed]",
      "text/plain": [
       "<Figure size 864x432 with 1 Axes>"
      ]
     },
     "metadata": {
      "needs_background": "light"
     },
     "output_type": "display_data"
    }
   ],
   "source": [
    "fig = plt.figure(figsize=(12, 6))\n",
    "ax1 = fig.add_subplot(1, 1, 1)\n",
    "ax1.plot(df_results['percent_of_grid'],\n",
    "         df_results['worse_than_best'], 'k-'\n",
    "         )\n",
    "_ = ax1.set_xlabel('percent_of_grid that has been searched', fontsize=20)\n",
    "_ = ax1.set_ylabel('% worse_than_best', fontsize=20)\n",
    "#_ = ax1.legend(fontsize=20)"
   ]
  },
  {
   "cell_type": "code",
   "execution_count": 34,
   "metadata": {},
   "outputs": [],
   "source": [
    "idxmin = df_results['val_mae'].idxmin()"
   ]
  },
  {
   "cell_type": "code",
   "execution_count": 35,
   "metadata": {},
   "outputs": [
    {
     "data": {
      "text/plain": [
       "0     0.130296\n",
       "1     0.133208\n",
       "2     0.134164\n",
       "3     0.126293\n",
       "4     0.125314\n",
       "5     0.132975\n",
       "6     0.130739\n",
       "7     0.134031\n",
       "8     0.137219\n",
       "9     0.131002\n",
       "10    0.136073\n",
       "11    0.136170\n",
       "12    0.125848\n",
       "13    0.126676\n",
       "14    0.128361\n",
       "15    0.135214\n",
       "16    0.134621\n",
       "17    0.130332\n",
       "18    0.129225\n",
       "19    0.140108\n",
       "20    0.125283\n",
       "21    0.130081\n",
       "22    0.139396\n",
       "23    0.136350\n",
       "Name: val_mae, dtype: float64"
      ]
     },
     "execution_count": 35,
     "metadata": {},
     "output_type": "execute_result"
    }
   ],
   "source": [
    "df_results['val_mae']"
   ]
  },
  {
   "cell_type": "code",
   "execution_count": 36,
   "metadata": {},
   "outputs": [
    {
     "data": {
      "text/plain": [
       "20"
      ]
     },
     "execution_count": 36,
     "metadata": {},
     "output_type": "execute_result"
    }
   ],
   "source": [
    "idxmin"
   ]
  },
  {
   "cell_type": "code",
   "execution_count": 37,
   "metadata": {},
   "outputs": [
    {
     "name": "stdout",
     "output_type": "stream",
     "text": [
      "sample_rate                  0.600000\n",
      "col_sample_rate_per_tree     0.900000\n",
      "min_rows                    10.000000\n",
      "train_mae                    0.103938\n",
      "val_mae                      0.125283\n",
      "train_rmse                   0.000000\n",
      "val_rmse                     0.000000\n",
      "worse_than_best              1.000000\n",
      "percent_of_grid              0.833333\n",
      "Name: 20, dtype: float64\n"
     ]
    }
   ],
   "source": [
    "print(df_results.loc[idxmin])"
   ]
  },
  {
   "cell_type": "code",
   "execution_count": 38,
   "metadata": {},
   "outputs": [],
   "source": [
    "param = {\n",
    "      \"ntrees\" : 200\n",
    "    , \"max_depth\" : 20\n",
    "    #Row sample rate per tree (from 0.0 to 1.0). (default: ``0.6320000291``)\n",
    "    , \"sample_rate\" : 0.6\n",
    "    #col_sample_rate_per_tree: column sampling rate for each tree (without replacement)\n",
    "    , \"col_sample_rate_per_tree\" : 0.9\n",
    "    #mtries is applied AFTER col_sample_rate_per_tree\n",
    "    , \"mtries\" : -1\n",
    "    , \"min_rows\" : 10\n",
    "    # beware of default min split improvement if using imbalanced classes\n",
    "    #, min_split_improvement\n",
    "    , \"seed\": 2019\n",
    "    , \"score_each_iteration\": True\n",
    "    , \"score_tree_interval\": 1\n",
    "    , \"stopping_metric\": 'mae'\n",
    "    , \"stopping_rounds\": 20\n",
    "}"
   ]
  },
  {
   "cell_type": "code",
   "execution_count": 39,
   "metadata": {},
   "outputs": [],
   "source": [
    "model = H2ORandomForestEstimator(**param)"
   ]
  },
  {
   "cell_type": "code",
   "execution_count": 40,
   "metadata": {},
   "outputs": [
    {
     "name": "stdout",
     "output_type": "stream",
     "text": [
      "drf Model Build progress: |███████████████████████████████████████████████| 100%\n"
     ]
    }
   ],
   "source": [
    "model.train(x=vars_ind, \n",
    "            y='target',\n",
    "            training_frame=h2o_df_all[idx_h2o_train, :],\n",
    "            validation_frame=h2o_df_all[idx_h2o_val, :]\n",
    "            )"
   ]
  },
  {
   "cell_type": "code",
   "execution_count": 41,
   "metadata": {},
   "outputs": [
    {
     "name": "stdout",
     "output_type": "stream",
     "text": [
      "train error 0.10393794079759276\n",
      "val error 0.12528279137582257\n"
     ]
    }
   ],
   "source": [
    "h2o.no_progress()\n",
    "\n",
    "pred_train = model.predict(h2o_df_all[idx_h2o_train, :])\n",
    "pred_val   = model.predict(h2o_df_all[idx_h2o_val, :])\n",
    "pred_test  = model.predict(h2o_df_all[idx_h2o_test, :])\n",
    "\n",
    "pred_train = pred_train.as_data_frame().values.ravel()\n",
    "pred_val   = pred_val.as_data_frame().values.ravel()\n",
    "pred_test  = pred_test.as_data_frame().values.ravel()\n",
    "\n",
    "print('train error', fn_MAE(y[idx_train], pred_train))\n",
    "print('val error',   fn_MAE(y[idx_val],   pred_val))\n",
    "\n",
    "\n",
    "h2o.show_progress()\n"
   ]
  },
  {
   "cell_type": "code",
   "execution_count": null,
   "metadata": {},
   "outputs": [],
   "source": []
  }
 ],
 "metadata": {
  "kernelspec": {
   "display_name": "Python 3",
   "language": "python",
   "name": "python3"
  },
  "language_info": {
   "codemirror_mode": {
    "name": "ipython",
    "version": 3
   },
   "file_extension": ".py",
   "mimetype": "text/x-python",
   "name": "python",
   "nbconvert_exporter": "python",
   "pygments_lexer": "ipython3",
   "version": "3.6.8"
  }
 },
 "nbformat": 4,
 "nbformat_minor": 2
}
