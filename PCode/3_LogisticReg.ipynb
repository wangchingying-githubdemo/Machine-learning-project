{
 "cells": [
  {
   "cell_type": "markdown",
   "metadata": {},
   "source": [
    "# 3. LogisticReg(sklearn)"
   ]
  },
  {
   "cell_type": "markdown",
   "metadata": {},
   "source": [
    "Since the problem we are dealing with is a classification problem where the dependent variable is binary, logistic regression is used over a linear regression\n",
    "\n",
    "Resources:\n",
    "- https://www.datacamp.com/community/tutorials/understanding-logistic-regression-python\n",
    "- https://towardsdatascience.com/building-a-logistic-regression-in-python-301d27367c24\n",
    "- https://www.datacamp.com/community/tutorials/parameter-optimization-machine-learning-models"
   ]
  },
  {
   "cell_type": "markdown",
   "metadata": {},
   "source": [
    "**Import packages**"
   ]
  },
  {
   "cell_type": "code",
   "execution_count": 1,
   "metadata": {},
   "outputs": [],
   "source": [
    "import os\n",
    "import numpy as np\n",
    "import pandas as pd\n",
    "import pickle\n",
    "from sklearn.linear_model import LogisticRegression\n",
    "from sklearn.preprocessing import StandardScaler\n",
    "import matplotlib.pyplot as plt\n",
    "%matplotlib inline"
   ]
  },
  {
   "cell_type": "markdown",
   "metadata": {},
   "source": [
    "**Set directories**"
   ]
  },
  {
   "cell_type": "code",
   "execution_count": 2,
   "metadata": {},
   "outputs": [
    {
     "name": "stdout",
     "output_type": "stream",
     "text": [
      "C:\\Users\\munch\\Documents\\Cass MSc\\Term 3\\Machine Learning\\Coursework\\PCode\n"
     ]
    }
   ],
   "source": [
    "print(os.getcwd())\n",
    "dirRawData = \"../RawData/\"\n",
    "dirPData = \"../PData/\"\n",
    "dirPOutput = \"../POutput/\""
   ]
  },
  {
   "cell_type": "markdown",
   "metadata": {},
   "source": [
    "**Load data**"
   ]
  },
  {
   "cell_type": "code",
   "execution_count": 3,
   "metadata": {},
   "outputs": [],
   "source": [
    "f_name = dirPData + '02_df.pickle'\n",
    "with open(f_name, \"rb\") as f:\n",
    "    dict_ = pickle.load(f)\n",
    "    \n",
    "df_all_onehot = dict_['df_all_onehot']\n",
    "\n",
    "del f_name, dict_\n",
    "\n",
    "f_name = dirPData + '02_vars.pickle'\n",
    "with open(f_name, \"rb\") as f:\n",
    "    dict_ = pickle.load(f)\n",
    "    \n",
    "vars_ind_num = dict_['vars_ind_num']\n",
    "var_dep = dict_['var_dep']\n",
    "vars_ind_categorical = dict_['vars_ind_categorical']\n",
    "vars_ind_onehot = dict_['vars_ind_onehot']\n",
    "\n",
    "del f_name, dict_"
   ]
  },
  {
   "cell_type": "markdown",
   "metadata": {},
   "source": [
    "**Split data into training, validation and test folds**"
   ]
  },
  {
   "cell_type": "code",
   "execution_count": 4,
   "metadata": {},
   "outputs": [],
   "source": [
    "idx_train  = np.where(df_all_onehot['fold'].isin(np.arange(0,8)))[0] #[0,1,2,3,4,5,6,7]\n",
    "idx_val    = np.where(df_all_onehot['fold'].isin([8,9]))[0] #[8,9]\n",
    "idx_design = np.where(df_all_onehot['fold'].isin(np.arange(0,10)))[0] #[0,1,2,3,4,5,6,7,8,9]\n",
    "idx_test = np.where(df_all_onehot['fold'].isin([10]))[0]"
   ]
  },
  {
   "cell_type": "code",
   "execution_count": 5,
   "metadata": {},
   "outputs": [],
   "source": [
    "vars_ind = vars_ind_num + vars_ind_onehot"
   ]
  },
  {
   "cell_type": "markdown",
   "metadata": {},
   "source": [
    "**Prepare X and Y datasets**"
   ]
  },
  {
   "cell_type": "code",
   "execution_count": 6,
   "metadata": {},
   "outputs": [],
   "source": [
    "#prepare x and y data\n",
    "x = df_all_onehot[vars_ind].values\n",
    "y = df_all_onehot[var_dep].values\n",
    "\n",
    "y_train = y[idx_train]\n",
    "y_val = y[idx_val]\n",
    "y_design = y[idx_design]"
   ]
  },
  {
   "cell_type": "code",
   "execution_count": 7,
   "metadata": {},
   "outputs": [],
   "source": [
    "#Standardize the data\n",
    "from sklearn.preprocessing import StandardScaler\n",
    "standardScaler_ = StandardScaler()\n",
    "standardScaler_.fit(x[idx_train])\n",
    "\n",
    "X_train = standardScaler_.transform(x[idx_train])\n",
    "X_val   = standardScaler_.transform(x[idx_val])\n",
    "X_test = standardScaler_.transform(x[idx_test])\n",
    "X_design = standardScaler_.transform(x[idx_design])"
   ]
  },
  {
   "cell_type": "markdown",
   "metadata": {},
   "source": [
    "**L2 Logistic Regression**"
   ]
  },
  {
   "cell_type": "code",
   "execution_count": 8,
   "metadata": {},
   "outputs": [
    {
     "data": {
      "text/plain": [
       "LogisticRegression(C=1.0, class_weight=None, dual=False, fit_intercept=True,\n",
       "                   intercept_scaling=1, l1_ratio=None, max_iter=100,\n",
       "                   multi_class='warn', n_jobs=None, penalty='l2',\n",
       "                   random_state=None, solver='liblinear', tol=0.0001, verbose=0,\n",
       "                   warm_start=False)"
      ]
     },
     "execution_count": 8,
     "metadata": {},
     "output_type": "execute_result"
    }
   ],
   "source": [
    "lr2_= LogisticRegression(penalty='l2',solver='liblinear')\n",
    "lr2_.fit(X=X_train, y = np.ravel(y_train))"
   ]
  },
  {
   "cell_type": "code",
   "execution_count": 9,
   "metadata": {},
   "outputs": [],
   "source": [
    "# prediction (probabilities)\n",
    "lr2__pred_train_prob = lr2_.predict_proba(X_train)\n",
    "lr2__pred_val_prob   = lr2_.predict_proba(X_val)\n",
    "lr2__pred_test_prob = lr2_.predict_proba(X_test)\n",
    "\n",
    "#prediction (0 or 1 output)\n",
    "lr2__pred_train = lr2_.predict(X_train)\n",
    "lr2__pred_val   = lr2_.predict(X_val)\n",
    "lr2__pred_test = lr2_.predict(X_test)"
   ]
  },
  {
   "cell_type": "code",
   "execution_count": 10,
   "metadata": {},
   "outputs": [
    {
     "name": "stdout",
     "output_type": "stream",
     "text": [
      "train score is 0.9287126652096992\n",
      "val score is 0.9192520186995325\n"
     ]
    }
   ],
   "source": [
    "#print accuracy of the training and validation\n",
    "train_score = lr2_.score(X_train,y_train)\n",
    "val_score = lr2_.score(X_val, y_val)\n",
    "print(\"train score is {}\".format(train_score))\n",
    "print(\"val score is {}\".format(val_score))"
   ]
  },
  {
   "cell_type": "code",
   "execution_count": 12,
   "metadata": {},
   "outputs": [],
   "source": [
    "#save output for submission\n",
    "import csv\n",
    "f_name = dirPOutput + 'l2logreg.csv'\n",
    "\n",
    "df_test = pd.read_csv(dirRawData + 'test.csv')\n",
    "\n",
    "with open(f_name, 'w',newline='') as csvfile:\n",
    "    writer=csv.writer(csvfile,delimiter=',')\n",
    "    writer.writerow([\"id\", \"target\"])\n",
    "    writer.writerows(zip(df_test[df_test.columns[0]], lr2__pred_test_prob[:,1]))"
   ]
  },
  {
   "cell_type": "markdown",
   "metadata": {},
   "source": [
    "This baseline logistic regression with l2 penalty yielded a result of 0.85111 on kaggle"
   ]
  },
  {
   "cell_type": "code",
   "execution_count": 38,
   "metadata": {},
   "outputs": [
    {
     "data": {
      "text/plain": [
       "Text(0.5, 1.0, 'Train Accuracy: 0.92726')"
      ]
     },
     "execution_count": 38,
     "metadata": {},
     "output_type": "execute_result"
    },
    {
     "data": {
      "image/png": "[encoded data removed]",
      "text/plain": [
       "<Figure size 864x720 with 2 Axes>"
      ]
     },
     "metadata": {
      "needs_background": "light"
     },
     "output_type": "display_data"
    }
   ],
   "source": [
    "#confusion matrix\n",
    "from sklearn import metrics\n",
    "import seaborn as sns\n",
    "\n",
    "cm_val = metrics.confusion_matrix(y_val,lr2__pred_val)\n",
    "cm_train = metrics.confusion_matrix(y_train,lr2__pred_train)\n",
    "\n",
    "plt.figure(figsize = (12,10))\n",
    "\n",
    "plt.subplot(121)\n",
    "sns.heatmap(cm_val, annot= True, fmt = \"d\", linewidths=.5, square = True, cbar = False);\n",
    "plt.ylabel('actual')\n",
    "plt.xlabel('predicted')\n",
    "all_sample_title = 'Validation Accuracy: {0:.5f}'.format(val_score)\n",
    "plt.title(all_sample_title, size = 15)\n",
    "\n",
    "plt.subplot(122)\n",
    "sns.heatmap(cm_train, annot= True, fmt = \"d\", linewidths=.5, square = True, cbar = False);\n",
    "plt.ylabel('actual')\n",
    "plt.xlabel('predicted')\n",
    "all_sample_title = 'Train Accuracy: {0:.5f}'.format(train_score)\n",
    "plt.title(all_sample_title, size = 15)"
   ]
  },
  {
   "cell_type": "markdown",
   "metadata": {},
   "source": [
    "The confusion matrices above shows how accurate the predictions are, the elements in the diagonal are events in which the predicted value = actual value. For example, element(1,1) in the matrix shows the instances that the predicted value of 0 equaled to the actual value of 0; in other words, out of 2139 actual 0s, the model predicted 2096 correctly."
   ]
  },
  {
   "cell_type": "code",
   "execution_count": 24,
   "metadata": {},
   "outputs": [
    {
     "name": "stdout",
     "output_type": "stream",
     "text": [
      "average score using 10 fold cross validation on design data: 0.9179084137322124\n",
      "average roc_auc score using 10 fold cross validation on design data: 0.8301530696775012\n"
     ]
    }
   ],
   "source": [
    "#kfold cross validation for l2 Regression\n",
    "from sklearn.model_selection import KFold\n",
    "kf = KFold(n_splits=10, shuffle=False)\n",
    "\n",
    "from sklearn.model_selection import cross_val_score\n",
    "result_roc_auc = cross_val_score(lr2_, X_design, np.ravel(y_design), cv=kf, scoring='roc_auc')\n",
    "result_accuracy = cross_val_score(lr2_, X_design, np.ravel(y_design), cv=kf, scoring='accuracy')\n",
    "print(\"average score using 10 fold cross validation on design data: {}\".format(result_accuracy.mean()))\n",
    "print(\"average roc_auc score using 10 fold cross validation on design data: {}\".format(result_roc_auc.mean()))"
   ]
  },
  {
   "cell_type": "code",
   "execution_count": 25,
   "metadata": {},
   "outputs": [
    {
     "name": "stdout",
     "output_type": "stream",
     "text": [
      "train auc: 0.6645192647949824\n",
      "val auc: 0.6464906301748131\n"
     ]
    }
   ],
   "source": [
    "#print roc_auc_score\n",
    "from sklearn.metrics import roc_auc_score\n",
    "auc_train = roc_auc_score(y_train,lr2__pred_train)\n",
    "auc_val = roc_auc_score(y_val,lr2__pred_val)\n",
    "print(\"train auc: {}\".format(auc_train))\n",
    "print(\"val auc: {}\".format(auc_val))"
   ]
  },
  {
   "cell_type": "code",
   "execution_count": 26,
   "metadata": {},
   "outputs": [],
   "source": [
    "#fit using design data\n",
    "lr2_.fit(X=X_design, y = np.ravel(y_design))\n",
    "lr2__pred_test_prob = lr2_.predict_proba(X_test)\n",
    "lr2__pred_test = lr2_.predict(X_test)"
   ]
  },
  {
   "cell_type": "markdown",
   "metadata": {},
   "source": [
    "**L1 Logistic Regression**"
   ]
  },
  {
   "cell_type": "code",
   "execution_count": 27,
   "metadata": {},
   "outputs": [
    {
     "data": {
      "text/plain": [
       "LogisticRegression(C=1.0, class_weight=None, dual=False, fit_intercept=True,\n",
       "                   intercept_scaling=1, l1_ratio=None, max_iter=100,\n",
       "                   multi_class='warn', n_jobs=None, penalty='l1',\n",
       "                   random_state=None, solver='liblinear', tol=0.0001, verbose=0,\n",
       "                   warm_start=False)"
      ]
     },
     "execution_count": 27,
     "metadata": {},
     "output_type": "execute_result"
    }
   ],
   "source": [
    "#Using lasso regression -> penalty = l1\n",
    "lr1_= LogisticRegression(penalty = 'l1', solver ='liblinear')\n",
    "lr1_.fit(X=X_train, y = np.ravel(y_train))"
   ]
  },
  {
   "cell_type": "code",
   "execution_count": 28,
   "metadata": {},
   "outputs": [],
   "source": [
    "# prediction (probabilities)\n",
    "lr1__pred_train_prob = lr1_.predict_proba(X_train)\n",
    "lr1__pred_val_prob   = lr1_.predict_proba(X_val)\n",
    "lr1__pred_test_prob = lr1_.predict_proba(X_test)\n",
    "\n",
    "#prediction (0 or 1)\n",
    "lr1__pred_train = lr1_.predict(X_train)\n",
    "lr1__pred_val   = lr1_.predict(X_val)\n",
    "lr1__pred_test = lr1_.predict(X_test)"
   ]
  },
  {
   "cell_type": "code",
   "execution_count": 29,
   "metadata": {},
   "outputs": [
    {
     "name": "stdout",
     "output_type": "stream",
     "text": [
      "train score is 0.9272556977833282\n",
      "val score is 0.9196770080747981\n"
     ]
    }
   ],
   "source": [
    "#print accuracy of the training and validation\n",
    "train_score = lr1_.score(X_train,y_train)\n",
    "val_score = lr1_.score(X_val, y_val)\n",
    "print(\"train score is {}\".format(train_score))\n",
    "print(\"val score is {}\".format(val_score))"
   ]
  },
  {
   "cell_type": "code",
   "execution_count": 30,
   "metadata": {},
   "outputs": [
    {
     "name": "stdout",
     "output_type": "stream",
     "text": [
      "train auc: 0.6559755752452135\n",
      "val auc: 0.6467243842655097\n"
     ]
    }
   ],
   "source": [
    "#print roc_auc_score\n",
    "auc_train = roc_auc_score(y_train,lr1__pred_train)\n",
    "auc_val = roc_auc_score(y_val,lr1__pred_val)\n",
    "print(\"train auc: {}\".format(auc_train))\n",
    "print(\"val auc: {}\".format(auc_val))"
   ]
  },
  {
   "cell_type": "code",
   "execution_count": 31,
   "metadata": {},
   "outputs": [
    {
     "name": "stdout",
     "output_type": "stream",
     "text": [
      "average score using 10 fold cross validation on design data: 0.9185775894585964\n",
      "average roc_auc score using 10 fold cross validation on design data: 0.834327713670884\n"
     ]
    }
   ],
   "source": [
    "from sklearn.model_selection import cross_val_score\n",
    "result_roc_auc = cross_val_score(lr1_, X_design, np.ravel(y_design), cv=kf, scoring='roc_auc')\n",
    "result_accuracy = cross_val_score(lr1_, X_design, np.ravel(y_design), cv=kf, scoring='accuracy')\n",
    "print(\"average score using 10 fold cross validation on design data: {}\".format(result_accuracy.mean()))\n",
    "print(\"average roc_auc score using 10 fold cross validation on design data: {}\".format(result_roc_auc.mean()))"
   ]
  },
  {
   "cell_type": "code",
   "execution_count": 32,
   "metadata": {},
   "outputs": [],
   "source": [
    "#fit using design data\n",
    "lr1_.fit(X=X_design, y = np.ravel(y_design))\n",
    "lr1__pred_test_prob = lr1_.predict_proba(X_test)\n",
    "lr1__pred_test = lr1_.predict(X_test)"
   ]
  },
  {
   "cell_type": "markdown",
   "metadata": {},
   "source": [
    "It seems that the l1 regression had higher kfold cross validation scores than l2 regression. Thus we would expect l1 to give a better score on Kaggle. Next we employ grid search to optimize the parameters before submitting again on Kaggle"
   ]
  },
  {
   "cell_type": "markdown",
   "metadata": {},
   "source": [
    "**Optimize Logistic Regression through grid search**\n",
    "\n",
    "We use grid search to optimize the parameter lambda,the parameter \"C\" = 1/lambda in sklearn's logistic regression function, and compare penalty = \"l1\" or \"l2\"."
   ]
  },
  {
   "cell_type": "code",
   "execution_count": 51,
   "metadata": {},
   "outputs": [],
   "source": [
    "from sklearn.model_selection import GridSearchCV\n",
    "\n",
    "C=[0.05,0.1,1.0,1.5,2.0]\n",
    "penalty = [\"l1\",\"l2\"]\n",
    "param_grid = dict(penalty = penalty,C=C)\n",
    "lr_= LogisticRegression(solver ='liblinear')\n",
    "grid = GridSearchCV(estimator=lr_, param_grid=param_grid, cv = 10, n_jobs=-1, scoring = 'roc_auc')\n",
    "#cv = number of folds for validation"
   ]
  },
  {
   "cell_type": "code",
   "execution_count": 52,
   "metadata": {},
   "outputs": [
    {
     "name": "stdout",
     "output_type": "stream",
     "text": [
      "Best: 0.853389 using {'C': 0.05, 'penalty': 'l1'}\n"
     ]
    }
   ],
   "source": [
    "grid_result = grid.fit(X_design, np.ravel(y_design))\n",
    "print(\"Best: %f using %s\" % (grid_result.best_score_, grid_result.best_params_)) # Summarize results"
   ]
  },
  {
   "cell_type": "markdown",
   "metadata": {},
   "source": [
    "The auc score (approx 0.85) is higher than the 10 fold cross validation auc scores (approx 0.83) for both the l1 and l2 regressions (trained on design data). Thus we expect this to yield a higher kaggle score"
   ]
  },
  {
   "cell_type": "code",
   "execution_count": 53,
   "metadata": {},
   "outputs": [],
   "source": [
    "#use optimized logistic regression to predict test data\n",
    "lropt_= grid.predict(X_test)\n",
    "lropt_prob = grid.predict_proba(X_test)"
   ]
  },
  {
   "cell_type": "markdown",
   "metadata": {},
   "source": [
    "**Save prediction**"
   ]
  },
  {
   "cell_type": "code",
   "execution_count": 54,
   "metadata": {},
   "outputs": [],
   "source": [
    "import csv\n",
    "f_name = dirPOutput + 'optimizelogisticreg.csv'\n",
    "\n",
    "df_test = pd.read_csv(dirRawData + 'test.csv')\n",
    "\n",
    "with open(f_name, 'w',newline='') as csvfile:\n",
    "    writer=csv.writer(csvfile,delimiter=',')\n",
    "    writer.writerow([\"id\", \"target\"])\n",
    "    writer.writerows(zip(df_test[df_test.columns[0]], lropt_prob[:,1]))"
   ]
  },
  {
   "cell_type": "markdown",
   "metadata": {},
   "source": [
    "Using the best parameters for the logistic regression, we managed to improve the kaggle score to 0.86802"
   ]
  },
  {
   "cell_type": "code",
   "execution_count": 62,
   "metadata": {},
   "outputs": [],
   "source": [
    "#save data\n",
    "lropt_prob_design = grid.predict_proba(X_design)\n",
    "dict_ = {'lropt_prob': lropt_prob_design,\n",
    "        'lropt_prob_test':lropt_prob}\n",
    "\n",
    "f_name = dirPData + 'logreg.pickle'\n",
    "with open(f_name, \"wb\") as f:\n",
    "    pickle.dump(dict_, f)\n",
    "del f_name"
   ]
  },
  {
   "cell_type": "code",
   "execution_count": null,
   "metadata": {},
   "outputs": [],
   "source": []
  }
 ],
 "metadata": {
  "kernelspec": {
   "display_name": "Python 3",
   "language": "python",
   "name": "python3"
  },
  "language_info": {
   "codemirror_mode": {
    "name": "ipython",
    "version": 3
   },
   "file_extension": ".py",
   "mimetype": "text/x-python",
   "name": "python",
   "nbconvert_exporter": "python",
   "pygments_lexer": "ipython3",
   "version": "3.6.8"
  }
 },
 "nbformat": 4,
 "nbformat_minor": 2
}
