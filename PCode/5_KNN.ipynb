{
 "cells": [
  {
   "cell_type": "markdown",
   "metadata": {},
   "source": [
    "## 5. K-nearest neighbours"
   ]
  },
  {
   "cell_type": "markdown",
   "metadata": {
    "ExecuteTime": {
     "end_time": "2019-06-29T13:00:19.681894Z",
     "start_time": "2019-06-29T13:00:19.676876Z"
    }
   },
   "source": [
    "### Set up the session"
   ]
  },
  {
   "cell_type": "markdown",
   "metadata": {},
   "source": [
    "#### Import libraries"
   ]
  },
  {
   "cell_type": "code",
   "execution_count": 1,
   "metadata": {
    "ExecuteTime": {
     "end_time": "2019-07-11T23:48:48.721839Z",
     "start_time": "2019-07-11T23:48:46.044585Z"
    }
   },
   "outputs": [],
   "source": [
    "import os #using operating system dependent functionality.\n",
    "import numpy as np #Computations\n",
    "import pandas as pd #For data manipulation\n",
    "import pickle # for serializing and de-serializing a Python object structure\n",
    "from sklearn.metrics import roc_auc_score\n",
    "\n",
    "from sklearn.preprocessing import StandardScaler # to standardize features \n",
    "\n",
    "import matplotlib.pyplot as plt #for plotting\n",
    "%matplotlib inline "
   ]
  },
  {
   "cell_type": "markdown",
   "metadata": {},
   "source": [
    "#### Set directories"
   ]
  },
  {
   "cell_type": "code",
   "execution_count": 2,
   "metadata": {
    "ExecuteTime": {
     "end_time": "2019-07-11T23:48:48.738736Z",
     "start_time": "2019-07-11T23:48:48.734746Z"
    }
   },
   "outputs": [
    {
     "name": "stdout",
     "output_type": "stream",
     "text": [
      "C:\\Users\\rodo2\\Dropbox\\aml\\projects\\CW\\Part2\\PCode\n"
     ]
    }
   ],
   "source": [
    "print(os.getcwd())\n",
    "dirRawData = \"../RawData/\"\n",
    "dirPData = \"../PData/\"\n",
    "dirPOutput = \"../POutput/\""
   ]
  },
  {
   "cell_type": "markdown",
   "metadata": {},
   "source": [
    "#### Load the data"
   ]
  },
  {
   "cell_type": "code",
   "execution_count": 3,
   "metadata": {
    "ExecuteTime": {
     "end_time": "2019-07-11T23:48:50.250587Z",
     "start_time": "2019-07-11T23:48:49.646157Z"
    }
   },
   "outputs": [],
   "source": [
    "# load df_all\n",
    "f_name = dirPData + '02_df.pickle'\n",
    "with open(f_name, \"rb\") as f:\n",
    "    dict_ = pickle.load(f)\n",
    "    \n",
    "df_all_onehot = dict_['df_all_onehot']\n",
    "\n",
    "del f_name, dict_"
   ]
  },
  {
   "cell_type": "code",
   "execution_count": 4,
   "metadata": {
    "ExecuteTime": {
     "end_time": "2019-07-11T23:48:51.014155Z",
     "start_time": "2019-07-11T23:48:50.950327Z"
    }
   },
   "outputs": [],
   "source": [
    "# load the dict_ that was saved to pickle\n",
    "#dict_ = {'vars_ind': vars_ind, 'idx_design': idx_design, 'idx_test': idx_test}\n",
    "f_name = dirPData + '02_vars.pickle'\n",
    "with open(f_name, \"rb\") as f:\n",
    "    dict_ = pickle.load(f)\n",
    "    \n",
    "var_dep = dict_['var_dep']\n",
    "vars_ind_num = dict_['vars_ind_num']\n",
    "vars_ind_categorical = dict_['vars_ind_categorical']\n",
    "vars_ind_onehot = dict_['vars_ind_onehot']\n",
    "\n",
    "del f_name, dict_"
   ]
  },
  {
   "cell_type": "markdown",
   "metadata": {},
   "source": [
    "#### Preparing the data"
   ]
  },
  {
   "cell_type": "code",
   "execution_count": 5,
   "metadata": {
    "ExecuteTime": {
     "end_time": "2019-07-11T23:48:52.024479Z",
     "start_time": "2019-07-11T23:48:52.012511Z"
    }
   },
   "outputs": [],
   "source": [
    "#Create indexes for the train, validatiom, design and test set\n",
    "idx_train  = np.where(df_all_onehot['fold'].isin(np.arange(0,8)))[0] \n",
    "idx_val    = np.where(df_all_onehot['fold'].isin([8,9]))[0]\n",
    "idx_design = np.where(df_all_onehot['fold'].isin(np.arange(0,10)))[0]\n",
    "idx_test   = np.where(df_all_onehot['fold'].isin([10]))[0]"
   ]
  },
  {
   "cell_type": "code",
   "execution_count": 6,
   "metadata": {
    "ExecuteTime": {
     "end_time": "2019-07-11T23:48:53.277116Z",
     "start_time": "2019-07-11T23:48:53.272089Z"
    }
   },
   "outputs": [
    {
     "data": {
      "text/plain": [
       "True"
      ]
     },
     "execution_count": 6,
     "metadata": {},
     "output_type": "execute_result"
    }
   ],
   "source": [
    "#Check if the validation set and the train set is the same as the design set\n",
    "len(idx_val)+len(idx_train) == len(idx_design)"
   ]
  },
  {
   "cell_type": "code",
   "execution_count": 7,
   "metadata": {
    "ExecuteTime": {
     "end_time": "2019-07-11T23:48:54.560821Z",
     "start_time": "2019-07-11T23:48:54.556831Z"
    }
   },
   "outputs": [],
   "source": [
    "#Store the length of the indexes \n",
    "n_train = len(idx_train)\n",
    "n_val = len(idx_val)\n",
    "n_test = len(idx_test)"
   ]
  },
  {
   "cell_type": "code",
   "execution_count": 8,
   "metadata": {
    "ExecuteTime": {
     "end_time": "2019-07-11T23:48:55.713522Z",
     "start_time": "2019-07-11T23:48:55.709577Z"
    }
   },
   "outputs": [],
   "source": [
    "#store all the independent variables into one\n",
    "vars_ind = vars_ind_num + vars_ind_onehot"
   ]
  },
  {
   "cell_type": "code",
   "execution_count": 9,
   "metadata": {
    "ExecuteTime": {
     "end_time": "2019-07-11T23:48:56.817631Z",
     "start_time": "2019-07-11T23:48:56.409796Z"
    }
   },
   "outputs": [],
   "source": [
    "X = df_all_onehot[vars_ind].values #extract the values\n",
    "\n",
    "# Standardise (each feature to have mean:0 and stdev:1)\n",
    "X_train  = X[idx_train, :]\n",
    "\n",
    "standardScaler_ = StandardScaler()\n",
    "standardScaler_.fit(X_train)\n",
    "\n",
    "# Now standardise all the data\n",
    "X = standardScaler_.transform(X)"
   ]
  },
  {
   "cell_type": "code",
   "execution_count": 10,
   "metadata": {
    "ExecuteTime": {
     "end_time": "2019-07-11T23:48:57.647256Z",
     "start_time": "2019-07-11T23:48:57.547188Z"
    }
   },
   "outputs": [],
   "source": [
    "X_design = X[idx_design, :]\n",
    "X_train  = X[idx_train, :]\n",
    "X_val    = X[idx_val, :]\n",
    "X_test   = X[idx_test, :]"
   ]
  },
  {
   "cell_type": "code",
   "execution_count": 11,
   "metadata": {
    "ExecuteTime": {
     "end_time": "2019-07-11T23:48:58.703730Z",
     "start_time": "2019-07-11T23:48:58.687773Z"
    }
   },
   "outputs": [],
   "source": [
    "y_design = df_all_onehot[var_dep].iloc[idx_design].copy().values.ravel()\n",
    "y_train  = df_all_onehot[var_dep].iloc[idx_train].copy().values.ravel()\n",
    "y_val    = df_all_onehot[var_dep].iloc[idx_val].copy().values.ravel()\n",
    "y_test   = df_all_onehot[var_dep].iloc[idx_test].copy().values.ravel()"
   ]
  },
  {
   "cell_type": "markdown",
   "metadata": {
    "ExecuteTime": {
     "end_time": "2019-06-29T15:09:49.534350Z",
     "start_time": "2019-06-29T15:09:49.530359Z"
    }
   },
   "source": [
    "## k-nearest neighbours"
   ]
  },
  {
   "cell_type": "markdown",
   "metadata": {},
   "source": [
    "#### Import libraries"
   ]
  },
  {
   "cell_type": "code",
   "execution_count": 12,
   "metadata": {
    "ExecuteTime": {
     "end_time": "2019-07-11T23:49:02.436661Z",
     "start_time": "2019-07-11T23:49:02.033316Z"
    }
   },
   "outputs": [],
   "source": [
    "from sklearn.neighbors import KNeighborsClassifier"
   ]
  },
  {
   "cell_type": "markdown",
   "metadata": {},
   "source": [
    "#### Tunning k parameter "
   ]
  },
  {
   "cell_type": "code",
   "execution_count": 13,
   "metadata": {
    "ExecuteTime": {
     "end_time": "2019-07-11T23:53:41.071302Z",
     "start_time": "2019-07-11T23:49:03.521282Z"
    }
   },
   "outputs": [],
   "source": [
    "#set a range for k parameter\n",
    "k_range = range(1, 15) \n",
    "#variable to store the mean absolute error for each k\n",
    "auc_k = np.zeros(len(k_range)) #initialisation with 0s\n",
    "for k in k_range:\n",
    "    sknn_ = KNeighborsClassifier(n_neighbors=k, \n",
    "                                weights='uniform',\n",
    "                                algorithm='auto', \n",
    "                                p=2, \n",
    "                                metric='minkowski')\n",
    "    sknn_.fit(X_train, y_train) \n",
    "    sknn_pred_val = sknn_.predict(X_val)\n",
    "    auc_k[k - 1] = roc_auc_score(y_val,sknn_pred_val)"
   ]
  },
  {
   "cell_type": "code",
   "execution_count": 26,
   "metadata": {
    "ExecuteTime": {
     "end_time": "2019-07-12T00:17:19.474673Z",
     "start_time": "2019-07-12T00:17:19.337821Z"
    }
   },
   "outputs": [
    {
     "data": {
      "image/png": "[encoded data removed]",
      "text/plain": [
       "<Figure size 720x432 with 1 Axes>"
      ]
     },
     "metadata": {
      "needs_background": "light"
     },
     "output_type": "display_data"
    }
   ],
   "source": [
    "#Plotting the validation curve to see the best k\n",
    "fig = plt.figure(figsize = (10,6))\n",
    "ax1 = fig.add_subplot(1, 1, 1)\n",
    "\n",
    "ax1.plot(k_range, auc_k, 'ko-')\n",
    "ax1.set_xlabel('k (number of nearest neighbours used)')\n",
    "ax1.set_ylabel('AUC')\n",
    "_ = plt.title('Validation Curve for kNN')"
   ]
  },
  {
   "cell_type": "code",
   "execution_count": 39,
   "metadata": {
    "ExecuteTime": {
     "end_time": "2019-07-12T00:22:33.558282Z",
     "start_time": "2019-07-12T00:22:33.555307Z"
    }
   },
   "outputs": [],
   "source": [
    "#Find the k with the minimum MAE\n",
    "best_k = 3"
   ]
  },
  {
   "cell_type": "code",
   "execution_count": 40,
   "metadata": {
    "ExecuteTime": {
     "end_time": "2019-07-12T00:24:21.258438Z",
     "start_time": "2019-07-12T00:24:21.253451Z"
    }
   },
   "outputs": [
    {
     "data": {
      "text/plain": [
       "array([0.60512599, 0.55747511, 0.5922859 , 0.56355053, 0.57897065,\n",
       "       0.56869093, 0.57546653, 0.55981265, 0.56845718, 0.55770995,\n",
       "       0.56425179, 0.55560726, 0.5626166 , 0.55116812])"
      ]
     },
     "execution_count": 40,
     "metadata": {},
     "output_type": "execute_result"
    }
   ],
   "source": [
    "auc_k"
   ]
  },
  {
   "cell_type": "markdown",
   "metadata": {},
   "source": [
    "#### Modelling"
   ]
  },
  {
   "cell_type": "code",
   "execution_count": 41,
   "metadata": {
    "ExecuteTime": {
     "end_time": "2019-07-12T00:29:01.162347Z",
     "start_time": "2019-07-12T00:25:33.272547Z"
    }
   },
   "outputs": [],
   "source": [
    "#Fit the model on design set\n",
    "sknn_ = KNeighborsClassifier(n_neighbors=best_k, \n",
    "                            weights='uniform',\n",
    "                            algorithm='auto', \n",
    "                            p=2, \n",
    "                            metric='minkowski')\n",
    "sknn_.fit(X_design, y_design)\n",
    "#Predict on design set\n",
    "sknn_pred_design_prob = sknn_.predict_proba(X_design) #probability estimates for the test data X_test\n",
    "\n",
    "\n",
    "#Predict on test set\n",
    "sknn_pred_test = sknn_.predict(X_test) #predicted values\n",
    "sknn_pred_test_prob = sknn_.predict_proba(X_test) #probability estimates for the test data X_test"
   ]
  },
  {
   "cell_type": "markdown",
   "metadata": {},
   "source": [
    "#### Performance"
   ]
  },
  {
   "cell_type": "code",
   "execution_count": 42,
   "metadata": {
    "ExecuteTime": {
     "end_time": "2019-07-12T00:39:39.449895Z",
     "start_time": "2019-07-12T00:36:00.483036Z"
    }
   },
   "outputs": [
    {
     "name": "stdout",
     "output_type": "stream",
     "text": [
      "average score using 10 fold cross validation on design data: 0.9066218360840785\n",
      "average roc_auc score using 10 fold cross validation on design data: 0.6340344940299012\n"
     ]
    }
   ],
   "source": [
    "#kfold cross validation\n",
    "from sklearn.model_selection import KFold\n",
    "kf = KFold(n_splits=10, shuffle=False)\n",
    "\n",
    "from sklearn.model_selection import cross_val_score\n",
    "result_roc_auc = cross_val_score(sknn_, X_design, np.ravel(y_design), cv=kf, scoring='roc_auc')\n",
    "result_accuracy = cross_val_score(sknn_, X_design, np.ravel(y_design), cv=kf, scoring='accuracy')\n",
    "print(\"average score using 10 fold cross validation on design data: {}\".format(result_accuracy.mean()))\n",
    "print(\"average roc_auc score using 10 fold cross validation on design data: {}\".format(result_roc_auc.mean()))"
   ]
  },
  {
   "cell_type": "code",
   "execution_count": 43,
   "metadata": {
    "ExecuteTime": {
     "end_time": "2019-07-12T00:41:55.007402Z",
     "start_time": "2019-07-12T00:39:39.552622Z"
    }
   },
   "outputs": [],
   "source": [
    "#Calculate the mean accuracy on the given data and labels from design set\n",
    "score_des = sknn_.score(X_design, y_design) \n",
    "#Calculate the mean accuracy on the given data and labels from validation set\n",
    "score_val = sknn_.score(X_val, y_val) "
   ]
  },
  {
   "cell_type": "code",
   "execution_count": 44,
   "metadata": {
    "ExecuteTime": {
     "end_time": "2019-07-12T00:41:55.105925Z",
     "start_time": "2019-07-12T00:41:55.100996Z"
    }
   },
   "outputs": [
    {
     "data": {
      "text/plain": [
       "0.9340411302457783"
      ]
     },
     "execution_count": 44,
     "metadata": {},
     "output_type": "execute_result"
    }
   ],
   "source": [
    "score_des"
   ]
  },
  {
   "cell_type": "code",
   "execution_count": 45,
   "metadata": {
    "ExecuteTime": {
     "end_time": "2019-07-12T00:41:55.202948Z",
     "start_time": "2019-07-12T00:41:55.198959Z"
    }
   },
   "outputs": [
    {
     "data": {
      "text/plain": [
       "0.9388015299617509"
      ]
     },
     "execution_count": 45,
     "metadata": {},
     "output_type": "execute_result"
    }
   ],
   "source": [
    "score_val"
   ]
  },
  {
   "cell_type": "markdown",
   "metadata": {},
   "source": [
    "## Save the model"
   ]
  },
  {
   "cell_type": "code",
   "execution_count": 46,
   "metadata": {
    "ExecuteTime": {
     "end_time": "2019-07-12T00:44:36.992097Z",
     "start_time": "2019-07-12T00:44:36.776543Z"
    }
   },
   "outputs": [
    {
     "data": {
      "text/plain": [
       "'../PData/kNN_model.pickle'"
      ]
     },
     "execution_count": 46,
     "metadata": {},
     "output_type": "execute_result"
    }
   ],
   "source": [
    "f_name = dirPData + 'kNN_model.pickle'\n",
    "\n",
    "with open(f_name, \"wb\") as f:\n",
    "    pickle.dump(sknn_, f)\n",
    "    \n",
    "f_name"
   ]
  },
  {
   "cell_type": "markdown",
   "metadata": {},
   "source": [
    "## Save predictions "
   ]
  },
  {
   "cell_type": "code",
   "execution_count": 47,
   "metadata": {
    "ExecuteTime": {
     "end_time": "2019-07-12T00:44:38.865890Z",
     "start_time": "2019-07-12T00:44:38.669884Z"
    }
   },
   "outputs": [],
   "source": [
    "import csv\n",
    "f_name = dirPOutput + 'knn_predictions.csv'\n",
    "df_test = pd.read_csv(dirRawData + 'test.csv')\n",
    "\n",
    "with open(f_name, 'w') as csvfile:\n",
    "    writer=csv.writer(csvfile, delimiter=',')\n",
    "    writer.writerow([\"id\", \"target\"])\n",
    "    writer.writerows(zip(df_test[df_test.columns[0]], sknn_pred_test_prob[:,1]))"
   ]
  },
  {
   "cell_type": "code",
   "execution_count": 48,
   "metadata": {
    "ExecuteTime": {
     "end_time": "2019-07-12T00:44:40.412878Z",
     "start_time": "2019-07-12T00:44:40.399909Z"
    }
   },
   "outputs": [],
   "source": [
    "#save data\n",
    "dict_ = {'knn_prob_design': sknn_pred_design_prob,\n",
    "        'knn_prob_test' : sknn_pred_test_prob}\n",
    "\n",
    "f_name = dirPData + 'knn.pickle'\n",
    "with open(f_name, \"wb\") as f:\n",
    "    pickle.dump(dict_, f)\n",
    "del f_name"
   ]
  },
  {
   "cell_type": "markdown",
   "metadata": {},
   "source": [
    "Kaggle score for kNN: 0.67657 "
   ]
  },
  {
   "cell_type": "markdown",
   "metadata": {},
   "source": [
    "Note: This score is before we made some changes. We weren't able to update our predictions on Kaggle, but we don't expect the score to be much different."
   ]
  }
 ],
 "metadata": {
  "kernelspec": {
   "display_name": "Python 3",
   "language": "python",
   "name": "python3"
  },
  "language_info": {
   "codemirror_mode": {
    "name": "ipython",
    "version": 3
   },
   "file_extension": ".py",
   "mimetype": "text/x-python",
   "name": "python",
   "nbconvert_exporter": "python",
   "pygments_lexer": "ipython3",
   "version": "3.6.8"
  },
  "toc": {
   "base_numbering": 1,
   "nav_menu": {},
   "number_sections": true,
   "sideBar": true,
   "skip_h1_title": false,
   "title_cell": "Table of Contents",
   "title_sidebar": "Contents",
   "toc_cell": false,
   "toc_position": {},
   "toc_section_display": true,
   "toc_window_display": false
  },
  "varInspector": {
   "cols": {
    "lenName": 16,
    "lenType": 16,
    "lenVar": 40
   },
   "kernels_config": {
    "python": {
     "delete_cmd_postfix": "",
     "delete_cmd_prefix": "del ",
     "library": "var_list.py",
     "varRefreshCmd": "print(var_dic_list())"
    },
    "r": {
     "delete_cmd_postfix": ") ",
     "delete_cmd_prefix": "rm(",
     "library": "var_list.r",
     "varRefreshCmd": "cat(var_dic_list()) "
    }
   },
   "types_to_exclude": [
    "module",
    "function",
    "builtin_function_or_method",
    "instance",
    "_Feature"
   ],
   "window_display": false
  }
 },
 "nbformat": 4,
 "nbformat_minor": 2
}
