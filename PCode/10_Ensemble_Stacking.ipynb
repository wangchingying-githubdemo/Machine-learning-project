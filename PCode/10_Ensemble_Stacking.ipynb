{
 "cells": [
  {
   "cell_type": "markdown",
   "metadata": {},
   "source": [
    "## 10. Ensembling"
   ]
  },
  {
   "cell_type": "markdown",
   "metadata": {},
   "source": [
    "#### Import libraries"
   ]
  },
  {
   "cell_type": "code",
   "execution_count": 1,
   "metadata": {},
   "outputs": [],
   "source": [
    "import os\n",
    "import numpy as np\n",
    "import pandas as pd\n",
    "import pickle\n",
    "\n",
    "from sklearn.preprocessing import StandardScaler # to standardize features \n",
    "\n",
    "import matplotlib.pyplot as plt\n",
    "%matplotlib inline"
   ]
  },
  {
   "cell_type": "code",
   "execution_count": 2,
   "metadata": {},
   "outputs": [
    {
     "name": "stdout",
     "output_type": "stream",
     "text": [
      "C:\\Users\\munch\\Documents\\Cass MSc\\Term 3\\Machine Learning\\Coursework\\PCode\n"
     ]
    }
   ],
   "source": [
    "print(os.getcwd())\n",
    "dirRawData = \"../RawData/\"\n",
    "dirPData = \"../PData/\"\n",
    "dirPOutput = \"../POutput/\""
   ]
  },
  {
   "cell_type": "markdown",
   "metadata": {},
   "source": [
    "#### Load the data"
   ]
  },
  {
   "cell_type": "code",
   "execution_count": 3,
   "metadata": {},
   "outputs": [],
   "source": [
    "# load df_all\n",
    "f_name = dirPData + '02_df.pickle'\n",
    "with open(f_name, \"rb\") as f:\n",
    "    dict_ = pickle.load(f)\n",
    "    \n",
    "df_all_onehot = dict_['df_all_onehot']\n",
    "\n",
    "del f_name, dict_"
   ]
  },
  {
   "cell_type": "code",
   "execution_count": 4,
   "metadata": {},
   "outputs": [],
   "source": [
    "# load the dict_ that was saved to pickle\n",
    "#dict_ = {'vars_ind': vars_ind, 'idx_design': idx_design, 'idx_test': idx_test}\n",
    "f_name = dirPData + '02_vars.pickle'\n",
    "with open(f_name, \"rb\") as f:\n",
    "    dict_ = pickle.load(f)\n",
    "    \n",
    "var_dep = dict_['var_dep']\n",
    "vars_ind_num = dict_['vars_ind_num']\n",
    "vars_ind_categorical = dict_['vars_ind_categorical']\n",
    "vars_ind_onehot = dict_['vars_ind_onehot']\n",
    "\n",
    "del f_name, dict_"
   ]
  },
  {
   "cell_type": "markdown",
   "metadata": {},
   "source": [
    "#### Preparing the data"
   ]
  },
  {
   "cell_type": "code",
   "execution_count": 5,
   "metadata": {},
   "outputs": [],
   "source": [
    "#Create indexes for the train, validatiom, design and test set\n",
    "idx_train  = np.where(df_all_onehot['fold'].isin(np.arange(0,8)))[0] \n",
    "idx_val    = np.where(df_all_onehot['fold'].isin([8,9]))[0]\n",
    "idx_design = np.where(df_all_onehot['fold'].isin(np.arange(0,10)))[0]\n",
    "idx_test   = np.where(df_all_onehot['fold'].isin([10]))[0]"
   ]
  },
  {
   "cell_type": "code",
   "execution_count": 6,
   "metadata": {},
   "outputs": [
    {
     "data": {
      "text/plain": [
       "True"
      ]
     },
     "execution_count": 6,
     "metadata": {},
     "output_type": "execute_result"
    }
   ],
   "source": [
    "#Check if the validation set and the train set is the same as the design set\n",
    "len(idx_val)+len(idx_train) == len(idx_design)"
   ]
  },
  {
   "cell_type": "code",
   "execution_count": 7,
   "metadata": {},
   "outputs": [],
   "source": [
    "#Store the length of the indexes \n",
    "n_train = len(idx_train)\n",
    "n_val = len(idx_val)\n",
    "n_test = len(idx_test)"
   ]
  },
  {
   "cell_type": "code",
   "execution_count": 8,
   "metadata": {},
   "outputs": [],
   "source": [
    "#store all the independent variables into one\n",
    "vars_ind = vars_ind_num + vars_ind_onehot"
   ]
  },
  {
   "cell_type": "code",
   "execution_count": 9,
   "metadata": {},
   "outputs": [],
   "source": [
    "X = df_all_onehot[vars_ind].values #extract the values\n",
    "\n",
    "# Standardise (each feature to have mean:0 and stdev:1)\n",
    "X_train  = X[idx_train, :]\n",
    "\n",
    "standardScaler_ = StandardScaler()\n",
    "standardScaler_.fit(X_train)\n",
    "\n",
    "# Now standardise all the data\n",
    "X = standardScaler_.transform(X)"
   ]
  },
  {
   "cell_type": "code",
   "execution_count": 10,
   "metadata": {},
   "outputs": [],
   "source": [
    "X_design = X[idx_design, :]\n",
    "X_train  = X[idx_train, :]\n",
    "X_val    = X[idx_val, :]\n",
    "X_test   = X[idx_test, :]"
   ]
  },
  {
   "cell_type": "code",
   "execution_count": 11,
   "metadata": {},
   "outputs": [],
   "source": [
    "y_design = df_all_onehot[var_dep].iloc[idx_design].copy().values.ravel()\n",
    "y_train  = df_all_onehot[var_dep].iloc[idx_train].copy().values.ravel()\n",
    "y_val    = df_all_onehot[var_dep].iloc[idx_val].copy().values.ravel()\n",
    "y_test   = df_all_onehot[var_dep].iloc[idx_test].copy().values.ravel()"
   ]
  },
  {
   "cell_type": "markdown",
   "metadata": {},
   "source": [
    "# Load the models"
   ]
  },
  {
   "cell_type": "markdown",
   "metadata": {},
   "source": [
    "###### 1. Xgboost"
   ]
  },
  {
   "cell_type": "markdown",
   "metadata": {},
   "source": [
    "Kaggle Score: 0.87807"
   ]
  },
  {
   "cell_type": "code",
   "execution_count": 13,
   "metadata": {},
   "outputs": [],
   "source": [
    "f_name = dirPData + 'xgb.pickle'\n",
    "with open(f_name, \"rb\") as f:\n",
    "    dict_ = pickle.load(f)  \n",
    "xgb1_train = dict_['xgbopt_prob']\n",
    "xgb1_test = dict_['xgbopt_prob_test']\n",
    "    \n",
    "del f_name, dict_"
   ]
  },
  {
   "cell_type": "code",
   "execution_count": 14,
   "metadata": {},
   "outputs": [],
   "source": [
    "xgb1_train = xgb1_train[:,1]\n",
    "xgb1_test = xgb1_test[:,1]"
   ]
  },
  {
   "cell_type": "markdown",
   "metadata": {},
   "source": [
    "###### 2. Logistic Regression"
   ]
  },
  {
   "cell_type": "markdown",
   "metadata": {},
   "source": [
    "Kaggle score: 0.86802"
   ]
  },
  {
   "cell_type": "code",
   "execution_count": 15,
   "metadata": {},
   "outputs": [],
   "source": [
    "f_name = dirPData + 'logreg.pickle'\n",
    "with open(f_name, \"rb\") as f:\n",
    "    dict_ = pickle.load(f)  \n",
    "log_reg_design = dict_['lropt_prob']\n",
    "log_reg_test = dict_['lropt_prob_test']\n",
    "    \n",
    "del f_name, dict_"
   ]
  },
  {
   "cell_type": "code",
   "execution_count": 16,
   "metadata": {},
   "outputs": [],
   "source": [
    "lr_train = log_reg_design[:,1]\n",
    "lr_test = log_reg_test[:,1]"
   ]
  },
  {
   "cell_type": "markdown",
   "metadata": {},
   "source": [
    "###### 3. Elastic Net"
   ]
  },
  {
   "cell_type": "markdown",
   "metadata": {},
   "source": [
    "Kaggle score: 0.85632"
   ]
  },
  {
   "cell_type": "code",
   "execution_count": 17,
   "metadata": {},
   "outputs": [],
   "source": [
    "f_name = dirPData + 'EN.pickle'\n",
    "with open(f_name, \"rb\") as f:\n",
    "    dict_ = pickle.load(f)  \n",
    "EN_train = dict_['ENopt_prob']\n",
    "EN_test = dict_['ENopt_prob_test']\n",
    "    \n",
    "del f_name, dict_"
   ]
  },
  {
   "cell_type": "code",
   "execution_count": 18,
   "metadata": {},
   "outputs": [],
   "source": [
    "EN_train = EN_train[:,1]\n",
    "EN_test = EN_test[:,1]"
   ]
  },
  {
   "cell_type": "markdown",
   "metadata": {},
   "source": [
    "**4. Decision Tree**"
   ]
  },
  {
   "cell_type": "markdown",
   "metadata": {},
   "source": [
    "Kaggle Score: 0.78208"
   ]
  },
  {
   "cell_type": "code",
   "execution_count": 19,
   "metadata": {},
   "outputs": [],
   "source": [
    "f_name = dirPData + 'dt.pickle'\n",
    "with open(f_name, \"rb\") as f:\n",
    "    dict_ = pickle.load(f)  \n",
    "dt_train = dict_['dt_prob_design']\n",
    "dt_test = dict_['dt_prob_test']\n",
    "    \n",
    "del f_name, dict_"
   ]
  },
  {
   "cell_type": "code",
   "execution_count": 20,
   "metadata": {},
   "outputs": [],
   "source": [
    "#obtain the probabilities of crash\n",
    "dt_train = dt_train[:,1]\n",
    "dt_test = dt_test[:,1]"
   ]
  },
  {
   "cell_type": "markdown",
   "metadata": {},
   "source": [
    "**5. KNN**"
   ]
  },
  {
   "cell_type": "markdown",
   "metadata": {},
   "source": [
    "Kaggle Score:  0.67657"
   ]
  },
  {
   "cell_type": "code",
   "execution_count": 53,
   "metadata": {},
   "outputs": [],
   "source": [
    "f_name = dirPData + 'knn.pickle'\n",
    "with open(f_name, \"rb\") as f:\n",
    "    dict_ = pickle.load(f)  \n",
    "knn_train = dict_['knn_prob_design']\n",
    "knn_test = dict_['knn_prob_test']\n",
    "    \n",
    "del f_name, dict_"
   ]
  },
  {
   "cell_type": "code",
   "execution_count": 56,
   "metadata": {},
   "outputs": [
    {
     "data": {
      "text/plain": [
       "(11962,)"
      ]
     },
     "execution_count": 56,
     "metadata": {},
     "output_type": "execute_result"
    }
   ],
   "source": [
    "knn_train = knn_train[:,1]\n",
    "knn_test = knn_test[:,1]\n",
    "knn_train.shape"
   ]
  },
  {
   "cell_type": "markdown",
   "metadata": {},
   "source": [
    "###### 6. lightGBM model"
   ]
  },
  {
   "cell_type": "markdown",
   "metadata": {},
   "source": [
    "Kaggle Score: 0.87285"
   ]
  },
  {
   "cell_type": "code",
   "execution_count": 45,
   "metadata": {},
   "outputs": [],
   "source": [
    "f_name = dirPData + 'lgbm.pickle'\n",
    "with open(f_name, \"rb\") as f:\n",
    "    dict_ = pickle.load(f) \n",
    "lgbm_train = dict_['lgbm_prob_design']\n",
    "lgbm_test = dict_['lgbm_prob_test']\n",
    "    \n",
    "del f_name, dict_"
   ]
  },
  {
   "cell_type": "code",
   "execution_count": 50,
   "metadata": {
    "scrolled": true
   },
   "outputs": [
    {
     "data": {
      "text/plain": [
       "(11962,)"
      ]
     },
     "execution_count": 50,
     "metadata": {},
     "output_type": "execute_result"
    }
   ],
   "source": [
    "lgbm_train.shape"
   ]
  },
  {
   "cell_type": "markdown",
   "metadata": {},
   "source": [
    "###### 7. Random Forest"
   ]
  },
  {
   "cell_type": "markdown",
   "metadata": {},
   "source": [
    "Kaggle Score: 0.85673"
   ]
  },
  {
   "cell_type": "code",
   "execution_count": 47,
   "metadata": {},
   "outputs": [],
   "source": [
    "f_name = dirPData + 'rf.pickle'\n",
    "with open(f_name, \"rb\") as f:\n",
    "    dict_ = pickle.load(f) \n",
    "rf_train = dict_['rf_prob_design']\n",
    "rf_test = dict_['rf_prob_test']\n",
    "    \n",
    "del f_name, dict_"
   ]
  },
  {
   "cell_type": "code",
   "execution_count": 51,
   "metadata": {},
   "outputs": [
    {
     "data": {
      "text/plain": [
       "(11962,)"
      ]
     },
     "execution_count": 51,
     "metadata": {},
     "output_type": "execute_result"
    }
   ],
   "source": [
    "rf_train.shape"
   ]
  },
  {
   "cell_type": "markdown",
   "metadata": {},
   "source": [
    "**Combine train and test ensemble data into numpy arrays**"
   ]
  },
  {
   "cell_type": "code",
   "execution_count": 85,
   "metadata": {},
   "outputs": [],
   "source": [
    "#combine design data into array\n",
    "combined = np.concatenate((EN_train.reshape(-1,1),lr_train.reshape(-1,1),knn_train.reshape(-1,1),\n",
    "                           xgb1_train.reshape(-1,1), lgbm_train.reshape(-1,1),\n",
    "                           rf_train.reshape(-1,1),dt_train.reshape(-1,1)),axis=1)"
   ]
  },
  {
   "cell_type": "code",
   "execution_count": 86,
   "metadata": {
    "scrolled": true
   },
   "outputs": [
    {
     "data": {
      "text/plain": [
       "(11962, 7)"
      ]
     },
     "execution_count": 86,
     "metadata": {},
     "output_type": "execute_result"
    }
   ],
   "source": [
    "combined.shape"
   ]
  },
  {
   "cell_type": "code",
   "execution_count": 88,
   "metadata": {},
   "outputs": [],
   "source": [
    "#combine test data into array\n",
    "combined_test = np.concatenate((EN_test.reshape(-1,1),lr_test.reshape(-1,1),knn_test.reshape(-1,1),\n",
    "                                xgb1_test.reshape(-1,1), lgbm_test.reshape(-1,1),\n",
    "                                rf_test.reshape(-1,1),dt_test.reshape(-1,1)),axis=1)"
   ]
  },
  {
   "cell_type": "markdown",
   "metadata": {},
   "source": [
    "**XGBoost on stacked ensemble data**"
   ]
  },
  {
   "cell_type": "markdown",
   "metadata": {},
   "source": [
    "Stacking is an ensemble learning technique that uses predictions from multiple models (for example decision tree, knn or svm) to build a new model. This model is used for making predictions on the test set. "
   ]
  },
  {
   "cell_type": "code",
   "execution_count": 79,
   "metadata": {},
   "outputs": [
    {
     "data": {
      "text/plain": [
       "XGBClassifier(base_score=0.5, booster='gbtree', colsample_bylevel=1,\n",
       "              colsample_bynode=1, colsample_bytree=1, gamma=0,\n",
       "              learning_rate=0.1, max_delta_step=0, max_depth=3,\n",
       "              min_child_weight=1, missing=None, n_estimators=100, n_jobs=1,\n",
       "              nthread=None, objective='binary:logistic', random_state=0,\n",
       "              reg_alpha=0, reg_lambda=1, scale_pos_weight=1, seed=None,\n",
       "              silent=None, subsample=1, verbosity=1)"
      ]
     },
     "execution_count": 79,
     "metadata": {},
     "output_type": "execute_result"
    }
   ],
   "source": [
    "#instantiate and fit model to run on stack\n",
    "import xgboost as xgb\n",
    "xgb_ = xgb.XGBClassifier()\n",
    "xgb_.fit(X = combined, y = np.ravel(y_design)) # fit model to train data with default settings"
   ]
  },
  {
   "cell_type": "code",
   "execution_count": 81,
   "metadata": {},
   "outputs": [
    {
     "name": "stdout",
     "output_type": "stream",
     "text": [
      "Best: 0.993996 using {'gamma': 2, 'max_depth': 4, 'min_child_weight': 1}\n"
     ]
    }
   ],
   "source": [
    "from sklearn.model_selection import GridSearchCV\n",
    "#tune all 3 parameters simultaneously\n",
    "min_child_weight = [1,3,5,7]\n",
    "gamma = [0,1,2,3]\n",
    "max_depth=[1,2,3,4,5,6]\n",
    "param_grid = dict(gamma = gamma, min_child_weight = min_child_weight, max_depth=max_depth)\n",
    "xgb_ = xgb.XGBClassifier()\n",
    "grid = GridSearchCV(estimator=xgb_, param_grid=param_grid, cv = 10, n_jobs=-1,scoring='roc_auc')\n",
    "#cv = number of folds for validation\n",
    "grid_result = grid.fit(combined,np.ravel(y_design))\n",
    "print(\"Best: %f using %s\" % (grid_result.best_score_, grid_result.best_params_)) # Summarize results"
   ]
  },
  {
   "cell_type": "code",
   "execution_count": 82,
   "metadata": {},
   "outputs": [],
   "source": [
    "ensemble_proba2 = grid.predict_proba(combined_test)"
   ]
  },
  {
   "cell_type": "markdown",
   "metadata": {},
   "source": [
    "This is an almost perfect AUC score however Kaggle Score was only 0.78648. This could be due to overfitting the models."
   ]
  },
  {
   "cell_type": "markdown",
   "metadata": {},
   "source": [
    "**Save data**"
   ]
  },
  {
   "cell_type": "code",
   "execution_count": 84,
   "metadata": {},
   "outputs": [],
   "source": [
    "import csv\n",
    "f_name = dirPOutput + 'ensemble_pred2.csv'\n",
    "\n",
    "df_test = pd.read_csv(dirRawData + 'test.csv')\n",
    "\n",
    "with open(f_name, 'w',newline='') as csvfile:\n",
    "    writer=csv.writer(csvfile,delimiter=',')\n",
    "    writer.writerow([\"id\", \"target\"])\n",
    "    writer.writerows(zip(df_test[df_test.columns[0]], ensemble_proba2[:,1]))"
   ]
  },
  {
   "cell_type": "markdown",
   "metadata": {},
   "source": [
    "**Logistic regression on ensemble data**"
   ]
  },
  {
   "cell_type": "code",
   "execution_count": 89,
   "metadata": {},
   "outputs": [],
   "source": [
    "from sklearn.model_selection import GridSearchCV\n",
    "from sklearn.linear_model import LogisticRegression\n",
    "C=[0.05,0.1,1.0,1.5,2.0]\n",
    "penalty = [\"l1\",\"l2\"]\n",
    "param_grid = dict(penalty = penalty,C=C)\n",
    "lr_= LogisticRegression(solver ='liblinear')\n",
    "grid = GridSearchCV(estimator=lr_, param_grid=param_grid, cv = 10, n_jobs=-1, scoring = 'roc_auc')\n",
    "#cv = number of folds for validation"
   ]
  },
  {
   "cell_type": "code",
   "execution_count": 90,
   "metadata": {},
   "outputs": [
    {
     "name": "stdout",
     "output_type": "stream",
     "text": [
      "Best: 0.984980 using {'C': 1.0, 'penalty': 'l2'}\n"
     ]
    }
   ],
   "source": [
    "#fit using best parameters\n",
    "grid_result = grid.fit(combined,np.ravel(y_design))\n",
    "print(\"Best: %f using %s\" % (grid_result.best_score_, grid_result.best_params_)) # Summarize results"
   ]
  },
  {
   "cell_type": "code",
   "execution_count": 91,
   "metadata": {},
   "outputs": [
    {
     "data": {
      "text/plain": [
       "array([[0.95660045, 0.04339955],\n",
       "       [0.97117894, 0.02882106],\n",
       "       [0.97926052, 0.02073948],\n",
       "       ...,\n",
       "       [0.89066184, 0.10933816],\n",
       "       [0.99468429, 0.00531571],\n",
       "       [0.12847104, 0.87152896]])"
      ]
     },
     "execution_count": 91,
     "metadata": {},
     "output_type": "execute_result"
    }
   ],
   "source": [
    "ensemble_proba3 = grid.predict_proba(combined_test)"
   ]
  },
  {
   "cell_type": "code",
   "execution_count": 92,
   "metadata": {},
   "outputs": [],
   "source": [
    "#save prediction as csv\n",
    "import csv\n",
    "f_name = dirPOutput + 'ensemble_pred3.csv'\n",
    "\n",
    "df_test = pd.read_csv(dirRawData + 'test.csv')\n",
    "\n",
    "with open(f_name, 'w',newline='') as csvfile:\n",
    "    writer=csv.writer(csvfile,delimiter=',')\n",
    "    writer.writerow([\"id\", \"target\"])\n",
    "    writer.writerows(zip(df_test[df_test.columns[0]], ensemble_proba3[:,1]))"
   ]
  },
  {
   "cell_type": "markdown",
   "metadata": {},
   "source": [
    "The AUC score is still high but Kaggle Score was only 0.7702. This could be due to overfitting the models."
   ]
  },
  {
   "cell_type": "markdown",
   "metadata": {},
   "source": [
    "**Plot correlation matrix**"
   ]
  },
  {
   "cell_type": "code",
   "execution_count": 101,
   "metadata": {},
   "outputs": [
    {
     "data": {
      "text/html": [
       "<div>\n",
       "<style scoped>\n",
       "    .dataframe tbody tr th:only-of-type {\n",
       "        vertical-align: middle;\n",
       "    }\n",
       "\n",
       "    .dataframe tbody tr th {\n",
       "        vertical-align: top;\n",
       "    }\n",
       "\n",
       "    .dataframe thead th {\n",
       "        text-align: right;\n",
       "    }\n",
       "</style>\n",
       "<table border=\"1\" class=\"dataframe\">\n",
       "  <thead>\n",
       "    <tr style=\"text-align: right;\">\n",
       "      <th></th>\n",
       "      <th>RandomForest</th>\n",
       "      <th>DecisionTree</th>\n",
       "      <th>LogisticReg</th>\n",
       "      <th>XGB</th>\n",
       "      <th>LGBM</th>\n",
       "      <th>ElasticNet</th>\n",
       "      <th>KNN</th>\n",
       "    </tr>\n",
       "  </thead>\n",
       "  <tbody>\n",
       "    <tr>\n",
       "      <th>0</th>\n",
       "      <td>0.112704</td>\n",
       "      <td>0.280000</td>\n",
       "      <td>0.226040</td>\n",
       "      <td>0.129780</td>\n",
       "      <td>0.132454</td>\n",
       "      <td>0.062931</td>\n",
       "      <td>0.285714</td>\n",
       "    </tr>\n",
       "    <tr>\n",
       "      <th>1</th>\n",
       "      <td>0.071387</td>\n",
       "      <td>0.067156</td>\n",
       "      <td>0.043165</td>\n",
       "      <td>0.053123</td>\n",
       "      <td>0.074115</td>\n",
       "      <td>0.000972</td>\n",
       "      <td>0.000000</td>\n",
       "    </tr>\n",
       "    <tr>\n",
       "      <th>2</th>\n",
       "      <td>0.496627</td>\n",
       "      <td>0.120879</td>\n",
       "      <td>0.298983</td>\n",
       "      <td>0.363683</td>\n",
       "      <td>0.386933</td>\n",
       "      <td>0.200365</td>\n",
       "      <td>0.142857</td>\n",
       "    </tr>\n",
       "    <tr>\n",
       "      <th>3</th>\n",
       "      <td>0.461530</td>\n",
       "      <td>0.120879</td>\n",
       "      <td>0.355301</td>\n",
       "      <td>0.471014</td>\n",
       "      <td>0.525788</td>\n",
       "      <td>0.468819</td>\n",
       "      <td>0.285714</td>\n",
       "    </tr>\n",
       "    <tr>\n",
       "      <th>4</th>\n",
       "      <td>0.093595</td>\n",
       "      <td>0.067156</td>\n",
       "      <td>0.142167</td>\n",
       "      <td>0.076524</td>\n",
       "      <td>0.140744</td>\n",
       "      <td>0.065601</td>\n",
       "      <td>0.142857</td>\n",
       "    </tr>\n",
       "  </tbody>\n",
       "</table>\n",
       "</div>"
      ],
      "text/plain": [
       "   RandomForest  DecisionTree  LogisticReg       XGB      LGBM  ElasticNet  \\\n",
       "0      0.112704      0.280000     0.226040  0.129780  0.132454    0.062931   \n",
       "1      0.071387      0.067156     0.043165  0.053123  0.074115    0.000972   \n",
       "2      0.496627      0.120879     0.298983  0.363683  0.386933    0.200365   \n",
       "3      0.461530      0.120879     0.355301  0.471014  0.525788    0.468819   \n",
       "4      0.093595      0.067156     0.142167  0.076524  0.140744    0.065601   \n",
       "\n",
       "        KNN  \n",
       "0  0.285714  \n",
       "1  0.000000  \n",
       "2  0.142857  \n",
       "3  0.285714  \n",
       "4  0.142857  "
      ]
     },
     "execution_count": 101,
     "metadata": {},
     "output_type": "execute_result"
    }
   ],
   "source": [
    "#save all as dataframe\n",
    "\n",
    "base_predictions_train = pd.DataFrame( {'RandomForest': rf_train.ravel(),\n",
    "                                        'DecisionTree': dt_train.ravel(),\n",
    "                                        'LogisticReg': lr_train.ravel(),\n",
    "                                        'XGB': xgb1_train.ravel(),\n",
    "                                        'LGBM': lgbm_train.ravel(),\n",
    "                                        'ElasticNet': EN_train.ravel(),\n",
    "                                        'KNN': knn_train.ravel()                                      \n",
    "    })\n",
    "\n",
    "base_predictions_train.head()\n",
    "\n",
    "\n"
   ]
  },
  {
   "cell_type": "code",
   "execution_count": 99,
   "metadata": {},
   "outputs": [
    {
     "data": {
      "text/html": [
       "<style  type=\"text/css\" >\n",
       "    #T_41c7e60a_a419_11e9_8c13_ccc1241ca1f8row0_col0 {\n",
       "            background-color:  #b40426;\n",
       "            color:  #f1f1f1;\n",
       "        }    #T_41c7e60a_a419_11e9_8c13_ccc1241ca1f8row0_col1 {\n",
       "            background-color:  #ecd3c5;\n",
       "            color:  #000000;\n",
       "        }    #T_41c7e60a_a419_11e9_8c13_ccc1241ca1f8row0_col2 {\n",
       "            background-color:  #dfdbd9;\n",
       "            color:  #000000;\n",
       "        }    #T_41c7e60a_a419_11e9_8c13_ccc1241ca1f8row0_col3 {\n",
       "            background-color:  #ee8669;\n",
       "            color:  #000000;\n",
       "        }    #T_41c7e60a_a419_11e9_8c13_ccc1241ca1f8row0_col4 {\n",
       "            background-color:  #e7745b;\n",
       "            color:  #000000;\n",
       "        }    #T_41c7e60a_a419_11e9_8c13_ccc1241ca1f8row0_col5 {\n",
       "            background-color:  #bfd3f6;\n",
       "            color:  #000000;\n",
       "        }    #T_41c7e60a_a419_11e9_8c13_ccc1241ca1f8row0_col6 {\n",
       "            background-color:  #94b6ff;\n",
       "            color:  #000000;\n",
       "        }    #T_41c7e60a_a419_11e9_8c13_ccc1241ca1f8row1_col0 {\n",
       "            background-color:  #c0d4f5;\n",
       "            color:  #000000;\n",
       "        }    #T_41c7e60a_a419_11e9_8c13_ccc1241ca1f8row1_col1 {\n",
       "            background-color:  #b40426;\n",
       "            color:  #f1f1f1;\n",
       "        }    #T_41c7e60a_a419_11e9_8c13_ccc1241ca1f8row1_col2 {\n",
       "            background-color:  #688aef;\n",
       "            color:  #000000;\n",
       "        }    #T_41c7e60a_a419_11e9_8c13_ccc1241ca1f8row1_col3 {\n",
       "            background-color:  #cdd9ec;\n",
       "            color:  #000000;\n",
       "        }    #T_41c7e60a_a419_11e9_8c13_ccc1241ca1f8row1_col4 {\n",
       "            background-color:  #c7d7f0;\n",
       "            color:  #000000;\n",
       "        }    #T_41c7e60a_a419_11e9_8c13_ccc1241ca1f8row1_col5 {\n",
       "            background-color:  #688aef;\n",
       "            color:  #000000;\n",
       "        }    #T_41c7e60a_a419_11e9_8c13_ccc1241ca1f8row1_col6 {\n",
       "            background-color:  #3b4cc0;\n",
       "            color:  #f1f1f1;\n",
       "        }    #T_41c7e60a_a419_11e9_8c13_ccc1241ca1f8row2_col0 {\n",
       "            background-color:  #d8dce2;\n",
       "            color:  #000000;\n",
       "        }    #T_41c7e60a_a419_11e9_8c13_ccc1241ca1f8row2_col1 {\n",
       "            background-color:  #adc9fd;\n",
       "            color:  #000000;\n",
       "        }    #T_41c7e60a_a419_11e9_8c13_ccc1241ca1f8row2_col2 {\n",
       "            background-color:  #b40426;\n",
       "            color:  #f1f1f1;\n",
       "        }    #T_41c7e60a_a419_11e9_8c13_ccc1241ca1f8row2_col3 {\n",
       "            background-color:  #f7b79b;\n",
       "            color:  #000000;\n",
       "        }    #T_41c7e60a_a419_11e9_8c13_ccc1241ca1f8row2_col4 {\n",
       "            background-color:  #f3c7b1;\n",
       "            color:  #000000;\n",
       "        }    #T_41c7e60a_a419_11e9_8c13_ccc1241ca1f8row2_col5 {\n",
       "            background-color:  #ef886b;\n",
       "            color:  #000000;\n",
       "        }    #T_41c7e60a_a419_11e9_8c13_ccc1241ca1f8row2_col6 {\n",
       "            background-color:  #85a8fc;\n",
       "            color:  #000000;\n",
       "        }    #T_41c7e60a_a419_11e9_8c13_ccc1241ca1f8row3_col0 {\n",
       "            background-color:  #f08a6c;\n",
       "            color:  #000000;\n",
       "        }    #T_41c7e60a_a419_11e9_8c13_ccc1241ca1f8row3_col1 {\n",
       "            background-color:  #efcfbf;\n",
       "            color:  #000000;\n",
       "        }    #T_41c7e60a_a419_11e9_8c13_ccc1241ca1f8row3_col2 {\n",
       "            background-color:  #f7b497;\n",
       "            color:  #000000;\n",
       "        }    #T_41c7e60a_a419_11e9_8c13_ccc1241ca1f8row3_col3 {\n",
       "            background-color:  #b40426;\n",
       "            color:  #f1f1f1;\n",
       "        }    #T_41c7e60a_a419_11e9_8c13_ccc1241ca1f8row3_col4 {\n",
       "            background-color:  #cf453c;\n",
       "            color:  #f1f1f1;\n",
       "        }    #T_41c7e60a_a419_11e9_8c13_ccc1241ca1f8row3_col5 {\n",
       "            background-color:  #f1cdba;\n",
       "            color:  #000000;\n",
       "        }    #T_41c7e60a_a419_11e9_8c13_ccc1241ca1f8row3_col6 {\n",
       "            background-color:  #8badfd;\n",
       "            color:  #000000;\n",
       "        }    #T_41c7e60a_a419_11e9_8c13_ccc1241ca1f8row4_col0 {\n",
       "            background-color:  #e8765c;\n",
       "            color:  #000000;\n",
       "        }    #T_41c7e60a_a419_11e9_8c13_ccc1241ca1f8row4_col1 {\n",
       "            background-color:  #edd2c3;\n",
       "            color:  #000000;\n",
       "        }    #T_41c7e60a_a419_11e9_8c13_ccc1241ca1f8row4_col2 {\n",
       "            background-color:  #f5c4ac;\n",
       "            color:  #000000;\n",
       "        }    #T_41c7e60a_a419_11e9_8c13_ccc1241ca1f8row4_col3 {\n",
       "            background-color:  #cf453c;\n",
       "            color:  #f1f1f1;\n",
       "        }    #T_41c7e60a_a419_11e9_8c13_ccc1241ca1f8row4_col4 {\n",
       "            background-color:  #b40426;\n",
       "            color:  #f1f1f1;\n",
       "        }    #T_41c7e60a_a419_11e9_8c13_ccc1241ca1f8row4_col5 {\n",
       "            background-color:  #e5d8d1;\n",
       "            color:  #000000;\n",
       "        }    #T_41c7e60a_a419_11e9_8c13_ccc1241ca1f8row4_col6 {\n",
       "            background-color:  #8caffe;\n",
       "            color:  #000000;\n",
       "        }    #T_41c7e60a_a419_11e9_8c13_ccc1241ca1f8row5_col0 {\n",
       "            background-color:  #80a3fa;\n",
       "            color:  #000000;\n",
       "        }    #T_41c7e60a_a419_11e9_8c13_ccc1241ca1f8row5_col1 {\n",
       "            background-color:  #799cf8;\n",
       "            color:  #000000;\n",
       "        }    #T_41c7e60a_a419_11e9_8c13_ccc1241ca1f8row5_col2 {\n",
       "            background-color:  #f59c7d;\n",
       "            color:  #000000;\n",
       "        }    #T_41c7e60a_a419_11e9_8c13_ccc1241ca1f8row5_col3 {\n",
       "            background-color:  #d9dce1;\n",
       "            color:  #000000;\n",
       "        }    #T_41c7e60a_a419_11e9_8c13_ccc1241ca1f8row5_col4 {\n",
       "            background-color:  #c4d5f3;\n",
       "            color:  #000000;\n",
       "        }    #T_41c7e60a_a419_11e9_8c13_ccc1241ca1f8row5_col5 {\n",
       "            background-color:  #b40426;\n",
       "            color:  #f1f1f1;\n",
       "        }    #T_41c7e60a_a419_11e9_8c13_ccc1241ca1f8row5_col6 {\n",
       "            background-color:  #4a63d3;\n",
       "            color:  #f1f1f1;\n",
       "        }    #T_41c7e60a_a419_11e9_8c13_ccc1241ca1f8row6_col0 {\n",
       "            background-color:  #3b4cc0;\n",
       "            color:  #f1f1f1;\n",
       "        }    #T_41c7e60a_a419_11e9_8c13_ccc1241ca1f8row6_col1 {\n",
       "            background-color:  #3b4cc0;\n",
       "            color:  #f1f1f1;\n",
       "        }    #T_41c7e60a_a419_11e9_8c13_ccc1241ca1f8row6_col2 {\n",
       "            background-color:  #3b4cc0;\n",
       "            color:  #f1f1f1;\n",
       "        }    #T_41c7e60a_a419_11e9_8c13_ccc1241ca1f8row6_col3 {\n",
       "            background-color:  #3b4cc0;\n",
       "            color:  #f1f1f1;\n",
       "        }    #T_41c7e60a_a419_11e9_8c13_ccc1241ca1f8row6_col4 {\n",
       "            background-color:  #3b4cc0;\n",
       "            color:  #f1f1f1;\n",
       "        }    #T_41c7e60a_a419_11e9_8c13_ccc1241ca1f8row6_col5 {\n",
       "            background-color:  #3b4cc0;\n",
       "            color:  #f1f1f1;\n",
       "        }    #T_41c7e60a_a419_11e9_8c13_ccc1241ca1f8row6_col6 {\n",
       "            background-color:  #b40426;\n",
       "            color:  #f1f1f1;\n",
       "        }</style><table id=\"T_41c7e60a_a419_11e9_8c13_ccc1241ca1f8\" ><thead>    <tr>        <th class=\"blank level0\" ></th>        <th class=\"col_heading level0 col0\" >RandomForest</th>        <th class=\"col_heading level0 col1\" >DecisionTree</th>        <th class=\"col_heading level0 col2\" >LogisticReg</th>        <th class=\"col_heading level0 col3\" >XGB</th>        <th class=\"col_heading level0 col4\" >LGBM</th>        <th class=\"col_heading level0 col5\" >ElasticNet</th>        <th class=\"col_heading level0 col6\" >KNN</th>    </tr></thead><tbody>\n",
       "                <tr>\n",
       "                        <th id=\"T_41c7e60a_a419_11e9_8c13_ccc1241ca1f8level0_row0\" class=\"row_heading level0 row0\" >RandomForest</th>\n",
       "                        <td id=\"T_41c7e60a_a419_11e9_8c13_ccc1241ca1f8row0_col0\" class=\"data row0 col0\" >1</td>\n",
       "                        <td id=\"T_41c7e60a_a419_11e9_8c13_ccc1241ca1f8row0_col1\" class=\"data row0 col1\" >0.785593</td>\n",
       "                        <td id=\"T_41c7e60a_a419_11e9_8c13_ccc1241ca1f8row0_col2\" class=\"data row0 col2\" >0.813701</td>\n",
       "                        <td id=\"T_41c7e60a_a419_11e9_8c13_ccc1241ca1f8row0_col3\" class=\"data row0 col3\" >0.923658</td>\n",
       "                        <td id=\"T_41c7e60a_a419_11e9_8c13_ccc1241ca1f8row0_col4\" class=\"data row0 col4\" >0.938472</td>\n",
       "                        <td id=\"T_41c7e60a_a419_11e9_8c13_ccc1241ca1f8row0_col5\" class=\"data row0 col5\" >0.717921</td>\n",
       "                        <td id=\"T_41c7e60a_a419_11e9_8c13_ccc1241ca1f8row0_col6\" class=\"data row0 col6\" >0.641376</td>\n",
       "            </tr>\n",
       "            <tr>\n",
       "                        <th id=\"T_41c7e60a_a419_11e9_8c13_ccc1241ca1f8level0_row1\" class=\"row_heading level0 row1\" >DecisionTree</th>\n",
       "                        <td id=\"T_41c7e60a_a419_11e9_8c13_ccc1241ca1f8row1_col0\" class=\"data row1 col0\" >0.785593</td>\n",
       "                        <td id=\"T_41c7e60a_a419_11e9_8c13_ccc1241ca1f8row1_col1\" class=\"data row1 col1\" >1</td>\n",
       "                        <td id=\"T_41c7e60a_a419_11e9_8c13_ccc1241ca1f8row1_col2\" class=\"data row1 col2\" >0.676288</td>\n",
       "                        <td id=\"T_41c7e60a_a419_11e9_8c13_ccc1241ca1f8row1_col3\" class=\"data row1 col3\" >0.793398</td>\n",
       "                        <td id=\"T_41c7e60a_a419_11e9_8c13_ccc1241ca1f8row1_col4\" class=\"data row1 col4\" >0.787262</td>\n",
       "                        <td id=\"T_41c7e60a_a419_11e9_8c13_ccc1241ca1f8row1_col5\" class=\"data row1 col5\" >0.602641</td>\n",
       "                        <td id=\"T_41c7e60a_a419_11e9_8c13_ccc1241ca1f8row1_col6\" class=\"data row1 col6\" >0.508306</td>\n",
       "            </tr>\n",
       "            <tr>\n",
       "                        <th id=\"T_41c7e60a_a419_11e9_8c13_ccc1241ca1f8level0_row2\" class=\"row_heading level0 row2\" >LogisticReg</th>\n",
       "                        <td id=\"T_41c7e60a_a419_11e9_8c13_ccc1241ca1f8row2_col0\" class=\"data row2 col0\" >0.813701</td>\n",
       "                        <td id=\"T_41c7e60a_a419_11e9_8c13_ccc1241ca1f8row2_col1\" class=\"data row2 col1\" >0.676288</td>\n",
       "                        <td id=\"T_41c7e60a_a419_11e9_8c13_ccc1241ca1f8row2_col2\" class=\"data row2 col2\" >1</td>\n",
       "                        <td id=\"T_41c7e60a_a419_11e9_8c13_ccc1241ca1f8row2_col3\" class=\"data row2 col3\" >0.878046</td>\n",
       "                        <td id=\"T_41c7e60a_a419_11e9_8c13_ccc1241ca1f8row2_col4\" class=\"data row2 col4\" >0.858271</td>\n",
       "                        <td id=\"T_41c7e60a_a419_11e9_8c13_ccc1241ca1f8row2_col5\" class=\"data row2 col5\" >0.903061</td>\n",
       "                        <td id=\"T_41c7e60a_a419_11e9_8c13_ccc1241ca1f8row2_col6\" class=\"data row2 col6\" >0.620729</td>\n",
       "            </tr>\n",
       "            <tr>\n",
       "                        <th id=\"T_41c7e60a_a419_11e9_8c13_ccc1241ca1f8level0_row3\" class=\"row_heading level0 row3\" >XGB</th>\n",
       "                        <td id=\"T_41c7e60a_a419_11e9_8c13_ccc1241ca1f8row3_col0\" class=\"data row3 col0\" >0.923658</td>\n",
       "                        <td id=\"T_41c7e60a_a419_11e9_8c13_ccc1241ca1f8row3_col1\" class=\"data row3 col1\" >0.793398</td>\n",
       "                        <td id=\"T_41c7e60a_a419_11e9_8c13_ccc1241ca1f8row3_col2\" class=\"data row3 col2\" >0.878046</td>\n",
       "                        <td id=\"T_41c7e60a_a419_11e9_8c13_ccc1241ca1f8row3_col3\" class=\"data row3 col3\" >1</td>\n",
       "                        <td id=\"T_41c7e60a_a419_11e9_8c13_ccc1241ca1f8row3_col4\" class=\"data row3 col4\" >0.971576</td>\n",
       "                        <td id=\"T_41c7e60a_a419_11e9_8c13_ccc1241ca1f8row3_col5\" class=\"data row3 col5\" >0.809184</td>\n",
       "                        <td id=\"T_41c7e60a_a419_11e9_8c13_ccc1241ca1f8row3_col6\" class=\"data row3 col6\" >0.628839</td>\n",
       "            </tr>\n",
       "            <tr>\n",
       "                        <th id=\"T_41c7e60a_a419_11e9_8c13_ccc1241ca1f8level0_row4\" class=\"row_heading level0 row4\" >LGBM</th>\n",
       "                        <td id=\"T_41c7e60a_a419_11e9_8c13_ccc1241ca1f8row4_col0\" class=\"data row4 col0\" >0.938472</td>\n",
       "                        <td id=\"T_41c7e60a_a419_11e9_8c13_ccc1241ca1f8row4_col1\" class=\"data row4 col1\" >0.787262</td>\n",
       "                        <td id=\"T_41c7e60a_a419_11e9_8c13_ccc1241ca1f8row4_col2\" class=\"data row4 col2\" >0.858271</td>\n",
       "                        <td id=\"T_41c7e60a_a419_11e9_8c13_ccc1241ca1f8row4_col3\" class=\"data row4 col3\" >0.971576</td>\n",
       "                        <td id=\"T_41c7e60a_a419_11e9_8c13_ccc1241ca1f8row4_col4\" class=\"data row4 col4\" >1</td>\n",
       "                        <td id=\"T_41c7e60a_a419_11e9_8c13_ccc1241ca1f8row4_col5\" class=\"data row4 col5\" >0.782701</td>\n",
       "                        <td id=\"T_41c7e60a_a419_11e9_8c13_ccc1241ca1f8row4_col6\" class=\"data row4 col6\" >0.629821</td>\n",
       "            </tr>\n",
       "            <tr>\n",
       "                        <th id=\"T_41c7e60a_a419_11e9_8c13_ccc1241ca1f8level0_row5\" class=\"row_heading level0 row5\" >ElasticNet</th>\n",
       "                        <td id=\"T_41c7e60a_a419_11e9_8c13_ccc1241ca1f8row5_col0\" class=\"data row5 col0\" >0.717921</td>\n",
       "                        <td id=\"T_41c7e60a_a419_11e9_8c13_ccc1241ca1f8row5_col1\" class=\"data row5 col1\" >0.602641</td>\n",
       "                        <td id=\"T_41c7e60a_a419_11e9_8c13_ccc1241ca1f8row5_col2\" class=\"data row5 col2\" >0.903061</td>\n",
       "                        <td id=\"T_41c7e60a_a419_11e9_8c13_ccc1241ca1f8row5_col3\" class=\"data row5 col3\" >0.809184</td>\n",
       "                        <td id=\"T_41c7e60a_a419_11e9_8c13_ccc1241ca1f8row5_col4\" class=\"data row5 col4\" >0.782701</td>\n",
       "                        <td id=\"T_41c7e60a_a419_11e9_8c13_ccc1241ca1f8row5_col5\" class=\"data row5 col5\" >1</td>\n",
       "                        <td id=\"T_41c7e60a_a419_11e9_8c13_ccc1241ca1f8row5_col6\" class=\"data row5 col6\" >0.533818</td>\n",
       "            </tr>\n",
       "            <tr>\n",
       "                        <th id=\"T_41c7e60a_a419_11e9_8c13_ccc1241ca1f8level0_row6\" class=\"row_heading level0 row6\" >KNN</th>\n",
       "                        <td id=\"T_41c7e60a_a419_11e9_8c13_ccc1241ca1f8row6_col0\" class=\"data row6 col0\" >0.641376</td>\n",
       "                        <td id=\"T_41c7e60a_a419_11e9_8c13_ccc1241ca1f8row6_col1\" class=\"data row6 col1\" >0.508306</td>\n",
       "                        <td id=\"T_41c7e60a_a419_11e9_8c13_ccc1241ca1f8row6_col2\" class=\"data row6 col2\" >0.620729</td>\n",
       "                        <td id=\"T_41c7e60a_a419_11e9_8c13_ccc1241ca1f8row6_col3\" class=\"data row6 col3\" >0.628839</td>\n",
       "                        <td id=\"T_41c7e60a_a419_11e9_8c13_ccc1241ca1f8row6_col4\" class=\"data row6 col4\" >0.629821</td>\n",
       "                        <td id=\"T_41c7e60a_a419_11e9_8c13_ccc1241ca1f8row6_col5\" class=\"data row6 col5\" >0.533818</td>\n",
       "                        <td id=\"T_41c7e60a_a419_11e9_8c13_ccc1241ca1f8row6_col6\" class=\"data row6 col6\" >1</td>\n",
       "            </tr>\n",
       "    </tbody></table>"
      ],
      "text/plain": [
       "<pandas.io.formats.style.Styler at 0x201b4890518>"
      ]
     },
     "execution_count": 99,
     "metadata": {},
     "output_type": "execute_result"
    }
   ],
   "source": [
    "#print corelation matrix\n",
    "corr = base_predictions_train.corr()\n",
    "corr.style.background_gradient(cmap='coolwarm')"
   ]
  },
  {
   "cell_type": "markdown",
   "metadata": {},
   "source": [
    "It seems that Random Forest is highly correlated with XGB and LGBM, thus we should only select one out of the three. ElasticNet and LogisticReg are also highly correlated, which is no surprise. In the end the only models would then be decision tree, XGB, LogisticReg and KNN. Alternately we could take the average of the correlated model predictions."
   ]
  },
  {
   "cell_type": "code",
   "execution_count": 100,
   "metadata": {},
   "outputs": [
    {
     "name": "stdout",
     "output_type": "stream",
     "text": [
      "Best: 0.980926 using {'gamma': 1, 'max_depth': 4, 'min_child_weight': 1}\n",
      "Best: 0.980926 using {'gamma': 1, 'max_depth': 4, 'min_child_weight': 1}\n"
     ]
    }
   ],
   "source": [
    "#try running models without the correlated pairs\n",
    "\n",
    "#combine design data into array\n",
    "combined = np.concatenate((lr_train.reshape(-1,1),knn_train.reshape(-1,1),\n",
    "                           xgb1_train.reshape(-1,1),dt_train.reshape(-1,1)),axis=1)\n",
    "\n",
    "#combine test data into array\n",
    "combined_test = np.concatenate((lr_test.reshape(-1,1),knn_test.reshape(-1,1),\n",
    "                                xgb1_test.reshape(-1,1),dt_test.reshape(-1,1)),axis=1)\n",
    "\n",
    "min_child_weight = [1,3,5,7]\n",
    "gamma = [0,1,2,3]\n",
    "max_depth=[1,2,3,4,5,6]\n",
    "param_grid = dict(gamma = gamma, min_child_weight = min_child_weight, max_depth=max_depth)\n",
    "xgb_ = xgb.XGBClassifier()\n",
    "grid = GridSearchCV(estimator=xgb_, param_grid=param_grid, cv = 10, n_jobs=-1,scoring='roc_auc')\n",
    "#cv = number of folds for validation\n",
    "grid_result = grid.fit(combined,np.ravel(y_design))\n",
    "print(\"Best: %f using %s\" % (grid_result.best_score_, grid_result.best_params_)) # Summarize results"
   ]
  },
  {
   "cell_type": "code",
   "execution_count": 104,
   "metadata": {},
   "outputs": [],
   "source": [
    "ensemble_proba4=grid.predict_proba(combined_test)"
   ]
  },
  {
   "cell_type": "code",
   "execution_count": 105,
   "metadata": {},
   "outputs": [],
   "source": [
    "#save prediction as csv\n",
    "import csv\n",
    "f_name = dirPOutput + 'ensemble_pred4.csv'\n",
    "\n",
    "df_test = pd.read_csv(dirRawData + 'test.csv')\n",
    "\n",
    "with open(f_name, 'w',newline='') as csvfile:\n",
    "    writer=csv.writer(csvfile,delimiter=',')\n",
    "    writer.writerow([\"id\", \"target\"])\n",
    "    writer.writerows(zip(df_test[df_test.columns[0]], ensemble_proba4[:,1]))"
   ]
  },
  {
   "cell_type": "markdown",
   "metadata": {},
   "source": [
    "Sadly, the Kaggle Score still was only 0.77169.."
   ]
  },
  {
   "cell_type": "code",
   "execution_count": null,
   "metadata": {},
   "outputs": [],
   "source": []
  }
 ],
 "metadata": {
  "kernelspec": {
   "display_name": "Python 3",
   "language": "python",
   "name": "python3"
  },
  "language_info": {
   "codemirror_mode": {
    "name": "ipython",
    "version": 3
   },
   "file_extension": ".py",
   "mimetype": "text/x-python",
   "name": "python",
   "nbconvert_exporter": "python",
   "pygments_lexer": "ipython3",
   "version": "3.6.8"
  }
 },
 "nbformat": 4,
 "nbformat_minor": 2
}
