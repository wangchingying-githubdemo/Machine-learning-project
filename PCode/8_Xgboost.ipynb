{
 "cells": [
  {
   "cell_type": "markdown",
   "metadata": {},
   "source": [
    "# 8. XGBoost"
   ]
  },
  {
   "cell_type": "markdown",
   "metadata": {},
   "source": [
    "**Import packages**"
   ]
  },
  {
   "cell_type": "code",
   "execution_count": 2,
   "metadata": {},
   "outputs": [],
   "source": [
    "import os\n",
    "import numpy as np\n",
    "import pandas as pd\n",
    "import pickle\n",
    "\n",
    "import matplotlib.pyplot as plt\n",
    "%matplotlib inline"
   ]
  },
  {
   "cell_type": "markdown",
   "metadata": {},
   "source": [
    "**Set directories**"
   ]
  },
  {
   "cell_type": "code",
   "execution_count": 3,
   "metadata": {},
   "outputs": [
    {
     "name": "stdout",
     "output_type": "stream",
     "text": [
      "C:\\Users\\munch\\Documents\\Cass MSc\\Term 3\\Machine Learning\\Coursework\\PCode\n"
     ]
    }
   ],
   "source": [
    "print(os.getcwd())\n",
    "dirRawData = \"../RawData/\"\n",
    "dirPData = \"../PData/\"\n",
    "dirPOutput = \"../POutput/\""
   ]
  },
  {
   "cell_type": "markdown",
   "metadata": {},
   "source": [
    "**Load data**"
   ]
  },
  {
   "cell_type": "code",
   "execution_count": 4,
   "metadata": {},
   "outputs": [],
   "source": [
    "f_name = dirPData + '02_df.pickle'\n",
    "with open(f_name, \"rb\") as f:\n",
    "    dict_ = pickle.load(f)\n",
    "    \n",
    "df_all_onehot = dict_['df_all_onehot']\n",
    "\n",
    "del f_name, dict_\n",
    "\n",
    "\n",
    "f_name = dirPData + '02_vars.pickle'\n",
    "with open(f_name, \"rb\") as f:\n",
    "    dict_ = pickle.load(f)\n",
    "    \n",
    "vars_ind_num = dict_['vars_ind_num']\n",
    "var_dep = dict_['var_dep']\n",
    "vars_ind_categorical = dict_['vars_ind_categorical']\n",
    "vars_ind_onehot = dict_['vars_ind_onehot']\n",
    "\n",
    "del f_name, dict_"
   ]
  },
  {
   "cell_type": "markdown",
   "metadata": {},
   "source": [
    "**Prepare variables**"
   ]
  },
  {
   "cell_type": "code",
   "execution_count": 5,
   "metadata": {},
   "outputs": [],
   "source": [
    "vars_ind = vars_ind_num + vars_ind_onehot #combine all \n",
    "idx_train  = np.where(df_all_onehot['fold'].isin(np.arange(0,8)))[0] #[0,1,2,3,4,5,6,7]\n",
    "idx_val    = np.where(df_all_onehot['fold'].isin([8,9]))[0] #[8,9]\n",
    "idx_design = np.where(df_all_onehot['fold'].isin(np.arange(0,10)))[0] #[0,1,2,3,4,5,6,7,8,9]\n",
    "idx_test = np.where(df_all_onehot['fold'].isin([10]))[0]"
   ]
  },
  {
   "cell_type": "code",
   "execution_count": 6,
   "metadata": {},
   "outputs": [],
   "source": [
    "#prepare x and y data\n",
    "x = df_all_onehot[vars_ind].values\n",
    "y = df_all_onehot[var_dep].values\n",
    "\n",
    "y_train = y[idx_train]\n",
    "y_val = y[idx_val]\n",
    "y_design = y[idx_design]"
   ]
  },
  {
   "cell_type": "code",
   "execution_count": 7,
   "metadata": {},
   "outputs": [],
   "source": [
    "#Standardize the data\n",
    "from sklearn.preprocessing import StandardScaler\n",
    "standardScaler_ = StandardScaler()\n",
    "standardScaler_.fit(x[idx_train])\n",
    "\n",
    "X_train = standardScaler_.transform(x[idx_train])\n",
    "X_val   = standardScaler_.transform(x[idx_val])\n",
    "X_test = standardScaler_.transform(x[idx_test])\n",
    "X_design = standardScaler_.transform(x[idx_design])"
   ]
  },
  {
   "cell_type": "markdown",
   "metadata": {},
   "source": [
    "**Xgboost**\n",
    "\n",
    "parameters explanation:\n",
    "https://xgboost.readthedocs.io/en/latest/parameter.html"
   ]
  },
  {
   "cell_type": "code",
   "execution_count": 8,
   "metadata": {},
   "outputs": [
    {
     "data": {
      "text/plain": [
       "XGBClassifier(base_score=0.5, booster='gbtree', colsample_bylevel=1,\n",
       "              colsample_bynode=1, colsample_bytree=1, gamma=0,\n",
       "              learning_rate=0.1, max_delta_step=0, max_depth=3,\n",
       "              min_child_weight=1, missing=None, n_estimators=100, n_jobs=1,\n",
       "              nthread=None, objective='binary:logistic', random_state=0,\n",
       "              reg_alpha=0, reg_lambda=1, scale_pos_weight=1, seed=None,\n",
       "              silent=None, subsample=1, verbosity=1)"
      ]
     },
     "execution_count": 8,
     "metadata": {},
     "output_type": "execute_result"
    }
   ],
   "source": [
    "import xgboost as xgb\n",
    "xgb_ = xgb.XGBClassifier()\n",
    "\n",
    "xgb_.fit(X=X_train, y = np.ravel(y_train)) # fit model to train data with default settings"
   ]
  },
  {
   "cell_type": "code",
   "execution_count": 9,
   "metadata": {},
   "outputs": [],
   "source": [
    "# prediction (probabilities)\n",
    "xgb__pred_train_prob = xgb_.predict_proba(X_train)\n",
    "xgb__pred_val_prob   = xgb_.predict_proba(X_val)\n",
    "xgb__pred_test_prob = xgb_.predict_proba(X_test)\n",
    "\n",
    "#prediction (0 or 1 output)\n",
    "xgb__pred_train = xgb_.predict(X_train)\n",
    "xgb__pred_val   = xgb_.predict(X_val)\n",
    "xgb__pred_test = xgb_.predict(X_test)"
   ]
  },
  {
   "cell_type": "code",
   "execution_count": 10,
   "metadata": {},
   "outputs": [
    {
     "name": "stdout",
     "output_type": "stream",
     "text": [
      "train score is 0.9338120512019982\n",
      "val score is 0.9294517637059073\n"
     ]
    }
   ],
   "source": [
    "#print accuracy of the training and validation\n",
    "train_score = xgb_.score(X_train,y_train)\n",
    "val_score = xgb_.score(X_val, y_val)\n",
    "print(\"train score is {}\".format(train_score))\n",
    "print(\"val score is {}\".format(val_score))"
   ]
  },
  {
   "cell_type": "code",
   "execution_count": 12,
   "metadata": {},
   "outputs": [
    {
     "name": "stdout",
     "output_type": "stream",
     "text": [
      "train auc: 0.6559677654769918\n",
      "val auc: 0.6436899503217941\n"
     ]
    }
   ],
   "source": [
    "#print roc_auc_score\n",
    "from sklearn.metrics import roc_auc_score\n",
    "auc_train = roc_auc_score(y_train,xgb__pred_train)\n",
    "auc_val = roc_auc_score(y_val,xgb__pred_val)\n",
    "print(\"train auc: {}\".format(auc_train))\n",
    "print(\"val auc: {}\".format(auc_val))"
   ]
  },
  {
   "cell_type": "code",
   "execution_count": 13,
   "metadata": {},
   "outputs": [],
   "source": [
    "#save baseline xgboost\n",
    "import csv\n",
    "f_name = dirPOutput + 'baslinexgboost.csv'\n",
    "\n",
    "df_test = pd.read_csv(dirRawData + 'test.csv')\n",
    "\n",
    "with open(f_name, 'w',newline='') as csvfile:\n",
    "    writer=csv.writer(csvfile,delimiter=',')\n",
    "    writer.writerow([\"id\", \"target\"])\n",
    "    writer.writerows(zip(df_test[df_test.columns[0]], xgb__pred_test_prob[:,1]))"
   ]
  },
  {
   "cell_type": "markdown",
   "metadata": {},
   "source": [
    "This baseline xgboost received a Kaggle score of 0.87376"
   ]
  },
  {
   "cell_type": "code",
   "execution_count": 14,
   "metadata": {},
   "outputs": [
    {
     "name": "stdout",
     "output_type": "stream",
     "text": [
      "average score using 10 fold cross validation on design data: 0.921920534334722\n",
      "average roc_auc score using 10 fold cross validation on design data: 0.8713212038661784\n"
     ]
    }
   ],
   "source": [
    "#kfold cross validation\n",
    "from sklearn.model_selection import KFold\n",
    "kf = KFold(n_splits=10, shuffle=False)\n",
    "\n",
    "from sklearn.model_selection import cross_val_score\n",
    "result_roc_auc = cross_val_score(xgb_, X_design, np.ravel(y_design), cv=kf, scoring='roc_auc')\n",
    "result_accuracy = cross_val_score(xgb_, X_design, np.ravel(y_design), cv=kf, scoring='accuracy')\n",
    "print(\"average score using 10 fold cross validation on design data: {}\".format(result_accuracy.mean()))\n",
    "print(\"average roc_auc score using 10 fold cross validation on design data: {}\".format(result_roc_auc.mean()))"
   ]
  },
  {
   "cell_type": "markdown",
   "metadata": {},
   "source": [
    "**Grid search: tuning hyperparameters using sklearn GridSearchCV**"
   ]
  },
  {
   "cell_type": "markdown",
   "metadata": {},
   "source": [
    "Tune parameters min_child_weight, gamma, max_depth\n",
    "\n",
    "Run time is long.."
   ]
  },
  {
   "cell_type": "code",
   "execution_count": 15,
   "metadata": {},
   "outputs": [],
   "source": [
    "from sklearn.model_selection import GridSearchCV\n",
    "\n",
    "#tune max depth\n",
    "max_depth = [1,2,3,4,5,6,7,8,9,10]\n",
    "param_grid = dict(max_depth = max_depth)\n",
    "xgb_ = xgb.XGBClassifier()\n",
    "grid = GridSearchCV(estimator=xgb_, param_grid=param_grid, cv = 10, n_jobs=-1,scoring='roc_auc')\n",
    "#cv = number of folds for validation"
   ]
  },
  {
   "cell_type": "code",
   "execution_count": 16,
   "metadata": {},
   "outputs": [
    {
     "name": "stdout",
     "output_type": "stream",
     "text": [
      "Best: 0.872826 using {'max_depth': 4}\n"
     ]
    }
   ],
   "source": [
    "#fit using best parameters\n",
    "grid_result = grid.fit(X_design,np.ravel(y_design))\n",
    "print(\"Best: %f using %s\" % (grid_result.best_score_, grid_result.best_params_)) # Summarize results"
   ]
  },
  {
   "cell_type": "code",
   "execution_count": 30,
   "metadata": {},
   "outputs": [
    {
     "name": "stdout",
     "output_type": "stream",
     "text": [
      "Best: 0.872826 using {'gamma': 0.0}\n"
     ]
    }
   ],
   "source": [
    "#tune gamma\n",
    "gamma = [i/10.0 for i in range(0,5)]\n",
    "param_grid = dict(gamma = gamma)\n",
    "xgb_ = xgb.XGBClassifier(max_depth=4)\n",
    "grid = GridSearchCV(estimator=xgb_, param_grid=param_grid, cv = 10, n_jobs=-1,scoring='roc_auc')\n",
    "#cv = number of folds for validation\n",
    "grid_result = grid.fit(X_design,np.ravel(y_design))\n",
    "print(\"Best: %f using %s\" % (grid_result.best_score_, grid_result.best_params_)) # Summarize results"
   ]
  },
  {
   "cell_type": "code",
   "execution_count": 31,
   "metadata": {},
   "outputs": [],
   "source": [
    "#use optimized logistic regression to predict test data\n",
    "xgbopt3_= grid.predict(X_test)\n",
    "xgbopt3_prob = grid.predict_proba(X_test)"
   ]
  },
  {
   "cell_type": "code",
   "execution_count": 22,
   "metadata": {},
   "outputs": [
    {
     "name": "stdout",
     "output_type": "stream",
     "text": [
      "Best: 0.873310 using {'min_child_weight': 3}\n"
     ]
    }
   ],
   "source": [
    "#tune min_child_weight\n",
    "min_child_weight = range(1,6,2)\n",
    "param_grid = dict(min_child_weight = min_child_weight)\n",
    "xgb_ = xgb.XGBClassifier(max_depth=4,gamma=0)\n",
    "grid = GridSearchCV(estimator=xgb_, param_grid=param_grid, cv = 10, n_jobs=-1,scoring='roc_auc')\n",
    "#cv = number of folds for validation\n",
    "grid_result = grid.fit(X_design,np.ravel(y_design))\n",
    "print(\"Best: %f using %s\" % (grid_result.best_score_, grid_result.best_params_)) # Summarize results"
   ]
  },
  {
   "cell_type": "code",
   "execution_count": 23,
   "metadata": {},
   "outputs": [],
   "source": [
    "#predict test data\n",
    "xgbopt_= grid.predict(X_test)\n",
    "xgbopt_prob = grid.predict_proba(X_test)"
   ]
  },
  {
   "cell_type": "markdown",
   "metadata": {},
   "source": [
    "After tuning max_depth, gamma and min_child_weight separately(due to computing time), the submission resulted in an increase in auc score to 0.8733310, and kaggle score of 0.87807"
   ]
  },
  {
   "cell_type": "code",
   "execution_count": 27,
   "metadata": {
    "scrolled": true
   },
   "outputs": [
    {
     "name": "stdout",
     "output_type": "stream",
     "text": [
      "Best: 0.874784 using {'gamma': 3, 'max_depth': 5, 'min_child_weight': 7}\n"
     ]
    }
   ],
   "source": [
    "#tune all 3 parameters simultaneously\n",
    "min_child_weight = [1,3,5,7]\n",
    "gamma = [0,1,2,3]\n",
    "max_depth=[3,4,5]\n",
    "param_grid = dict(gamma = gamma, min_child_weight = min_child_weight, max_depth=max_depth)\n",
    "xgb_ = xgb.XGBClassifier()\n",
    "grid = GridSearchCV(estimator=xgb_, param_grid=param_grid, cv = 10, n_jobs=-1,scoring='roc_auc')\n",
    "#cv = number of folds for validation\n",
    "grid_result = grid.fit(X_design,np.ravel(y_design))\n",
    "print(\"Best: %f using %s\" % (grid_result.best_score_, grid_result.best_params_)) # Summarize results"
   ]
  },
  {
   "cell_type": "code",
   "execution_count": 28,
   "metadata": {},
   "outputs": [],
   "source": [
    "#use optimized logistic regression to predict test data\n",
    "xgbopt2_= grid.predict(X_test)\n",
    "xgbopt2_prob = grid.predict_proba(X_test)"
   ]
  },
  {
   "cell_type": "markdown",
   "metadata": {},
   "source": [
    "After trying grid search for all 3 parameters in the above loop, auc improved again however the kaggle score did not improve and was only 0.87502"
   ]
  },
  {
   "cell_type": "code",
   "execution_count": 24,
   "metadata": {
    "scrolled": true
   },
   "outputs": [
    {
     "data": {
      "image/png": "[encoded data removed]",
      "text/plain": [
       "<Figure size 432x288 with 1 Axes>"
      ]
     },
     "metadata": {
      "needs_background": "light"
     },
     "output_type": "display_data"
    }
   ],
   "source": [
    "#Show feature importance\n",
    "from xgboost import plot_importance\n",
    "xgb_best = xgb.XGBClassifier(gamma = 3,max_deph = 5, min_child_weight = 7)\n",
    "xgb_best.fit(X_design,np.ravel(y_design))\n",
    "\n",
    "import matplotlib.pyplot as plt\n",
    "from matplotlib import pyplot\n",
    "plot_importance(xgb_best, max_num_features=10) # top 10 most important features\n",
    "plt.show()"
   ]
  },
  {
   "cell_type": "markdown",
   "metadata": {},
   "source": [
    "**Save prediction**"
   ]
  },
  {
   "cell_type": "code",
   "execution_count": 25,
   "metadata": {},
   "outputs": [],
   "source": [
    "import csv\n",
    "f_name = dirPOutput + 'optimizexgboost.csv'\n",
    "\n",
    "df_test = pd.read_csv(dirRawData + 'test.csv')\n",
    "\n",
    "with open(f_name, 'w',newline='') as csvfile:\n",
    "    writer=csv.writer(csvfile,delimiter=',')\n",
    "    writer.writerow([\"id\", \"target\"])\n",
    "    writer.writerows(zip(df_test[df_test.columns[0]], xgbopt_prob[:,1]))"
   ]
  },
  {
   "cell_type": "code",
   "execution_count": 26,
   "metadata": {},
   "outputs": [],
   "source": [
    "#save data\n",
    "xgbopt_prob_design = grid.predict_proba(X_design)\n",
    "\n",
    "dict_ = {'xgbopt_prob': xgbopt_prob_design,\n",
    "        'xgbopt_prob_test' : xgbopt_prob}\n",
    "\n",
    "f_name = dirPData + 'xgb.pickle'\n",
    "with open(f_name, \"wb\") as f:\n",
    "    pickle.dump(dict_, f)\n",
    "del f_name"
   ]
  },
  {
   "cell_type": "code",
   "execution_count": 29,
   "metadata": {},
   "outputs": [],
   "source": [
    "#save prediction 2\n",
    "import csv\n",
    "f_name = dirPOutput + 'optimizexgboost2.csv'\n",
    "\n",
    "df_test = pd.read_csv(dirRawData + 'test.csv')\n",
    "\n",
    "with open(f_name, 'w',newline='') as csvfile:\n",
    "    writer=csv.writer(csvfile,delimiter=',')\n",
    "    writer.writerow([\"id\", \"target\"])\n",
    "    writer.writerows(zip(df_test[df_test.columns[0]], xgbopt2_prob[:,1]))"
   ]
  },
  {
   "cell_type": "code",
   "execution_count": 32,
   "metadata": {},
   "outputs": [],
   "source": [
    "#save prediction 3\n",
    "import csv\n",
    "f_name = dirPOutput + 'optimizexgboost3.csv'\n",
    "\n",
    "df_test = pd.read_csv(dirRawData + 'test.csv')\n",
    "\n",
    "with open(f_name, 'w',newline='') as csvfile:\n",
    "    writer=csv.writer(csvfile,delimiter=',')\n",
    "    writer.writerow([\"id\", \"target\"])\n",
    "    writer.writerows(zip(df_test[df_test.columns[0]], xgbopt3_prob[:,1]))"
   ]
  },
  {
   "cell_type": "code",
   "execution_count": null,
   "metadata": {},
   "outputs": [],
   "source": []
  }
 ],
 "metadata": {
  "kernelspec": {
   "display_name": "Python 3",
   "language": "python",
   "name": "python3"
  },
  "language_info": {
   "codemirror_mode": {
    "name": "ipython",
    "version": 3
   },
   "file_extension": ".py",
   "mimetype": "text/x-python",
   "name": "python",
   "nbconvert_exporter": "python",
   "pygments_lexer": "ipython3",
   "version": "3.6.8"
  }
 },
 "nbformat": 4,
 "nbformat_minor": 2
}
