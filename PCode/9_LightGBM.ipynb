{
 "cells": [
  {
   "cell_type": "markdown",
   "metadata": {},
   "source": [
    "# 9.LightGBM"
   ]
  },
  {
   "cell_type": "markdown",
   "metadata": {},
   "source": [
    "#### Import packages"
   ]
  },
  {
   "cell_type": "code",
   "execution_count": 1,
   "metadata": {},
   "outputs": [],
   "source": [
    "import os\n",
    "import numpy as np\n",
    "import pandas as pd\n",
    "import pickle\n",
    "import matplotlib.pyplot as plt\n",
    "%matplotlib inline\n",
    "\n",
    "import lightgbm as lgb"
   ]
  },
  {
   "cell_type": "markdown",
   "metadata": {},
   "source": [
    "#### set directories"
   ]
  },
  {
   "cell_type": "code",
   "execution_count": 2,
   "metadata": {},
   "outputs": [
    {
     "name": "stdout",
     "output_type": "stream",
     "text": [
      "C:\\Users\\munch\\Documents\\Cass MSc\\Term 3\\Machine Learning\\Coursework\\PCode\n"
     ]
    }
   ],
   "source": [
    "print(os.getcwd())\n",
    "dirRawData = \"../RawData/\"\n",
    "dirPData = \"../PData/\"\n",
    "dirPOutput = \"../POutput/\""
   ]
  },
  {
   "cell_type": "markdown",
   "metadata": {},
   "source": [
    "#### Load Data"
   ]
  },
  {
   "cell_type": "code",
   "execution_count": 3,
   "metadata": {},
   "outputs": [
    {
     "data": {
      "text/plain": [
       "pandas.core.frame.DataFrame"
      ]
     },
     "execution_count": 3,
     "metadata": {},
     "output_type": "execute_result"
    }
   ],
   "source": [
    "df_train = pd.read_csv(dirRawData + 'train.csv')\n",
    "df_test = pd.read_csv(dirRawData + 'test.csv')\n",
    "type(df_train)"
   ]
  },
  {
   "cell_type": "code",
   "execution_count": 4,
   "metadata": {},
   "outputs": [],
   "source": [
    "f_name = dirPData + '01_df_all.pickle'\n",
    "\n",
    "with (open(f_name, \"rb\")) as f:\n",
    "    dict_ = pickle.load(f)\n",
    "\n",
    "    \n",
    "vars_ind_num = dict_['vars_ind_num']\n",
    "vars_ind_categorical = dict_['vars_ind_categorical']\n",
    "df_all = dict_['df_all']\n",
    "\n",
    "del f_name, dict_"
   ]
  },
  {
   "cell_type": "code",
   "execution_count": 5,
   "metadata": {},
   "outputs": [],
   "source": [
    "f_name = dirPData + '02_vars.pickle'\n",
    "with open(f_name, \"rb\") as f:\n",
    "    dict_ = pickle.load(f)\n",
    "    \n",
    "vars_ind_num = dict_['vars_ind_num']\n",
    "var_dep = dict_['var_dep']\n",
    "vars_ind_categorical = dict_['vars_ind_categorical']\n",
    "vars_ind_onehot = dict_['vars_ind_onehot']\n",
    "\n",
    "del f_name, dict_"
   ]
  },
  {
   "cell_type": "markdown",
   "metadata": {},
   "source": [
    "#### Set functions"
   ]
  },
  {
   "cell_type": "code",
   "execution_count": 10,
   "metadata": {},
   "outputs": [],
   "source": [
    "def fn_MAE(actuals, predictions):\n",
    "    return (np.mean(np.abs(predictions - actuals)))\n",
    "\n",
    "def fn_RMSE(actuals, predictions):\n",
    "    return np.round(np.sqrt(np.mean((predictions - actuals)**2)))"
   ]
  },
  {
   "cell_type": "markdown",
   "metadata": {},
   "source": [
    "#### split data into training, validation and test folds"
   ]
  },
  {
   "cell_type": "code",
   "execution_count": 11,
   "metadata": {},
   "outputs": [],
   "source": [
    "#split train data into 10 folds (0 to 9)\n",
    "rng = np.random.RandomState(2018)\n",
    "fold = rng.randint(0,10,df_train.shape[0])\n",
    "df_train.loc[:,'fold']= fold\n",
    "\n",
    "#let df_test_onehot have fold column with value 10\n",
    "df_test.loc[:,'fold']= 10\n",
    "\n",
    "#add back train and test dataframe to form a new df_all_onehot\n",
    "df_all = pd.concat([df_train, df_test],ignore_index = True, sort =False)   #now df_all has folds"
   ]
  },
  {
   "cell_type": "code",
   "execution_count": 12,
   "metadata": {},
   "outputs": [],
   "source": [
    "idx_train  = df_all['fold'].isin(range(9))\n",
    "idx_val    = df_all['fold'].isin([9])\n",
    "idx_design = df_all['fold'].isin(range(10))\n",
    "idx_test   = df_all['fold'].isin([10])\n",
    "\n",
    "y = df_all[var_dep].values.ravel()\n",
    "y_train = y[idx_train]\n",
    "y_val = y[idx_val]\n",
    "y_design = y[idx_design]\n",
    "y_test = y[idx_test]"
   ]
  },
  {
   "cell_type": "code",
   "execution_count": 13,
   "metadata": {},
   "outputs": [],
   "source": [
    "vars_ind = vars_ind_categorical + vars_ind_num"
   ]
  },
  {
   "cell_type": "code",
   "execution_count": 14,
   "metadata": {},
   "outputs": [
    {
     "data": {
      "text/html": [
       "<div>\n",
       "<style scoped>\n",
       "    .dataframe tbody tr th:only-of-type {\n",
       "        vertical-align: middle;\n",
       "    }\n",
       "\n",
       "    .dataframe tbody tr th {\n",
       "        vertical-align: top;\n",
       "    }\n",
       "\n",
       "    .dataframe thead th {\n",
       "        text-align: right;\n",
       "    }\n",
       "</style>\n",
       "<table border=\"1\" class=\"dataframe\">\n",
       "  <thead>\n",
       "    <tr style=\"text-align: right;\">\n",
       "      <th></th>\n",
       "      <th>v_char_1</th>\n",
       "      <th>v_char_2</th>\n",
       "      <th>v_char_3</th>\n",
       "      <th>v_char_4</th>\n",
       "      <th>v_char_5</th>\n",
       "      <th>v_char_6</th>\n",
       "      <th>v_char_7</th>\n",
       "      <th>v_char_8</th>\n",
       "      <th>v_char_9</th>\n",
       "      <th>v_char_10</th>\n",
       "      <th>...</th>\n",
       "      <th>v_char_114</th>\n",
       "      <th>v_char_115</th>\n",
       "      <th>v_char_116</th>\n",
       "      <th>v_char_117</th>\n",
       "      <th>v_char_118</th>\n",
       "      <th>v_char_119</th>\n",
       "      <th>v_char_120</th>\n",
       "      <th>v_char_121</th>\n",
       "      <th>v_char_122</th>\n",
       "      <th>v_char_123</th>\n",
       "    </tr>\n",
       "  </thead>\n",
       "  <tbody>\n",
       "    <tr>\n",
       "      <th>0</th>\n",
       "      <td>G</td>\n",
       "      <td>V</td>\n",
       "      <td>q</td>\n",
       "      <td>S</td>\n",
       "      <td>Q</td>\n",
       "      <td>K</td>\n",
       "      <td>Q</td>\n",
       "      <td>d</td>\n",
       "      <td>Y</td>\n",
       "      <td>V</td>\n",
       "      <td>...</td>\n",
       "      <td>D</td>\n",
       "      <td>p</td>\n",
       "      <td>n</td>\n",
       "      <td>s</td>\n",
       "      <td>a</td>\n",
       "      <td>z</td>\n",
       "      <td>q</td>\n",
       "      <td>j</td>\n",
       "      <td>W</td>\n",
       "      <td>n</td>\n",
       "    </tr>\n",
       "    <tr>\n",
       "      <th>1</th>\n",
       "      <td>G</td>\n",
       "      <td>I</td>\n",
       "      <td>q</td>\n",
       "      <td>S</td>\n",
       "      <td>Q</td>\n",
       "      <td>i</td>\n",
       "      <td>Q</td>\n",
       "      <td>d</td>\n",
       "      <td>I</td>\n",
       "      <td>p</td>\n",
       "      <td>...</td>\n",
       "      <td>D</td>\n",
       "      <td>F</td>\n",
       "      <td>n</td>\n",
       "      <td>s</td>\n",
       "      <td>d</td>\n",
       "      <td>z</td>\n",
       "      <td>q</td>\n",
       "      <td>j</td>\n",
       "      <td>W</td>\n",
       "      <td>n</td>\n",
       "    </tr>\n",
       "    <tr>\n",
       "      <th>2</th>\n",
       "      <td>G</td>\n",
       "      <td>I</td>\n",
       "      <td>L</td>\n",
       "      <td>S</td>\n",
       "      <td>Q</td>\n",
       "      <td>L</td>\n",
       "      <td>Q</td>\n",
       "      <td>h</td>\n",
       "      <td>I</td>\n",
       "      <td>p</td>\n",
       "      <td>...</td>\n",
       "      <td>D</td>\n",
       "      <td>F</td>\n",
       "      <td>n</td>\n",
       "      <td>s</td>\n",
       "      <td>d</td>\n",
       "      <td>z</td>\n",
       "      <td>q</td>\n",
       "      <td>j</td>\n",
       "      <td>W</td>\n",
       "      <td>n</td>\n",
       "    </tr>\n",
       "    <tr>\n",
       "      <th>3</th>\n",
       "      <td>G</td>\n",
       "      <td>I</td>\n",
       "      <td>q</td>\n",
       "      <td>S</td>\n",
       "      <td>Q</td>\n",
       "      <td>i</td>\n",
       "      <td>Q</td>\n",
       "      <td>h</td>\n",
       "      <td>I</td>\n",
       "      <td>p</td>\n",
       "      <td>...</td>\n",
       "      <td>D</td>\n",
       "      <td>F</td>\n",
       "      <td>n</td>\n",
       "      <td>s</td>\n",
       "      <td>d</td>\n",
       "      <td>z</td>\n",
       "      <td>q</td>\n",
       "      <td>j</td>\n",
       "      <td>W</td>\n",
       "      <td>n</td>\n",
       "    </tr>\n",
       "    <tr>\n",
       "      <th>4</th>\n",
       "      <td>G</td>\n",
       "      <td>V</td>\n",
       "      <td>q</td>\n",
       "      <td>S</td>\n",
       "      <td>Q</td>\n",
       "      <td>i</td>\n",
       "      <td>Q</td>\n",
       "      <td>d</td>\n",
       "      <td>Y</td>\n",
       "      <td>V</td>\n",
       "      <td>...</td>\n",
       "      <td>D</td>\n",
       "      <td>p</td>\n",
       "      <td>n</td>\n",
       "      <td>s</td>\n",
       "      <td>P</td>\n",
       "      <td>z</td>\n",
       "      <td>q</td>\n",
       "      <td>j</td>\n",
       "      <td>W</td>\n",
       "      <td>n</td>\n",
       "    </tr>\n",
       "  </tbody>\n",
       "</table>\n",
       "<p>5 rows × 123 columns</p>\n",
       "</div>"
      ],
      "text/plain": [
       "  v_char_1 v_char_2 v_char_3 v_char_4 v_char_5 v_char_6 v_char_7 v_char_8  \\\n",
       "0        G        V        q        S        Q        K        Q        d   \n",
       "1        G        I        q        S        Q        i        Q        d   \n",
       "2        G        I        L        S        Q        L        Q        h   \n",
       "3        G        I        q        S        Q        i        Q        h   \n",
       "4        G        V        q        S        Q        i        Q        d   \n",
       "\n",
       "  v_char_9 v_char_10  ... v_char_114 v_char_115 v_char_116 v_char_117  \\\n",
       "0        Y         V  ...          D          p          n          s   \n",
       "1        I         p  ...          D          F          n          s   \n",
       "2        I         p  ...          D          F          n          s   \n",
       "3        I         p  ...          D          F          n          s   \n",
       "4        Y         V  ...          D          p          n          s   \n",
       "\n",
       "  v_char_118 v_char_119 v_char_120 v_char_121 v_char_122 v_char_123  \n",
       "0          a          z          q          j          W          n  \n",
       "1          d          z          q          j          W          n  \n",
       "2          d          z          q          j          W          n  \n",
       "3          d          z          q          j          W          n  \n",
       "4          P          z          q          j          W          n  \n",
       "\n",
       "[5 rows x 123 columns]"
      ]
     },
     "execution_count": 14,
     "metadata": {},
     "output_type": "execute_result"
    }
   ],
   "source": [
    "df_all[vars_ind_categorical].head()"
   ]
  },
  {
   "cell_type": "markdown",
   "metadata": {},
   "source": [
    "#### One hot variables "
   ]
  },
  {
   "cell_type": "code",
   "execution_count": 15,
   "metadata": {},
   "outputs": [],
   "source": [
    "from sklearn import preprocessing\n",
    "\n",
    "for col in vars_ind_categorical:\n",
    "    le = preprocessing.LabelEncoder()\n",
    "    le.fit(df_all[col].values)\n",
    "    df_all[col] = le.transform(df_all[col].values)"
   ]
  },
  {
   "cell_type": "code",
   "execution_count": 16,
   "metadata": {},
   "outputs": [],
   "source": [
    "df_X_train  = df_all[idx_train][vars_ind]\n",
    "df_X_val    = df_all[idx_val][vars_ind]\n",
    "df_X_design = df_all[idx_design][vars_ind]\n",
    "df_X_test   = df_all[idx_test][vars_ind]\n",
    "df_X_all    = df_all[vars_ind]"
   ]
  },
  {
   "cell_type": "markdown",
   "metadata": {},
   "source": [
    "## Start lightgbm"
   ]
  },
  {
   "cell_type": "code",
   "execution_count": 17,
   "metadata": {},
   "outputs": [],
   "source": [
    "d_train  = lgb.Dataset(df_X_train,\n",
    "                       label=y_train,\n",
    "                       feature_name=vars_ind,\n",
    "                       categorical_feature=vars_ind_categorical,\n",
    "                       free_raw_data=False)\n",
    "\n",
    "d_val    = lgb.Dataset(df_X_val,\n",
    "                       label=y_val,\n",
    "                       feature_name=vars_ind,\n",
    "                       categorical_feature=vars_ind_categorical,\n",
    "                       free_raw_data=False)\n",
    "\n",
    "d_design = lgb.Dataset(df_X_design,\n",
    "                       label=y_design,\n",
    "                       feature_name=vars_ind,\n",
    "                       categorical_feature=vars_ind_categorical,\n",
    "                       free_raw_data=False)\n",
    "\n",
    "d_test   = lgb.Dataset(df_X_test,\n",
    "                       label=y_test,\n",
    "                       feature_name=vars_ind,\n",
    "                       categorical_feature=vars_ind_categorical,\n",
    "                       free_raw_data=False)\n",
    "\n",
    "d_all    = lgb.Dataset(df_X_all,\n",
    "                       feature_name=vars_ind,\n",
    "                       categorical_feature=vars_ind_categorical,\n",
    "                       free_raw_data=False)"
   ]
  },
  {
   "cell_type": "code",
   "execution_count": 18,
   "metadata": {},
   "outputs": [],
   "source": [
    "#params = {\n",
    "   #   \"boosting_type\": \"gbrt\"\n",
    "   # , \"objective\": \"Binary\"\n",
    "  #  , \"metric\": \"auc\"\n",
    "   # , \"learning_rate\" : 0.058\n",
    "  #  , \"max_depth\" :5\n",
    "  #  , \"num_leaves\": 50\n",
    "  #  , \"subsample\" : 0.7\n",
    "  #  , \"colsample_bytree\" : 0.9\n",
    " #  , \"min_data_in_leaf\" : 10\n",
    " #   , \"bagging_seed\": 2018\n",
    "  #  , \"score_tree_interval\": 100\n",
    "#}\n",
    "\n",
    "params = {\n",
    "      \"boosting_type\": \"gbrt\"\n",
    "    , \"objective\": \"Binary\"\n",
    "    , \"metric\": \"auc\"\n",
    "    , \"learning_rate\" : 0.058\n",
    "    , \"max_depth\" :5\n",
    "    , \"num_leaves\": 50\n",
    "    , \"subsample\" : 0.7\n",
    "    , \"colsample_bytree\" : 0.9\n",
    "    , \"min_data_in_leaf\" : 10\n",
    "    , \"bagging_seed\": 2018\n",
    "    , \"score_tree_interval\": 100\n",
    "}\n"
   ]
  },
  {
   "cell_type": "code",
   "execution_count": 19,
   "metadata": {},
   "outputs": [
    {
     "name": "stderr",
     "output_type": "stream",
     "text": [
      "C:\\Users\\munch\\Anaconda3\\lib\\site-packages\\lightgbm\\basic.py:1184: UserWarning: Using categorical_feature in Dataset.\n",
      "  warnings.warn('Using categorical_feature in Dataset.')\n",
      "C:\\Users\\munch\\Anaconda3\\lib\\site-packages\\lightgbm\\basic.py:742: UserWarning: categorical_feature in param dict is overridden.\n",
      "  warnings.warn('categorical_feature in param dict is overridden.')\n"
     ]
    },
    {
     "name": "stdout",
     "output_type": "stream",
     "text": [
      "Training until validation scores don't improve for 20 rounds.\n",
      "Early stopping, best iteration is:\n",
      "[96]\tvalid_0's auc: 0.888506\n"
     ]
    }
   ],
   "source": [
    "num_boost_round = 6000\n",
    "early_stopping_rounds = 20\n",
    "\n",
    "model = lgb.train(params, \n",
    "                d_train,\n",
    "                num_boost_round = num_boost_round,\n",
    "                valid_sets=[d_val],\n",
    "                early_stopping_rounds = early_stopping_rounds,\n",
    "                verbose_eval=500)"
   ]
  },
  {
   "cell_type": "code",
   "execution_count": 20,
   "metadata": {},
   "outputs": [],
   "source": [
    "pred_train = model.predict(df_X_train, num_iteration=model.best_iteration)\n",
    "pred_val   = model.predict(df_X_val, num_iteration=model.best_iteration)"
   ]
  },
  {
   "cell_type": "code",
   "execution_count": 21,
   "metadata": {},
   "outputs": [
    {
     "name": "stdout",
     "output_type": "stream",
     "text": [
      "train auc: 0.9700177480776891\n",
      "val auc: 0.8885056739073065\n"
     ]
    }
   ],
   "source": [
    "from sklearn.metrics import roc_auc_score\n",
    "auc_train = roc_auc_score(y_train,pred_train)\n",
    "auc_val = roc_auc_score(y_val,pred_val)\n",
    "print(\"train auc: {}\".format(auc_train))\n",
    "print(\"val auc: {}\".format(auc_val))"
   ]
  },
  {
   "cell_type": "code",
   "execution_count": 22,
   "metadata": {},
   "outputs": [],
   "source": [
    "pred_test=model.predict(df_X_test, num_iteration=model.best_iteration)"
   ]
  },
  {
   "cell_type": "markdown",
   "metadata": {},
   "source": [
    "#### Interpertability "
   ]
  },
  {
   "cell_type": "code",
   "execution_count": 23,
   "metadata": {},
   "outputs": [
    {
     "data": {
      "text/plain": [
       "<matplotlib.axes._subplots.AxesSubplot at 0x20930e6cbe0>"
      ]
     },
     "execution_count": 23,
     "metadata": {},
     "output_type": "execute_result"
    },
    {
     "data": {
      "image/png": "[encoded data removed]",
      "text/plain": [
       "<Figure size 432x288 with 1 Axes>"
      ]
     },
     "metadata": {
      "needs_background": "light"
     },
     "output_type": "display_data"
    }
   ],
   "source": [
    "lgb.plot_importance( model, ax=None, height=0.5, xlim=None, ylim=None, \n",
    "    title='Feature importance', xlabel='Feature importance', ylabel='Features',\n",
    "    importance_type='split', max_num_features=10, ignore_zero=True, \n",
    "    figsize=None, grid=True)\n",
    "\n",
    "# show the importance of feature \n"
   ]
  },
  {
   "cell_type": "markdown",
   "metadata": {},
   "source": [
    "Beacuse the model above did not have a high score in Kaggle, we try to use gridsearch. Successfully, we got a better score "
   ]
  },
  {
   "cell_type": "markdown",
   "metadata": {},
   "source": [
    "## Gridserch to finf the best model and fit it"
   ]
  },
  {
   "cell_type": "code",
   "execution_count": 24,
   "metadata": {},
   "outputs": [],
   "source": [
    "from sklearn.model_selection import GridSearchCV"
   ]
  },
  {
   "cell_type": "markdown",
   "metadata": {},
   "source": [
    "#params = {\n",
    "      \"boosting_type\": \"gbrt\"\n",
    "    , \"objective\": \"Binary\"\n",
    "    , \"metric\": \"auc\"\n",
    "    , \"num_leaves\": 50\n",
    "    , \"subsample\" : 0.7\n",
    "    , \"colsample_bytree\" : 0.9\n",
    "    , \"bagging_seed\": 2018\n",
    "    , \"score_tree_interval\": 100\n",
    "}\n"
   ]
  },
  {
   "cell_type": "code",
   "execution_count": 25,
   "metadata": {},
   "outputs": [],
   "source": [
    "lgb_estimator =lgb.LGBMClassifier(boosting_type='gbdt',  objective='binary')"
   ]
  },
  {
   "cell_type": "code",
   "execution_count": 26,
   "metadata": {},
   "outputs": [],
   "source": [
    "param_grid ={ 'learning_rate' :[0.0575,0.058,0.06],\n",
    "              'max_depth' :[5],\n",
    "               'min_data_in_leaf': [30,25]\n",
    "}"
   ]
  },
  {
   "cell_type": "code",
   "execution_count": 27,
   "metadata": {},
   "outputs": [],
   "source": [
    "gsearch = GridSearchCV(estimator=lgb_estimator, param_grid=param_grid, cv=10)"
   ]
  },
  {
   "cell_type": "code",
   "execution_count": 28,
   "metadata": {},
   "outputs": [],
   "source": [
    "lgb_model = gsearch.fit(X=df_X_train,y=y_train )"
   ]
  },
  {
   "cell_type": "code",
   "execution_count": 29,
   "metadata": {},
   "outputs": [
    {
     "name": "stdout",
     "output_type": "stream",
     "text": [
      "{'learning_rate': 0.0575, 'max_depth': 5, 'min_data_in_leaf': 25} 0.9225157000369413\n"
     ]
    }
   ],
   "source": [
    "#print the Best parameters fot the result of gridsearch\n",
    "print(lgb_model.best_params_, lgb_model.best_score_)"
   ]
  },
  {
   "cell_type": "code",
   "execution_count": 30,
   "metadata": {},
   "outputs": [],
   "source": [
    "pred_test=lgb_model.predict_proba(df_X_test)"
   ]
  },
  {
   "cell_type": "code",
   "execution_count": null,
   "metadata": {
    "scrolled": true
   },
   "outputs": [],
   "source": []
  },
  {
   "cell_type": "markdown",
   "metadata": {},
   "source": [
    "#### Save predited data for test"
   ]
  },
  {
   "cell_type": "code",
   "execution_count": 31,
   "metadata": {},
   "outputs": [
    {
     "data": {
      "text/plain": [
       "array([0.03622958, 0.24963891, 0.02920332, ..., 0.1474256 , 0.02664611,\n",
       "       0.79343669])"
      ]
     },
     "execution_count": 31,
     "metadata": {},
     "output_type": "execute_result"
    }
   ],
   "source": [
    "lightgbm=pred_test[:,1]\n",
    "lightgbm"
   ]
  },
  {
   "cell_type": "code",
   "execution_count": 32,
   "metadata": {},
   "outputs": [],
   "source": [
    "import csv\n",
    "f_name = dirPOutput + 'lightgbmbinary7.csv'\n",
    "\n",
    "df_test = pd.read_csv(dirRawData + 'test.csv')\n",
    "\n",
    "with open(f_name, 'w',newline='') as csvfile:\n",
    "    writer=csv.writer(csvfile,delimiter=',')\n",
    "    writer.writerow([\"id\", \"target\"])\n",
    "    writer.writerows(zip(df_test[df_test.columns[0]], lightgbm))"
   ]
  },
  {
   "cell_type": "code",
   "execution_count": 33,
   "metadata": {},
   "outputs": [],
   "source": [
    "pred_design=lgb_model.predict_proba(df_X_design)"
   ]
  },
  {
   "cell_type": "code",
   "execution_count": 34,
   "metadata": {},
   "outputs": [],
   "source": [
    "lightgbdesign=pred_design[:,1]"
   ]
  },
  {
   "cell_type": "code",
   "execution_count": 39,
   "metadata": {},
   "outputs": [],
   "source": [
    "#save data\n",
    "\n",
    "dict_ = {'lgbm_prob_design': lightgbdesign,\n",
    "        'lgbm_prob_test' : lightgbm}\n",
    "\n",
    "f_name = dirPData + 'lgbm.pickle'\n",
    "with open(f_name, \"wb\") as f:\n",
    "    pickle.dump(dict_, f)\n",
    "del f_name"
   ]
  },
  {
   "cell_type": "code",
   "execution_count": null,
   "metadata": {},
   "outputs": [],
   "source": []
  }
 ],
 "metadata": {
  "kernelspec": {
   "display_name": "Python 3",
   "language": "python",
   "name": "python3"
  },
  "language_info": {
   "codemirror_mode": {
    "name": "ipython",
    "version": 3
   },
   "file_extension": ".py",
   "mimetype": "text/x-python",
   "name": "python",
   "nbconvert_exporter": "python",
   "pygments_lexer": "ipython3",
   "version": "3.6.8"
  }
 },
 "nbformat": 4,
 "nbformat_minor": 2
}
