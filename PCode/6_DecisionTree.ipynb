{
 "cells": [
  {
   "cell_type": "markdown",
   "metadata": {},
   "source": [
    "# 6. Decision Tree"
   ]
  },
  {
   "cell_type": "markdown",
   "metadata": {},
   "source": [
    "#### Import packages"
   ]
  },
  {
   "cell_type": "code",
   "execution_count": 2,
   "metadata": {},
   "outputs": [],
   "source": [
    "import os\n",
    "import numpy as np\n",
    "import pandas as pd\n",
    "import pickle\n",
    "\n",
    "from sklearn.preprocessing import StandardScaler\n",
    "from sklearn import tree\n",
    "from sklearn.tree import DecisionTreeClassifier\n",
    "import matplotlib.pyplot as plt\n",
    "%matplotlib inline"
   ]
  },
  {
   "cell_type": "markdown",
   "metadata": {},
   "source": [
    "#### set directories"
   ]
  },
  {
   "cell_type": "code",
   "execution_count": 3,
   "metadata": {},
   "outputs": [
    {
     "name": "stdout",
     "output_type": "stream",
     "text": [
      "C:\\Users\\munch\\Documents\\Cass MSc\\Term 3\\Machine Learning\\Coursework\\PCode\n"
     ]
    }
   ],
   "source": [
    "print(os.getcwd())\n",
    "dirRawData = \"../RawData/\"\n",
    "dirPData = \"../PData/\"\n",
    "dirPOutput = \"../POutput/\""
   ]
  },
  {
   "cell_type": "markdown",
   "metadata": {},
   "source": [
    "#### Load Data"
   ]
  },
  {
   "cell_type": "code",
   "execution_count": 4,
   "metadata": {},
   "outputs": [],
   "source": [
    "f_name = dirPData + '02_df.pickle'\n",
    "with open(f_name, \"rb\") as f:\n",
    "    dict_ = pickle.load(f)\n",
    "    \n",
    "df_all_onehot = dict_['df_all_onehot']\n",
    "\n",
    "del f_name, dict_\n",
    "\n",
    "\n",
    "f_name = dirPData + '02_vars.pickle'\n",
    "with open(f_name, \"rb\") as f:\n",
    "    dict_ = pickle.load(f)\n",
    "    \n",
    "vars_ind_num = dict_['vars_ind_num']\n",
    "var_dep = dict_['var_dep']\n",
    "vars_ind_categorical = dict_['vars_ind_categorical']\n",
    "vars_ind_onehot = dict_['vars_ind_onehot']\n",
    "\n",
    "del f_name, dict_"
   ]
  },
  {
   "cell_type": "markdown",
   "metadata": {},
   "source": [
    "#### split data into training, validation and test folds"
   ]
  },
  {
   "cell_type": "code",
   "execution_count": 5,
   "metadata": {},
   "outputs": [],
   "source": [
    "idx_train  = np.where(df_all_onehot['fold'].isin(np.arange(0,8)))[0] #[0,1,2,3,4,5,6,7]\n",
    "idx_val    = np.where(df_all_onehot['fold'].isin([8,9]))[0] #[8,9]\n",
    "idx_design = np.where(df_all_onehot['fold'].isin(np.arange(0,10)))[0] #[0,1,2,3,4,5,6,7,8,9]\n",
    "idx_test = np.where(df_all_onehot['fold'].isin([10]))[0]"
   ]
  },
  {
   "cell_type": "code",
   "execution_count": 6,
   "metadata": {},
   "outputs": [],
   "source": [
    "vars_ind = vars_ind_num + vars_ind_onehot"
   ]
  },
  {
   "cell_type": "code",
   "execution_count": 7,
   "metadata": {},
   "outputs": [],
   "source": [
    "x = df_all_onehot[vars_ind].values\n",
    "y = df_all_onehot[var_dep].values\n",
    "\n",
    "y_train = y[idx_train]\n",
    "y_val = y[idx_val]\n",
    "y_design = y[idx_design]"
   ]
  },
  {
   "cell_type": "code",
   "execution_count": 8,
   "metadata": {},
   "outputs": [
    {
     "data": {
      "text/plain": [
       "(9609, 1)"
      ]
     },
     "execution_count": 8,
     "metadata": {},
     "output_type": "execute_result"
    }
   ],
   "source": [
    "y_train.shape"
   ]
  },
  {
   "cell_type": "markdown",
   "metadata": {},
   "source": [
    "## Start the Decision Tree"
   ]
  },
  {
   "cell_type": "code",
   "execution_count": 9,
   "metadata": {},
   "outputs": [],
   "source": [
    "#Standardize the data\n",
    "from sklearn.preprocessing import StandardScaler\n",
    "\n",
    "standardScaler_ = StandardScaler()\n",
    "standardScaler_.fit(x[idx_train])\n",
    "\n",
    "X_train = standardScaler_.transform(x[idx_train])\n",
    "X_val   = standardScaler_.transform(x[idx_val])\n",
    "X_test = standardScaler_.transform(x[idx_test])\n",
    "X_design = standardScaler_.transform(x[idx_design])"
   ]
  },
  {
   "cell_type": "code",
   "execution_count": 10,
   "metadata": {},
   "outputs": [],
   "source": [
    "clf = tree.DecisionTreeClassifier(max_depth=6,random_state=2018)"
   ]
  },
  {
   "cell_type": "code",
   "execution_count": 11,
   "metadata": {},
   "outputs": [
    {
     "data": {
      "text/plain": [
       "DecisionTreeClassifier(class_weight=None, criterion='gini', max_depth=6,\n",
       "                       max_features=None, max_leaf_nodes=None,\n",
       "                       min_impurity_decrease=0.0, min_impurity_split=None,\n",
       "                       min_samples_leaf=1, min_samples_split=2,\n",
       "                       min_weight_fraction_leaf=0.0, presort=False,\n",
       "                       random_state=2018, splitter='best')"
      ]
     },
     "execution_count": 11,
     "metadata": {},
     "output_type": "execute_result"
    }
   ],
   "source": [
    "clf.fit(X_train, np.ravel(y_train))"
   ]
  },
  {
   "cell_type": "code",
   "execution_count": 12,
   "metadata": {},
   "outputs": [],
   "source": [
    "pred_train = clf.predict(X_train)\n",
    "pred_val   = clf.predict(X_val)\n",
    "pred_test  = clf.predict(X_test)\n",
    "#they are binary"
   ]
  },
  {
   "cell_type": "markdown",
   "metadata": {},
   "source": [
    "\n",
    "y_train= y[idx_train].reshape(9609,1)\n",
    "y_val= y[idx_val].reshape(2353,1)\n",
    "y_test= y[idx_test].reshape(5121,1)"
   ]
  },
  {
   "cell_type": "markdown",
   "metadata": {},
   "source": [
    "## Interpretability"
   ]
  },
  {
   "cell_type": "code",
   "execution_count": 13,
   "metadata": {},
   "outputs": [
    {
     "data": {
      "text/plain": [
       "array([0.02096021, 0.01163249, 0.01656923, 0.01602356, 0.00548691,\n",
       "       0.00913669, 0.00909319, 0.03303981, 0.04809276, 0.01212425,\n",
       "       0.03990693, 0.00596144, 0.0080273 , 0.00873145, 0.0069338 ,\n",
       "       0.00917596, 0.05468019, 0.00842255, 0.00580306, 0.00785831,\n",
       "       0.24028457, 0.02060601, 0.0105419 , 0.10123597, 0.0108455 ,\n",
       "       0.00372236, 0.00816055, 0.0270972 , 0.01657865, 0.00729791,\n",
       "       0.00789339, 0.07275908, 0.00362691, 0.04705387, 0.04593912,\n",
       "       0.00717826, 0.00561308, 0.02590555])"
      ]
     },
     "execution_count": 13,
     "metadata": {},
     "output_type": "execute_result"
    }
   ],
   "source": [
    "#show the how important feathures are\n",
    "importances = clf.feature_importances_[clf.feature_importances_>0]\n",
    "importances"
   ]
  },
  {
   "cell_type": "code",
   "execution_count": 14,
   "metadata": {},
   "outputs": [
    {
     "name": "stdout",
     "output_type": "stream",
     "text": [
      "{'id': 0.020960205387772164, 'v_num_1': 0.011632494905154823, 'v_num_2': 0.016569228994578206, 'v_num_3': 0.016023562971189204, 'v_num_4': 0.005486914943015481, 'v_num_5': 0.00913669376948922, 'v_num_6': 0.00909318570392023, 'v_num_7': 0.03303981497751674, 'v_num_8': 0.04809276333506209, 'v_num_9': 0.012124247605226969, 'v_num_10': 0.03990692916142454, 'v_num_11': 0.005961441676521127, 'v_num_12': 0.008027304517598508, 'v_num_13': 0.00873145403668609, 'v_num_14': 0.0069338017350154225, 'v_num_15': 0.009175964424008294, 'v_num_16': 0.05468019482067235, 'v_num_17': 0.008422551630199148, 'v_num_18': 0.005803058682843677, 'v_num_19': 0.00785830863301748, 'v_num_20': 0.24028456918347002, 'v_num_21': 0.020606007849906103, 'v_num_22': 0.010541899734963604, 'v_num_23': 0.10123596583441269, 'v_num_24': 0.010845498203696537, 'v_num_25': 0.0037223567209030187, 'v_num_26': 0.008160551272748924, 'v_num_27': 0.027097201240329223, 'v_num_28': 0.016578649910020504, 'v_num_29': 0.007297913484112586, 'v_num_30': 0.007893390367986306, 'v_num_31': 0.07275908073518621, 'v_num_33': 0.0036269116767772966, 'v_num_34': 0.04705387279002648, 'v_num_35': 0.045939122643709376, 'v_num_36': 0.007178262693621732, 'v_num_37': 0.0056130775950124865, 'v_num_38': 0.025905546152205167}\n"
     ]
    }
   ],
   "source": [
    "#print the varibles'name that are important\n",
    "print(dict(zip(df_all_onehot[vars_ind].columns, importances)))"
   ]
  },
  {
   "cell_type": "markdown",
   "metadata": {},
   "source": [
    "#### Cross Validation \n",
    "train score is 0.9333957747944636\n",
    "<br>val score is 0.9171270718232044\n",
    "<br>average score using 10 fold cross validation on design data: 0.9128082888380371\n",
    "<br>We did not choose a bad fold to fit model"
   ]
  },
  {
   "cell_type": "code",
   "execution_count": 15,
   "metadata": {},
   "outputs": [
    {
     "name": "stdout",
     "output_type": "stream",
     "text": [
      "train score is 0.9333957747944636\n",
      "val score is 0.9171270718232044\n"
     ]
    }
   ],
   "source": [
    "#print accuracy of the training and validation\n",
    "train_score = clf.score(X_train,y_train)\n",
    "val_score = clf.score(X_val, y_val)\n",
    "print(\"train score is {}\".format(train_score))\n",
    "print(\"val score is {}\".format(val_score))"
   ]
  },
  {
   "cell_type": "code",
   "execution_count": 16,
   "metadata": {},
   "outputs": [
    {
     "name": "stdout",
     "output_type": "stream",
     "text": [
      "average score using 10 fold cross validation on design data: 0.9128082888380371\n"
     ]
    }
   ],
   "source": [
    "#kfold cross validation\n",
    "from sklearn.model_selection import KFold\n",
    "kf = KFold(n_splits=10, shuffle=False)\n",
    "\n",
    "from sklearn.model_selection import cross_val_score\n",
    "result = cross_val_score(clf, X_design, np.ravel(y_design), cv=kf, scoring='accuracy')\n",
    "print(\"average score using 10 fold cross validation on design data: {}\".format(result.mean()))"
   ]
  },
  {
   "cell_type": "markdown",
   "metadata": {},
   "source": [
    "### Performance (auc score)"
   ]
  },
  {
   "cell_type": "code",
   "execution_count": 17,
   "metadata": {},
   "outputs": [
    {
     "name": "stdout",
     "output_type": "stream",
     "text": [
      "train auc: 0.6639975197751207\n",
      "val auc: 0.6158841366172507\n"
     ]
    }
   ],
   "source": [
    "#print roc_auc_score, which is potentially a better measure\n",
    "from sklearn.metrics import roc_auc_score\n",
    "auc_train = roc_auc_score(y_train,pred_train)\n",
    "auc_val = roc_auc_score(y_val,pred_val)\n",
    "print(\"train auc: {}\".format(auc_train))\n",
    "print(\"val auc: {}\".format(auc_val))"
   ]
  },
  {
   "cell_type": "markdown",
   "metadata": {},
   "source": [
    "#### looking for the max_depth with highest auc score"
   ]
  },
  {
   "cell_type": "code",
   "execution_count": 18,
   "metadata": {},
   "outputs": [],
   "source": [
    "#set a range for k parameter\n",
    "k_range = range(1, 20) \n",
    "#variable to store the mean absolute error for each k\n",
    "auc_k = np.zeros(len(k_range)) #initialisation with 0s\n",
    "for k in k_range:\n",
    "    clf = tree.DecisionTreeClassifier(max_depth=k,random_state=2018)\n",
    "    clf.fit(X_train, y_train) \n",
    "    clf_pred_val = clf.predict(X_val)\n",
    "    auc_k[k - 1] = roc_auc_score(y_val,clf_pred_val)"
   ]
  },
  {
   "cell_type": "code",
   "execution_count": 19,
   "metadata": {
    "scrolled": true
   },
   "outputs": [
    {
     "data": {
      "image/png": "[encoded data removed]",
      "text/plain": [
       "<Figure size 720x432 with 1 Axes>"
      ]
     },
     "metadata": {
      "needs_background": "light"
     },
     "output_type": "display_data"
    }
   ],
   "source": [
    "#Plotting the validation curve to see the best k\n",
    "fig = plt.figure(figsize = (10,6))\n",
    "ax1 = fig.add_subplot(1, 1, 1)\n",
    "\n",
    "ax1.plot(k_range, auc_k, 'ko-')\n",
    "ax1.set_xlabel('k (number of max_depth used)')\n",
    "ax1.set_ylabel('auc')\n",
    "_ = plt.title('Validation Curve for clf')\n",
    "\n",
    "# shows max_depth=12 is the best one"
   ]
  },
  {
   "cell_type": "code",
   "execution_count": 20,
   "metadata": {},
   "outputs": [],
   "source": [
    "#set a range for k parameter\n",
    "k_range = range(1, 20) \n",
    "#variable to store the mean absolute error for each k\n",
    "auc_k = np.zeros(len(k_range)) #initialisation with 0s\n",
    "for k in k_range:\n",
    "    clf = tree.DecisionTreeClassifier(max_depth=k,random_state=2018)\n",
    "    clf.fit(X_train, y_train) \n",
    "    clf_pred_train = clf.predict(X_train)\n",
    "    auc_k[k - 1] = roc_auc_score(y_train,clf_pred_train)"
   ]
  },
  {
   "cell_type": "code",
   "execution_count": 21,
   "metadata": {},
   "outputs": [
    {
     "data": {
      "image/png": "[encoded data removed]",
      "text/plain": [
       "<Figure size 720x432 with 1 Axes>"
      ]
     },
     "metadata": {
      "needs_background": "light"
     },
     "output_type": "display_data"
    }
   ],
   "source": [
    "#Plotting the validation curve to see the best k\n",
    "fig = plt.figure(figsize = (10,6))\n",
    "ax1 = fig.add_subplot(1, 1, 1)\n",
    "\n",
    "ax1.plot(k_range, auc_k, 'ko-')\n",
    "ax1.set_xlabel('k (number of max_depth used)')\n",
    "ax1.set_ylabel('auc')\n",
    "_ = plt.title('Validation Curve for clf')"
   ]
  },
  {
   "cell_type": "markdown",
   "metadata": {},
   "source": [
    "howaver, the model with max_depth=12 in kaggle gives us a lower score. Possible reason may come from overfitting or we need to tune parameters more than max_depth."
   ]
  },
  {
   "cell_type": "markdown",
   "metadata": {},
   "source": [
    "#### GridSearch to find the best max_depth "
   ]
  },
  {
   "cell_type": "code",
   "execution_count": 22,
   "metadata": {},
   "outputs": [
    {
     "name": "stdout",
     "output_type": "stream",
     "text": [
      "0.7651039784132685\n",
      "{'max_depth': 6}\n",
      "DecisionTreeClassifier(class_weight=None, criterion='gini', max_depth=6,\n",
      "                       max_features=None, max_leaf_nodes=None,\n",
      "                       min_impurity_decrease=0.0, min_impurity_split=None,\n",
      "                       min_samples_leaf=1, min_samples_split=2,\n",
      "                       min_weight_fraction_leaf=0.0, presort=False,\n",
      "                       random_state=2018, splitter='best')\n"
     ]
    }
   ],
   "source": [
    "from sklearn.model_selection import GridSearchCV\n",
    "max_depth=[3,4,5,6,7,8,9,10,11,12]\n",
    "param_grid=dict(max_depth=max_depth)\n",
    "clf2= tree.DecisionTreeClassifier(random_state=2018)\n",
    "grid= GridSearchCV(clf2,param_grid,cv=10,scoring='roc_auc')\n",
    "grid.fit(X_design,y_design)\n",
    "print(grid.best_score_)\n",
    "print(grid.best_params_)\n",
    "print(grid.best_estimator_)\n",
    "#it shows the max_depth=6  is the best one, so we use this one to fit model "
   ]
  },
  {
   "cell_type": "code",
   "execution_count": 23,
   "metadata": {},
   "outputs": [
    {
     "data": {
      "text/plain": [
       "GridSearchCV(cv=10, error_score='raise-deprecating',\n",
       "             estimator=DecisionTreeClassifier(class_weight=None,\n",
       "                                              criterion='gini', max_depth=None,\n",
       "                                              max_features=None,\n",
       "                                              max_leaf_nodes=None,\n",
       "                                              min_impurity_decrease=0.0,\n",
       "                                              min_impurity_split=None,\n",
       "                                              min_samples_leaf=1,\n",
       "                                              min_samples_split=2,\n",
       "                                              min_weight_fraction_leaf=0.0,\n",
       "                                              presort=False, random_state=2018,\n",
       "                                              splitter='best'),\n",
       "             iid='warn', n_jobs=None,\n",
       "             param_grid={'max_depth': [3, 4, 5, 6, 7, 8, 9, 10, 11, 12]},\n",
       "             pre_dispatch='2*n_jobs', refit=True, return_train_score=False,\n",
       "             scoring='roc_auc', verbose=0)"
      ]
     },
     "execution_count": 23,
     "metadata": {},
     "output_type": "execute_result"
    }
   ],
   "source": [
    "grid.fit(X_design,y_design)"
   ]
  },
  {
   "cell_type": "code",
   "execution_count": 24,
   "metadata": {},
   "outputs": [],
   "source": [
    "#change binary to probability\n",
    "probs = grid.predict_proba(X_test)"
   ]
  },
  {
   "cell_type": "code",
   "execution_count": 25,
   "metadata": {},
   "outputs": [],
   "source": [
    "decisiontree=probs[:,1]"
   ]
  },
  {
   "cell_type": "code",
   "execution_count": 27,
   "metadata": {},
   "outputs": [],
   "source": [
    "import csv\n",
    "f_name = dirPOutput + 'decisiontree2.csv'\n",
    "\n",
    "df_test = pd.read_csv(dirRawData + 'test.csv')\n",
    "\n",
    "with open(f_name, 'w',newline='') as csvfile:\n",
    "    writer=csv.writer(csvfile,delimiter=',')\n",
    "    writer.writerow([\"id\", \"target\"])\n",
    "    writer.writerows(zip(df_test[df_test.columns[0]], decisiontree))"
   ]
  },
  {
   "cell_type": "code",
   "execution_count": 28,
   "metadata": {},
   "outputs": [],
   "source": [
    "probs2 = grid.predict_proba(X_design)"
   ]
  },
  {
   "cell_type": "code",
   "execution_count": 30,
   "metadata": {},
   "outputs": [],
   "source": [
    "dict_ = {'dt_prob_test': probs,\n",
    "        'dt_prob_design':probs2}\n",
    "\n",
    "f_name = dirPData + 'dt.pickle'\n",
    "with open(f_name, \"wb\") as f:\n",
    "    pickle.dump(dict_, f)\n",
    "del f_name"
   ]
  },
  {
   "cell_type": "code",
   "execution_count": null,
   "metadata": {},
   "outputs": [],
   "source": []
  },
  {
   "cell_type": "code",
   "execution_count": null,
   "metadata": {},
   "outputs": [],
   "source": []
  },
  {
   "cell_type": "code",
   "execution_count": null,
   "metadata": {},
   "outputs": [],
   "source": []
  }
 ],
 "metadata": {
  "kernelspec": {
   "display_name": "Python 3",
   "language": "python",
   "name": "python3"
  },
  "language_info": {
   "codemirror_mode": {
    "name": "ipython",
    "version": 3
   },
   "file_extension": ".py",
   "mimetype": "text/x-python",
   "name": "python",
   "nbconvert_exporter": "python",
   "pygments_lexer": "ipython3",
   "version": "3.6.8"
  }
 },
 "nbformat": 4,
 "nbformat_minor": 2
}
